{
 "cells": [
  {
   "cell_type": "code",
   "execution_count": 3,
   "id": "2e1e9fe8",
   "metadata": {},
   "outputs": [],
   "source": [
    "import pandas as pd\n",
    "import numpy as np\n",
    "import datetime as dt\n",
    "import matplotlib.pyplot as plt\n",
    "%matplotlib inline"
   ]
  },
  {
   "cell_type": "code",
   "execution_count": 4,
   "id": "2f3dbd23",
   "metadata": {},
   "outputs": [],
   "source": [
    "df = pd.read_csv('ff_cars.csv', index_col=0)"
   ]
  },
  {
   "cell_type": "code",
   "execution_count": 5,
   "id": "d92e1b5f",
   "metadata": {},
   "outputs": [
    {
     "data": {
      "text/html": [
       "<div>\n",
       "<style scoped>\n",
       "    .dataframe tbody tr th:only-of-type {\n",
       "        vertical-align: middle;\n",
       "    }\n",
       "\n",
       "    .dataframe tbody tr th {\n",
       "        vertical-align: top;\n",
       "    }\n",
       "\n",
       "    .dataframe thead th {\n",
       "        text-align: right;\n",
       "    }\n",
       "</style>\n",
       "<table border=\"1\" class=\"dataframe\">\n",
       "  <thead>\n",
       "    <tr style=\"text-align: right;\">\n",
       "      <th></th>\n",
       "      <th>Car</th>\n",
       "      <th>Manufacturer</th>\n",
       "      <th>Make</th>\n",
       "      <th>Model</th>\n",
       "      <th>Production_Year</th>\n",
       "      <th>Status</th>\n",
       "      <th>Car_Class</th>\n",
       "      <th>Film</th>\n",
       "      <th>Role</th>\n",
       "    </tr>\n",
       "  </thead>\n",
       "  <tbody>\n",
       "    <tr>\n",
       "      <th>0</th>\n",
       "      <td>1966 Chevrolet Corvette Grand Sport Sting Ray</td>\n",
       "      <td>Chevrolet (General Motors)</td>\n",
       "      <td>Chevrolet</td>\n",
       "      <td>Corvette Sting Ray</td>\n",
       "      <td>1962-1967</td>\n",
       "      <td>Discontinued</td>\n",
       "      <td>2-door convertible, 2-door coupe</td>\n",
       "      <td>Fast Five</td>\n",
       "      <td>Minor</td>\n",
       "    </tr>\n",
       "    <tr>\n",
       "      <th>1</th>\n",
       "      <td>1967 Chevrolet C/K</td>\n",
       "      <td>General Motors</td>\n",
       "      <td>Chevrolet</td>\n",
       "      <td>C-10</td>\n",
       "      <td>Discontinued</td>\n",
       "      <td>Discontinued</td>\n",
       "      <td>Pickup truck</td>\n",
       "      <td>Fast &amp; Furious</td>\n",
       "      <td>Minor</td>\n",
       "    </tr>\n",
       "    <tr>\n",
       "      <th>2</th>\n",
       "      <td>1967 Chevrolet Camaro SS</td>\n",
       "      <td>General Motors</td>\n",
       "      <td>Chevrolet</td>\n",
       "      <td>Chevrolet Camaro SS</td>\n",
       "      <td>1967</td>\n",
       "      <td>Discontinued</td>\n",
       "      <td>Pony car, Muscle car</td>\n",
       "      <td>Fast &amp; Furious 6</td>\n",
       "      <td>Minor</td>\n",
       "    </tr>\n",
       "    <tr>\n",
       "      <th>3</th>\n",
       "      <td>1967 Chevrolet Camaro Z28</td>\n",
       "      <td>General Motors</td>\n",
       "      <td>Chevrolet</td>\n",
       "      <td>Chevrolet Camaro Z28</td>\n",
       "      <td>1967</td>\n",
       "      <td>Discontinued</td>\n",
       "      <td>Customized</td>\n",
       "      <td>Furious 7</td>\n",
       "      <td>Major</td>\n",
       "    </tr>\n",
       "    <tr>\n",
       "      <th>4</th>\n",
       "      <td>1967 Ford Mustang Fastback</td>\n",
       "      <td>Ford Motor Corporation</td>\n",
       "      <td>Ford</td>\n",
       "      <td>Mustang Fastback</td>\n",
       "      <td>1967</td>\n",
       "      <td>In Production</td>\n",
       "      <td>Pony car</td>\n",
       "      <td>The Fast and the Furious: Tokyo Drift</td>\n",
       "      <td>Major</td>\n",
       "    </tr>\n",
       "    <tr>\n",
       "      <th>5</th>\n",
       "      <td>1968 Dodge Charger Hellacious</td>\n",
       "      <td>Chrysler</td>\n",
       "      <td>Dodge</td>\n",
       "      <td>Charger Hellacious</td>\n",
       "      <td>1968</td>\n",
       "      <td>Discontinued</td>\n",
       "      <td>Muscle</td>\n",
       "      <td>F9</td>\n",
       "      <td>Major</td>\n",
       "    </tr>\n",
       "    <tr>\n",
       "      <th>6</th>\n",
       "      <td>1968 Dodge Charger R/T</td>\n",
       "      <td>Chrysler</td>\n",
       "      <td>Dodge</td>\n",
       "      <td>Charger R/T</td>\n",
       "      <td>1968-1970</td>\n",
       "      <td>Discontinued</td>\n",
       "      <td>Pony car</td>\n",
       "      <td>Furious 7, The Fate of the Furious, F9</td>\n",
       "      <td>Major</td>\n",
       "    </tr>\n",
       "    <tr>\n",
       "      <th>7</th>\n",
       "      <td>1969 Ford Mustang Fastback</td>\n",
       "      <td>Ford</td>\n",
       "      <td>Ford</td>\n",
       "      <td>Mustang Fastback</td>\n",
       "      <td>1969</td>\n",
       "      <td>In Production</td>\n",
       "      <td>Classic Muscle/Pony car</td>\n",
       "      <td>Fast &amp; Furious 6</td>\n",
       "      <td>Major</td>\n",
       "    </tr>\n",
       "    <tr>\n",
       "      <th>8</th>\n",
       "      <td>1969 Yenko Camaro SYC</td>\n",
       "      <td>General Motors</td>\n",
       "      <td>Yenko</td>\n",
       "      <td>Camaro</td>\n",
       "      <td>1969</td>\n",
       "      <td>Discontinued</td>\n",
       "      <td>Pony car, Muscle car, Sports car</td>\n",
       "      <td>2 Fast 2 Furious</td>\n",
       "      <td>Major</td>\n",
       "    </tr>\n",
       "    <tr>\n",
       "      <th>9</th>\n",
       "      <td>1970 Chevrolet Chevelle SS</td>\n",
       "      <td>General Motors</td>\n",
       "      <td>Chevrolet</td>\n",
       "      <td>Chevelle SS</td>\n",
       "      <td>1970</td>\n",
       "      <td>Discontinued</td>\n",
       "      <td>Mid-size</td>\n",
       "      <td>The Fast and the Furious, Fast &amp; Furious, The ...</td>\n",
       "      <td>Major</td>\n",
       "    </tr>\n",
       "    <tr>\n",
       "      <th>10</th>\n",
       "      <td>1970 Chevrolet Monte Carlo</td>\n",
       "      <td>General Motors</td>\n",
       "      <td>Chevrolet</td>\n",
       "      <td>Monte Carlo</td>\n",
       "      <td>1970</td>\n",
       "      <td>Discontinued</td>\n",
       "      <td>2 hardtop, Coupe</td>\n",
       "      <td>2 Fast 2 Furious</td>\n",
       "      <td>Minor</td>\n",
       "    </tr>\n",
       "    <tr>\n",
       "      <th>11</th>\n",
       "      <td>1970 Dodge Challenger R/T</td>\n",
       "      <td>Dodge</td>\n",
       "      <td>Dodge</td>\n",
       "      <td>Challenger R/T</td>\n",
       "      <td>1970- present</td>\n",
       "      <td>In Production</td>\n",
       "      <td>Classic Muscle/ Pony car</td>\n",
       "      <td>2 Fast 2 Furious</td>\n",
       "      <td>Minor</td>\n",
       "    </tr>\n",
       "    <tr>\n",
       "      <th>12</th>\n",
       "      <td>1970 Dodge Charger R/T</td>\n",
       "      <td>Chrysler</td>\n",
       "      <td>Dodge</td>\n",
       "      <td>Dodge Charger R/T</td>\n",
       "      <td>1970</td>\n",
       "      <td>In Production</td>\n",
       "      <td>Pony car</td>\n",
       "      <td>The Fast and the Furious, Fast &amp; Furious, Fast...</td>\n",
       "      <td>Major</td>\n",
       "    </tr>\n",
       "    <tr>\n",
       "      <th>13</th>\n",
       "      <td>1970 Plymouth Barracuda</td>\n",
       "      <td>Chrysler Corporation</td>\n",
       "      <td>Plymouth</td>\n",
       "      <td>Barracuda</td>\n",
       "      <td>1964-1974</td>\n",
       "      <td>Discontinued</td>\n",
       "      <td>Pony car</td>\n",
       "      <td>Fast &amp; Furious 6, Furious 7</td>\n",
       "      <td>Minor</td>\n",
       "    </tr>\n",
       "    <tr>\n",
       "      <th>14</th>\n",
       "      <td>1971 Chevrolet Monte Carlo</td>\n",
       "      <td>General Motors</td>\n",
       "      <td>Chevrolet</td>\n",
       "      <td>Monte Carlo</td>\n",
       "      <td>1971</td>\n",
       "      <td>Discontinued</td>\n",
       "      <td>Coupe</td>\n",
       "      <td>The Fast and the Furious: Tokyo Drift</td>\n",
       "      <td>Minor</td>\n",
       "    </tr>\n",
       "  </tbody>\n",
       "</table>\n",
       "</div>"
      ],
      "text/plain": [
       "                                              Car                Manufacturer  \\\n",
       "0   1966 Chevrolet Corvette Grand Sport Sting Ray  Chevrolet (General Motors)   \n",
       "1                              1967 Chevrolet C/K              General Motors   \n",
       "2                        1967 Chevrolet Camaro SS              General Motors   \n",
       "3                       1967 Chevrolet Camaro Z28              General Motors   \n",
       "4                      1967 Ford Mustang Fastback      Ford Motor Corporation   \n",
       "5                   1968 Dodge Charger Hellacious                    Chrysler   \n",
       "6                          1968 Dodge Charger R/T                    Chrysler   \n",
       "7                      1969 Ford Mustang Fastback                        Ford   \n",
       "8                           1969 Yenko Camaro SYC              General Motors   \n",
       "9                      1970 Chevrolet Chevelle SS              General Motors   \n",
       "10                     1970 Chevrolet Monte Carlo              General Motors   \n",
       "11                      1970 Dodge Challenger R/T                       Dodge   \n",
       "12                         1970 Dodge Charger R/T                    Chrysler   \n",
       "13                        1970 Plymouth Barracuda        Chrysler Corporation   \n",
       "14                     1971 Chevrolet Monte Carlo              General Motors   \n",
       "\n",
       "         Make                 Model Production_Year         Status  \\\n",
       "0   Chevrolet    Corvette Sting Ray       1962-1967   Discontinued   \n",
       "1   Chevrolet                  C-10    Discontinued   Discontinued   \n",
       "2   Chevrolet   Chevrolet Camaro SS            1967   Discontinued   \n",
       "3   Chevrolet  Chevrolet Camaro Z28            1967   Discontinued   \n",
       "4        Ford      Mustang Fastback            1967  In Production   \n",
       "5       Dodge    Charger Hellacious            1968   Discontinued   \n",
       "6       Dodge           Charger R/T       1968-1970   Discontinued   \n",
       "7        Ford      Mustang Fastback            1969  In Production   \n",
       "8       Yenko                Camaro            1969   Discontinued   \n",
       "9   Chevrolet           Chevelle SS            1970   Discontinued   \n",
       "10  Chevrolet           Monte Carlo            1970   Discontinued   \n",
       "11      Dodge        Challenger R/T   1970- present  In Production   \n",
       "12      Dodge     Dodge Charger R/T            1970  In Production   \n",
       "13   Plymouth             Barracuda       1964-1974   Discontinued   \n",
       "14  Chevrolet           Monte Carlo            1971   Discontinued   \n",
       "\n",
       "                           Car_Class  \\\n",
       "0   2-door convertible, 2-door coupe   \n",
       "1                       Pickup truck   \n",
       "2               Pony car, Muscle car   \n",
       "3                         Customized   \n",
       "4                           Pony car   \n",
       "5                             Muscle   \n",
       "6                           Pony car   \n",
       "7            Classic Muscle/Pony car   \n",
       "8   Pony car, Muscle car, Sports car   \n",
       "9                           Mid-size   \n",
       "10                  2 hardtop, Coupe   \n",
       "11          Classic Muscle/ Pony car   \n",
       "12                          Pony car   \n",
       "13                          Pony car   \n",
       "14                             Coupe   \n",
       "\n",
       "                                                 Film   Role  \n",
       "0                                           Fast Five  Minor  \n",
       "1                                      Fast & Furious  Minor  \n",
       "2                                    Fast & Furious 6  Minor  \n",
       "3                                           Furious 7  Major  \n",
       "4               The Fast and the Furious: Tokyo Drift  Major  \n",
       "5                                                  F9  Major  \n",
       "6              Furious 7, The Fate of the Furious, F9  Major  \n",
       "7                                    Fast & Furious 6  Major  \n",
       "8                                    2 Fast 2 Furious  Major  \n",
       "9   The Fast and the Furious, Fast & Furious, The ...  Major  \n",
       "10                                   2 Fast 2 Furious  Minor  \n",
       "11                                   2 Fast 2 Furious  Minor  \n",
       "12  The Fast and the Furious, Fast & Furious, Fast...  Major  \n",
       "13                        Fast & Furious 6, Furious 7  Minor  \n",
       "14              The Fast and the Furious: Tokyo Drift  Minor  "
      ]
     },
     "execution_count": 5,
     "metadata": {},
     "output_type": "execute_result"
    }
   ],
   "source": [
    "df.head(15)"
   ]
  },
  {
   "cell_type": "code",
   "execution_count": 6,
   "id": "7d83341e",
   "metadata": {},
   "outputs": [
    {
     "data": {
      "text/html": [
       "<div>\n",
       "<style scoped>\n",
       "    .dataframe tbody tr th:only-of-type {\n",
       "        vertical-align: middle;\n",
       "    }\n",
       "\n",
       "    .dataframe tbody tr th {\n",
       "        vertical-align: top;\n",
       "    }\n",
       "\n",
       "    .dataframe thead th {\n",
       "        text-align: right;\n",
       "    }\n",
       "</style>\n",
       "<table border=\"1\" class=\"dataframe\">\n",
       "  <thead>\n",
       "    <tr style=\"text-align: right;\">\n",
       "      <th></th>\n",
       "      <th>Car</th>\n",
       "      <th>Manufacturer</th>\n",
       "      <th>Make</th>\n",
       "      <th>Model</th>\n",
       "      <th>Production_Year</th>\n",
       "      <th>Status</th>\n",
       "      <th>Car_Class</th>\n",
       "      <th>Film</th>\n",
       "      <th>Role</th>\n",
       "    </tr>\n",
       "  </thead>\n",
       "  <tbody>\n",
       "    <tr>\n",
       "      <th>18</th>\n",
       "      <td>1973 Chevrolet Camaro RS-Z28 F-Bomb</td>\n",
       "      <td>General Motors</td>\n",
       "      <td>Chevrolet</td>\n",
       "      <td>Camaro RS Z28</td>\n",
       "      <td>1973</td>\n",
       "      <td>Discontinued</td>\n",
       "      <td>NaN</td>\n",
       "      <td>Fast &amp; Furious</td>\n",
       "      <td>Minor</td>\n",
       "    </tr>\n",
       "    <tr>\n",
       "      <th>37</th>\n",
       "      <td>2 Fast 2 Furious Cars</td>\n",
       "      <td>NaN</td>\n",
       "      <td>NaN</td>\n",
       "      <td>NaN</td>\n",
       "      <td>NaN</td>\n",
       "      <td>NaN</td>\n",
       "      <td>NaN</td>\n",
       "      <td>NaN</td>\n",
       "      <td>NaN</td>\n",
       "    </tr>\n",
       "    <tr>\n",
       "      <th>47</th>\n",
       "      <td>2003 Mitsubishi Eclipse Spyder</td>\n",
       "      <td>Mitsubishi Motors</td>\n",
       "      <td>Mitsubishi</td>\n",
       "      <td>NaN</td>\n",
       "      <td>NaN</td>\n",
       "      <td>NaN</td>\n",
       "      <td>NaN</td>\n",
       "      <td>NaN</td>\n",
       "      <td>NaN</td>\n",
       "    </tr>\n",
       "    <tr>\n",
       "      <th>80</th>\n",
       "      <td>Astana Hotto</td>\n",
       "      <td>NaN</td>\n",
       "      <td>NaN</td>\n",
       "      <td>NaN</td>\n",
       "      <td>NaN</td>\n",
       "      <td>NaN</td>\n",
       "      <td>NaN</td>\n",
       "      <td>NaN</td>\n",
       "      <td>NaN</td>\n",
       "    </tr>\n",
       "    <tr>\n",
       "      <th>82</th>\n",
       "      <td>Chevrolet Camaro</td>\n",
       "      <td>Chevrolet, General Motors</td>\n",
       "      <td>NaN</td>\n",
       "      <td>NaN</td>\n",
       "      <td>NaN</td>\n",
       "      <td>NaN</td>\n",
       "      <td>NaN</td>\n",
       "      <td>NaN</td>\n",
       "      <td>NaN</td>\n",
       "    </tr>\n",
       "    <tr>\n",
       "      <th>83</th>\n",
       "      <td>Chevrolet Monte Carlo</td>\n",
       "      <td>Chevrolet</td>\n",
       "      <td>NaN</td>\n",
       "      <td>NaN</td>\n",
       "      <td>NaN</td>\n",
       "      <td>NaN</td>\n",
       "      <td>NaN</td>\n",
       "      <td>NaN</td>\n",
       "      <td>NaN</td>\n",
       "    </tr>\n",
       "    <tr>\n",
       "      <th>84</th>\n",
       "      <td>Chevrolet Monte Carlo</td>\n",
       "      <td>Chevrolet</td>\n",
       "      <td>NaN</td>\n",
       "      <td>NaN</td>\n",
       "      <td>NaN</td>\n",
       "      <td>NaN</td>\n",
       "      <td>NaN</td>\n",
       "      <td>NaN</td>\n",
       "      <td>NaN</td>\n",
       "    </tr>\n",
       "    <tr>\n",
       "      <th>86</th>\n",
       "      <td>Dodge Challenger</td>\n",
       "      <td>NaN</td>\n",
       "      <td>NaN</td>\n",
       "      <td>NaN</td>\n",
       "      <td>NaN</td>\n",
       "      <td>NaN</td>\n",
       "      <td>NaN</td>\n",
       "      <td>NaN</td>\n",
       "      <td>NaN</td>\n",
       "    </tr>\n",
       "    <tr>\n",
       "      <th>87</th>\n",
       "      <td>Dodge Charger</td>\n",
       "      <td>Chrysler</td>\n",
       "      <td>Dodge</td>\n",
       "      <td>NaN</td>\n",
       "      <td>NaN</td>\n",
       "      <td>NaN</td>\n",
       "      <td>NaN</td>\n",
       "      <td>NaN</td>\n",
       "      <td>NaN</td>\n",
       "    </tr>\n",
       "    <tr>\n",
       "      <th>89</th>\n",
       "      <td>Dodge Ram</td>\n",
       "      <td>NaN</td>\n",
       "      <td>NaN</td>\n",
       "      <td>NaN</td>\n",
       "      <td>NaN</td>\n",
       "      <td>NaN</td>\n",
       "      <td>NaN</td>\n",
       "      <td>NaN</td>\n",
       "      <td>NaN</td>\n",
       "    </tr>\n",
       "    <tr>\n",
       "      <th>90</th>\n",
       "      <td>Dodge Stealth</td>\n",
       "      <td>NaN</td>\n",
       "      <td>NaN</td>\n",
       "      <td>NaN</td>\n",
       "      <td>NaN</td>\n",
       "      <td>NaN</td>\n",
       "      <td>NaN</td>\n",
       "      <td>NaN</td>\n",
       "      <td>NaN</td>\n",
       "    </tr>\n",
       "    <tr>\n",
       "      <th>92</th>\n",
       "      <td>2013 Eagle Speedster</td>\n",
       "      <td>Eagle (recreation)Jaguar (base)</td>\n",
       "      <td>Eagle</td>\n",
       "      <td>Speedster</td>\n",
       "      <td>By order only</td>\n",
       "      <td>By order only</td>\n",
       "      <td>NaN</td>\n",
       "      <td>Fast &amp; Furious 6</td>\n",
       "      <td>Minor</td>\n",
       "    </tr>\n",
       "    <tr>\n",
       "      <th>93</th>\n",
       "      <td>Fast &amp; Furious 6 Cars</td>\n",
       "      <td>NaN</td>\n",
       "      <td>NaN</td>\n",
       "      <td>NaN</td>\n",
       "      <td>NaN</td>\n",
       "      <td>NaN</td>\n",
       "      <td>NaN</td>\n",
       "      <td>NaN</td>\n",
       "      <td>NaN</td>\n",
       "    </tr>\n",
       "    <tr>\n",
       "      <th>94</th>\n",
       "      <td>Fast &amp; Furious Cars</td>\n",
       "      <td>NaN</td>\n",
       "      <td>NaN</td>\n",
       "      <td>NaN</td>\n",
       "      <td>NaN</td>\n",
       "      <td>NaN</td>\n",
       "      <td>NaN</td>\n",
       "      <td>NaN</td>\n",
       "      <td>NaN</td>\n",
       "    </tr>\n",
       "    <tr>\n",
       "      <th>95</th>\n",
       "      <td>Fast Attack Vehicle</td>\n",
       "      <td>NaN</td>\n",
       "      <td>NaN</td>\n",
       "      <td>NaN</td>\n",
       "      <td>NaN</td>\n",
       "      <td>NaN</td>\n",
       "      <td>NaN</td>\n",
       "      <td>NaN</td>\n",
       "      <td>NaN</td>\n",
       "    </tr>\n",
       "    <tr>\n",
       "      <th>96</th>\n",
       "      <td>Fast Five Cars</td>\n",
       "      <td>NaN</td>\n",
       "      <td>NaN</td>\n",
       "      <td>NaN</td>\n",
       "      <td>NaN</td>\n",
       "      <td>NaN</td>\n",
       "      <td>NaN</td>\n",
       "      <td>NaN</td>\n",
       "      <td>NaN</td>\n",
       "    </tr>\n",
       "    <tr>\n",
       "      <th>99</th>\n",
       "      <td>Ferrari FXX</td>\n",
       "      <td>NaN</td>\n",
       "      <td>NaN</td>\n",
       "      <td>NaN</td>\n",
       "      <td>NaN</td>\n",
       "      <td>NaN</td>\n",
       "      <td>NaN</td>\n",
       "      <td>NaN</td>\n",
       "      <td>NaN</td>\n",
       "    </tr>\n",
       "    <tr>\n",
       "      <th>101</th>\n",
       "      <td>Flip Car</td>\n",
       "      <td>NaN</td>\n",
       "      <td>NaN</td>\n",
       "      <td>NaN</td>\n",
       "      <td>NaN</td>\n",
       "      <td>NaN</td>\n",
       "      <td>NaN</td>\n",
       "      <td>NaN</td>\n",
       "      <td>NaN</td>\n",
       "    </tr>\n",
       "    <tr>\n",
       "      <th>106</th>\n",
       "      <td>1971 Ford Maverick</td>\n",
       "      <td>Ford</td>\n",
       "      <td>Ford</td>\n",
       "      <td>Maverick</td>\n",
       "      <td>Unknown</td>\n",
       "      <td>Discontinued</td>\n",
       "      <td>NaN</td>\n",
       "      <td>Fast Five</td>\n",
       "      <td>Minor</td>\n",
       "    </tr>\n",
       "    <tr>\n",
       "      <th>107</th>\n",
       "      <td>Ford Mustang</td>\n",
       "      <td>Ford</td>\n",
       "      <td>Ford</td>\n",
       "      <td>NaN</td>\n",
       "      <td>NaN</td>\n",
       "      <td>NaN</td>\n",
       "      <td>NaN</td>\n",
       "      <td>NaN</td>\n",
       "      <td>NaN</td>\n",
       "    </tr>\n",
       "    <tr>\n",
       "      <th>108</th>\n",
       "      <td>Ford RS200</td>\n",
       "      <td>Ford</td>\n",
       "      <td>Ford</td>\n",
       "      <td>NaN</td>\n",
       "      <td>NaN</td>\n",
       "      <td>NaN</td>\n",
       "      <td>NaN</td>\n",
       "      <td>NaN</td>\n",
       "      <td>NaN</td>\n",
       "    </tr>\n",
       "    <tr>\n",
       "      <th>109</th>\n",
       "      <td>Furious 7 Cars</td>\n",
       "      <td>NaN</td>\n",
       "      <td>NaN</td>\n",
       "      <td>NaN</td>\n",
       "      <td>NaN</td>\n",
       "      <td>NaN</td>\n",
       "      <td>NaN</td>\n",
       "      <td>NaN</td>\n",
       "      <td>NaN</td>\n",
       "    </tr>\n",
       "    <tr>\n",
       "      <th>110</th>\n",
       "      <td>Honda Civic</td>\n",
       "      <td>Honda</td>\n",
       "      <td>Honda</td>\n",
       "      <td>NaN</td>\n",
       "      <td>NaN</td>\n",
       "      <td>NaN</td>\n",
       "      <td>NaN</td>\n",
       "      <td>NaN</td>\n",
       "      <td>NaN</td>\n",
       "    </tr>\n",
       "    <tr>\n",
       "      <th>111</th>\n",
       "      <td>Honda S2000</td>\n",
       "      <td>Honda</td>\n",
       "      <td>Honda</td>\n",
       "      <td>NaN</td>\n",
       "      <td>NaN</td>\n",
       "      <td>NaN</td>\n",
       "      <td>NaN</td>\n",
       "      <td>NaN</td>\n",
       "      <td>NaN</td>\n",
       "    </tr>\n",
       "    <tr>\n",
       "      <th>112</th>\n",
       "      <td>Hyperfin</td>\n",
       "      <td>NaN</td>\n",
       "      <td>NaN</td>\n",
       "      <td>N/A</td>\n",
       "      <td>NaN</td>\n",
       "      <td>NaN</td>\n",
       "      <td>NaN</td>\n",
       "      <td>NaN</td>\n",
       "      <td>NaN</td>\n",
       "    </tr>\n",
       "    <tr>\n",
       "      <th>113</th>\n",
       "      <td>Images of cars</td>\n",
       "      <td>NaN</td>\n",
       "      <td>NaN</td>\n",
       "      <td>NaN</td>\n",
       "      <td>NaN</td>\n",
       "      <td>NaN</td>\n",
       "      <td>NaN</td>\n",
       "      <td>NaN</td>\n",
       "      <td>NaN</td>\n",
       "    </tr>\n",
       "    <tr>\n",
       "      <th>114</th>\n",
       "      <td>Ion Motors Thresher</td>\n",
       "      <td>NaN</td>\n",
       "      <td>NaN</td>\n",
       "      <td>NaN</td>\n",
       "      <td>NaN</td>\n",
       "      <td>NaN</td>\n",
       "      <td>NaN</td>\n",
       "      <td>NaN</td>\n",
       "      <td>NaN</td>\n",
       "    </tr>\n",
       "    <tr>\n",
       "      <th>116</th>\n",
       "      <td>List of Cars in The Fast and the Furious (series)</td>\n",
       "      <td>NaN</td>\n",
       "      <td>NaN</td>\n",
       "      <td>NaN</td>\n",
       "      <td>NaN</td>\n",
       "      <td>NaN</td>\n",
       "      <td>NaN</td>\n",
       "      <td>NaN</td>\n",
       "      <td>NaN</td>\n",
       "    </tr>\n",
       "    <tr>\n",
       "      <th>118</th>\n",
       "      <td>Mazda RX-7</td>\n",
       "      <td>Mazda</td>\n",
       "      <td>Mazda</td>\n",
       "      <td>NaN</td>\n",
       "      <td>NaN</td>\n",
       "      <td>NaN</td>\n",
       "      <td>NaN</td>\n",
       "      <td>NaN</td>\n",
       "      <td>NaN</td>\n",
       "    </tr>\n",
       "    <tr>\n",
       "      <th>120</th>\n",
       "      <td>Mitsubishi Eclipse</td>\n",
       "      <td>Mitsubishi Motors</td>\n",
       "      <td>Mitsubishi</td>\n",
       "      <td>NaN</td>\n",
       "      <td>NaN</td>\n",
       "      <td>NaN</td>\n",
       "      <td>NaN</td>\n",
       "      <td>NaN</td>\n",
       "      <td>NaN</td>\n",
       "    </tr>\n",
       "    <tr>\n",
       "      <th>121</th>\n",
       "      <td>Mitsubishi Lancer Evolution</td>\n",
       "      <td>Mitsubishi Motors</td>\n",
       "      <td>Mitsubishi</td>\n",
       "      <td>NaN</td>\n",
       "      <td>NaN</td>\n",
       "      <td>NaN</td>\n",
       "      <td>NaN</td>\n",
       "      <td>NaN</td>\n",
       "      <td>NaN</td>\n",
       "    </tr>\n",
       "    <tr>\n",
       "      <th>122</th>\n",
       "      <td>Muscle cars</td>\n",
       "      <td>NaN</td>\n",
       "      <td>NaN</td>\n",
       "      <td>NaN</td>\n",
       "      <td>NaN</td>\n",
       "      <td>NaN</td>\n",
       "      <td>NaN</td>\n",
       "      <td>NaN</td>\n",
       "      <td>NaN</td>\n",
       "    </tr>\n",
       "    <tr>\n",
       "      <th>123</th>\n",
       "      <td>Nissan 240SX</td>\n",
       "      <td>NaN</td>\n",
       "      <td>NaN</td>\n",
       "      <td>NaN</td>\n",
       "      <td>NaN</td>\n",
       "      <td>NaN</td>\n",
       "      <td>NaN</td>\n",
       "      <td>NaN</td>\n",
       "      <td>NaN</td>\n",
       "    </tr>\n",
       "    <tr>\n",
       "      <th>125</th>\n",
       "      <td>Nissan GT-R</td>\n",
       "      <td>Nissan Motor Company</td>\n",
       "      <td>Nissan</td>\n",
       "      <td>NaN</td>\n",
       "      <td>NaN</td>\n",
       "      <td>NaN</td>\n",
       "      <td>NaN</td>\n",
       "      <td>NaN</td>\n",
       "      <td>NaN</td>\n",
       "    </tr>\n",
       "    <tr>\n",
       "      <th>126</th>\n",
       "      <td>Nissan Silvia S15</td>\n",
       "      <td>Nissan</td>\n",
       "      <td>Nissan Silva</td>\n",
       "      <td>NaN</td>\n",
       "      <td>NaN</td>\n",
       "      <td>NaN</td>\n",
       "      <td>NaN</td>\n",
       "      <td>NaN</td>\n",
       "      <td>NaN</td>\n",
       "    </tr>\n",
       "    <tr>\n",
       "      <th>127</th>\n",
       "      <td>2000 Nissan Silvia S15 Spec-R (Nissan 240 SX)</td>\n",
       "      <td>Nissan Motor Company</td>\n",
       "      <td>Nissan</td>\n",
       "      <td>240SX</td>\n",
       "      <td>NaN</td>\n",
       "      <td>Discontinued</td>\n",
       "      <td>2-door coupe, Sports car</td>\n",
       "      <td>Fast &amp; Furious</td>\n",
       "      <td>Minor</td>\n",
       "    </tr>\n",
       "    <tr>\n",
       "      <th>128</th>\n",
       "      <td>Nissan Skyline GT-R</td>\n",
       "      <td>Prince Motor Company Nissan Motor Company</td>\n",
       "      <td>NaN</td>\n",
       "      <td>NaN</td>\n",
       "      <td>NaN</td>\n",
       "      <td>NaN</td>\n",
       "      <td>NaN</td>\n",
       "      <td>NaN</td>\n",
       "      <td>NaN</td>\n",
       "    </tr>\n",
       "    <tr>\n",
       "      <th>129</th>\n",
       "      <td>Pickup trucks</td>\n",
       "      <td>NaN</td>\n",
       "      <td>NaN</td>\n",
       "      <td>NaN</td>\n",
       "      <td>NaN</td>\n",
       "      <td>NaN</td>\n",
       "      <td>NaN</td>\n",
       "      <td>NaN</td>\n",
       "      <td>NaN</td>\n",
       "    </tr>\n",
       "    <tr>\n",
       "      <th>130</th>\n",
       "      <td>1970 Plymouth Road Runner</td>\n",
       "      <td>Plymouth</td>\n",
       "      <td>Plymouth</td>\n",
       "      <td>Road Runner</td>\n",
       "      <td>1968-1980</td>\n",
       "      <td>Discontinued</td>\n",
       "      <td>Muscle car</td>\n",
       "      <td>The Fast and the Furious: Tokyo Drift, Fast &amp; ...</td>\n",
       "      <td>NaN</td>\n",
       "    </tr>\n",
       "    <tr>\n",
       "      <th>131</th>\n",
       "      <td>Pontiac Bonneville</td>\n",
       "      <td>NaN</td>\n",
       "      <td>NaN</td>\n",
       "      <td>NaN</td>\n",
       "      <td>NaN</td>\n",
       "      <td>NaN</td>\n",
       "      <td>NaN</td>\n",
       "      <td>NaN</td>\n",
       "      <td>NaN</td>\n",
       "    </tr>\n",
       "    <tr>\n",
       "      <th>132</th>\n",
       "      <td>1984 Pontiac Fiero</td>\n",
       "      <td>Pontiac</td>\n",
       "      <td>Pontiac</td>\n",
       "      <td>Fiero</td>\n",
       "      <td>1984</td>\n",
       "      <td>NaN</td>\n",
       "      <td>Notchback Coupe</td>\n",
       "      <td>F9</td>\n",
       "      <td>Major</td>\n",
       "    </tr>\n",
       "    <tr>\n",
       "      <th>136</th>\n",
       "      <td>Subaru Impreza WRX STi</td>\n",
       "      <td>Subaru</td>\n",
       "      <td>Subaru</td>\n",
       "      <td>NaN</td>\n",
       "      <td>NaN</td>\n",
       "      <td>NaN</td>\n",
       "      <td>NaN</td>\n",
       "      <td>NaN</td>\n",
       "      <td>NaN</td>\n",
       "    </tr>\n",
       "    <tr>\n",
       "      <th>137</th>\n",
       "      <td>The Fast and The Furious Cars</td>\n",
       "      <td>NaN</td>\n",
       "      <td>NaN</td>\n",
       "      <td>NaN</td>\n",
       "      <td>NaN</td>\n",
       "      <td>NaN</td>\n",
       "      <td>NaN</td>\n",
       "      <td>NaN</td>\n",
       "      <td>NaN</td>\n",
       "    </tr>\n",
       "    <tr>\n",
       "      <th>138</th>\n",
       "      <td>The Fate of the Furious Cars</td>\n",
       "      <td>NaN</td>\n",
       "      <td>NaN</td>\n",
       "      <td>NaN</td>\n",
       "      <td>NaN</td>\n",
       "      <td>NaN</td>\n",
       "      <td>NaN</td>\n",
       "      <td>NaN</td>\n",
       "      <td>NaN</td>\n",
       "    </tr>\n",
       "    <tr>\n",
       "      <th>139</th>\n",
       "      <td>Tokyo Drift Cars</td>\n",
       "      <td>NaN</td>\n",
       "      <td>NaN</td>\n",
       "      <td>NaN</td>\n",
       "      <td>NaN</td>\n",
       "      <td>NaN</td>\n",
       "      <td>NaN</td>\n",
       "      <td>NaN</td>\n",
       "      <td>NaN</td>\n",
       "    </tr>\n",
       "    <tr>\n",
       "      <th>140</th>\n",
       "      <td>Toyota Corolla</td>\n",
       "      <td>Toyota</td>\n",
       "      <td>NaN</td>\n",
       "      <td>NaN</td>\n",
       "      <td>NaN</td>\n",
       "      <td>NaN</td>\n",
       "      <td>NaN</td>\n",
       "      <td>NaN</td>\n",
       "      <td>NaN</td>\n",
       "    </tr>\n",
       "    <tr>\n",
       "      <th>141</th>\n",
       "      <td>Toyota Supra MK IV</td>\n",
       "      <td>Toyota</td>\n",
       "      <td>Toyota</td>\n",
       "      <td>NaN</td>\n",
       "      <td>NaN</td>\n",
       "      <td>NaN</td>\n",
       "      <td>NaN</td>\n",
       "      <td>NaN</td>\n",
       "      <td>NaN</td>\n",
       "    </tr>\n",
       "    <tr>\n",
       "      <th>142</th>\n",
       "      <td>Tuners</td>\n",
       "      <td>NaN</td>\n",
       "      <td>NaN</td>\n",
       "      <td>NaN</td>\n",
       "      <td>NaN</td>\n",
       "      <td>NaN</td>\n",
       "      <td>NaN</td>\n",
       "      <td>NaN</td>\n",
       "      <td>NaN</td>\n",
       "    </tr>\n",
       "    <tr>\n",
       "      <th>143</th>\n",
       "      <td>Volkswagen Golf R32</td>\n",
       "      <td>NaN</td>\n",
       "      <td>NaN</td>\n",
       "      <td>NaN</td>\n",
       "      <td>NaN</td>\n",
       "      <td>NaN</td>\n",
       "      <td>NaN</td>\n",
       "      <td>NaN</td>\n",
       "      <td>NaN</td>\n",
       "    </tr>\n",
       "  </tbody>\n",
       "</table>\n",
       "</div>"
      ],
      "text/plain": [
       "                                                   Car  \\\n",
       "18                 1973 Chevrolet Camaro RS-Z28 F-Bomb   \n",
       "37                               2 Fast 2 Furious Cars   \n",
       "47                      2003 Mitsubishi Eclipse Spyder   \n",
       "80                                        Astana Hotto   \n",
       "82                                    Chevrolet Camaro   \n",
       "83                               Chevrolet Monte Carlo   \n",
       "84                               Chevrolet Monte Carlo   \n",
       "86                                    Dodge Challenger   \n",
       "87                                       Dodge Charger   \n",
       "89                                           Dodge Ram   \n",
       "90                                       Dodge Stealth   \n",
       "92                                2013 Eagle Speedster   \n",
       "93                               Fast & Furious 6 Cars   \n",
       "94                                 Fast & Furious Cars   \n",
       "95                                 Fast Attack Vehicle   \n",
       "96                                      Fast Five Cars   \n",
       "99                                         Ferrari FXX   \n",
       "101                                           Flip Car   \n",
       "106                                 1971 Ford Maverick   \n",
       "107                                       Ford Mustang   \n",
       "108                                         Ford RS200   \n",
       "109                                     Furious 7 Cars   \n",
       "110                                        Honda Civic   \n",
       "111                                        Honda S2000   \n",
       "112                                           Hyperfin   \n",
       "113                                     Images of cars   \n",
       "114                                Ion Motors Thresher   \n",
       "116  List of Cars in The Fast and the Furious (series)   \n",
       "118                                         Mazda RX-7   \n",
       "120                                 Mitsubishi Eclipse   \n",
       "121                        Mitsubishi Lancer Evolution   \n",
       "122                                        Muscle cars   \n",
       "123                                       Nissan 240SX   \n",
       "125                                        Nissan GT-R   \n",
       "126                                  Nissan Silvia S15   \n",
       "127      2000 Nissan Silvia S15 Spec-R (Nissan 240 SX)   \n",
       "128                                Nissan Skyline GT-R   \n",
       "129                                      Pickup trucks   \n",
       "130                          1970 Plymouth Road Runner   \n",
       "131                                 Pontiac Bonneville   \n",
       "132                                 1984 Pontiac Fiero   \n",
       "136                             Subaru Impreza WRX STi   \n",
       "137                      The Fast and The Furious Cars   \n",
       "138                       The Fate of the Furious Cars   \n",
       "139                                   Tokyo Drift Cars   \n",
       "140                                     Toyota Corolla   \n",
       "141                                 Toyota Supra MK IV   \n",
       "142                                             Tuners   \n",
       "143                                Volkswagen Golf R32   \n",
       "\n",
       "                                  Manufacturer          Make          Model  \\\n",
       "18                              General Motors     Chevrolet  Camaro RS Z28   \n",
       "37                                         NaN           NaN            NaN   \n",
       "47                           Mitsubishi Motors    Mitsubishi            NaN   \n",
       "80                                         NaN           NaN            NaN   \n",
       "82                   Chevrolet, General Motors           NaN            NaN   \n",
       "83                                   Chevrolet           NaN            NaN   \n",
       "84                                   Chevrolet           NaN            NaN   \n",
       "86                                         NaN           NaN            NaN   \n",
       "87                                    Chrysler         Dodge            NaN   \n",
       "89                                         NaN           NaN            NaN   \n",
       "90                                         NaN           NaN            NaN   \n",
       "92             Eagle (recreation)Jaguar (base)         Eagle      Speedster   \n",
       "93                                         NaN           NaN            NaN   \n",
       "94                                         NaN           NaN            NaN   \n",
       "95                                         NaN           NaN            NaN   \n",
       "96                                         NaN           NaN            NaN   \n",
       "99                                         NaN           NaN            NaN   \n",
       "101                                        NaN           NaN            NaN   \n",
       "106                                       Ford          Ford       Maverick   \n",
       "107                                       Ford          Ford            NaN   \n",
       "108                                       Ford          Ford            NaN   \n",
       "109                                        NaN           NaN            NaN   \n",
       "110                                      Honda         Honda            NaN   \n",
       "111                                      Honda         Honda            NaN   \n",
       "112                                        NaN           NaN            N/A   \n",
       "113                                        NaN           NaN            NaN   \n",
       "114                                        NaN           NaN            NaN   \n",
       "116                                        NaN           NaN            NaN   \n",
       "118                                      Mazda         Mazda            NaN   \n",
       "120                          Mitsubishi Motors    Mitsubishi            NaN   \n",
       "121                          Mitsubishi Motors    Mitsubishi            NaN   \n",
       "122                                        NaN           NaN            NaN   \n",
       "123                                        NaN           NaN            NaN   \n",
       "125                       Nissan Motor Company        Nissan            NaN   \n",
       "126                                     Nissan  Nissan Silva            NaN   \n",
       "127                       Nissan Motor Company        Nissan          240SX   \n",
       "128  Prince Motor Company Nissan Motor Company           NaN            NaN   \n",
       "129                                        NaN           NaN            NaN   \n",
       "130                                   Plymouth      Plymouth    Road Runner   \n",
       "131                                        NaN           NaN            NaN   \n",
       "132                                    Pontiac       Pontiac          Fiero   \n",
       "136                                     Subaru        Subaru            NaN   \n",
       "137                                        NaN           NaN            NaN   \n",
       "138                                        NaN           NaN            NaN   \n",
       "139                                        NaN           NaN            NaN   \n",
       "140                                     Toyota           NaN            NaN   \n",
       "141                                     Toyota        Toyota            NaN   \n",
       "142                                        NaN           NaN            NaN   \n",
       "143                                        NaN           NaN            NaN   \n",
       "\n",
       "    Production_Year         Status                 Car_Class  \\\n",
       "18             1973   Discontinued                       NaN   \n",
       "37              NaN            NaN                       NaN   \n",
       "47              NaN            NaN                       NaN   \n",
       "80              NaN            NaN                       NaN   \n",
       "82              NaN            NaN                       NaN   \n",
       "83              NaN            NaN                       NaN   \n",
       "84              NaN            NaN                       NaN   \n",
       "86              NaN            NaN                       NaN   \n",
       "87              NaN            NaN                       NaN   \n",
       "89              NaN            NaN                       NaN   \n",
       "90              NaN            NaN                       NaN   \n",
       "92    By order only  By order only                       NaN   \n",
       "93              NaN            NaN                       NaN   \n",
       "94              NaN            NaN                       NaN   \n",
       "95              NaN            NaN                       NaN   \n",
       "96              NaN            NaN                       NaN   \n",
       "99              NaN            NaN                       NaN   \n",
       "101             NaN            NaN                       NaN   \n",
       "106         Unknown   Discontinued                       NaN   \n",
       "107             NaN            NaN                       NaN   \n",
       "108             NaN            NaN                       NaN   \n",
       "109             NaN            NaN                       NaN   \n",
       "110             NaN            NaN                       NaN   \n",
       "111             NaN            NaN                       NaN   \n",
       "112             NaN            NaN                       NaN   \n",
       "113             NaN            NaN                       NaN   \n",
       "114             NaN            NaN                       NaN   \n",
       "116             NaN            NaN                       NaN   \n",
       "118             NaN            NaN                       NaN   \n",
       "120             NaN            NaN                       NaN   \n",
       "121             NaN            NaN                       NaN   \n",
       "122             NaN            NaN                       NaN   \n",
       "123             NaN            NaN                       NaN   \n",
       "125             NaN            NaN                       NaN   \n",
       "126             NaN            NaN                       NaN   \n",
       "127             NaN   Discontinued  2-door coupe, Sports car   \n",
       "128             NaN            NaN                       NaN   \n",
       "129             NaN            NaN                       NaN   \n",
       "130       1968-1980   Discontinued                Muscle car   \n",
       "131             NaN            NaN                       NaN   \n",
       "132            1984            NaN           Notchback Coupe   \n",
       "136             NaN            NaN                       NaN   \n",
       "137             NaN            NaN                       NaN   \n",
       "138             NaN            NaN                       NaN   \n",
       "139             NaN            NaN                       NaN   \n",
       "140             NaN            NaN                       NaN   \n",
       "141             NaN            NaN                       NaN   \n",
       "142             NaN            NaN                       NaN   \n",
       "143             NaN            NaN                       NaN   \n",
       "\n",
       "                                                  Film   Role  \n",
       "18                                      Fast & Furious  Minor  \n",
       "37                                                 NaN    NaN  \n",
       "47                                                 NaN    NaN  \n",
       "80                                                 NaN    NaN  \n",
       "82                                                 NaN    NaN  \n",
       "83                                                 NaN    NaN  \n",
       "84                                                 NaN    NaN  \n",
       "86                                                 NaN    NaN  \n",
       "87                                                 NaN    NaN  \n",
       "89                                                 NaN    NaN  \n",
       "90                                                 NaN    NaN  \n",
       "92                                    Fast & Furious 6  Minor  \n",
       "93                                                 NaN    NaN  \n",
       "94                                                 NaN    NaN  \n",
       "95                                                 NaN    NaN  \n",
       "96                                                 NaN    NaN  \n",
       "99                                                 NaN    NaN  \n",
       "101                                                NaN    NaN  \n",
       "106                                          Fast Five  Minor  \n",
       "107                                                NaN    NaN  \n",
       "108                                                NaN    NaN  \n",
       "109                                                NaN    NaN  \n",
       "110                                                NaN    NaN  \n",
       "111                                                NaN    NaN  \n",
       "112                                                NaN    NaN  \n",
       "113                                                NaN    NaN  \n",
       "114                                                NaN    NaN  \n",
       "116                                                NaN    NaN  \n",
       "118                                                NaN    NaN  \n",
       "120                                                NaN    NaN  \n",
       "121                                                NaN    NaN  \n",
       "122                                                NaN    NaN  \n",
       "123                                                NaN    NaN  \n",
       "125                                                NaN    NaN  \n",
       "126                                                NaN    NaN  \n",
       "127                                     Fast & Furious  Minor  \n",
       "128                                                NaN    NaN  \n",
       "129                                                NaN    NaN  \n",
       "130  The Fast and the Furious: Tokyo Drift, Fast & ...    NaN  \n",
       "131                                                NaN    NaN  \n",
       "132                                                 F9  Major  \n",
       "136                                                NaN    NaN  \n",
       "137                                                NaN    NaN  \n",
       "138                                                NaN    NaN  \n",
       "139                                                NaN    NaN  \n",
       "140                                                NaN    NaN  \n",
       "141                                                NaN    NaN  \n",
       "142                                                NaN    NaN  \n",
       "143                                                NaN    NaN  "
      ]
     },
     "execution_count": 6,
     "metadata": {},
     "output_type": "execute_result"
    }
   ],
   "source": [
    "df[df.isna().any(axis=1)]"
   ]
  },
  {
   "cell_type": "code",
   "execution_count": 7,
   "id": "4ad47a20",
   "metadata": {},
   "outputs": [
    {
     "data": {
      "text/html": [
       "<div>\n",
       "<style scoped>\n",
       "    .dataframe tbody tr th:only-of-type {\n",
       "        vertical-align: middle;\n",
       "    }\n",
       "\n",
       "    .dataframe tbody tr th {\n",
       "        vertical-align: top;\n",
       "    }\n",
       "\n",
       "    .dataframe thead th {\n",
       "        text-align: right;\n",
       "    }\n",
       "</style>\n",
       "<table border=\"1\" class=\"dataframe\">\n",
       "  <thead>\n",
       "    <tr style=\"text-align: right;\">\n",
       "      <th></th>\n",
       "      <th>Car</th>\n",
       "      <th>Manufacturer</th>\n",
       "      <th>Make</th>\n",
       "      <th>Model</th>\n",
       "      <th>Production_Year</th>\n",
       "      <th>Status</th>\n",
       "      <th>Car_Class</th>\n",
       "      <th>Film</th>\n",
       "      <th>Role</th>\n",
       "    </tr>\n",
       "  </thead>\n",
       "  <tbody>\n",
       "    <tr>\n",
       "      <th>0</th>\n",
       "      <td>1966 Chevrolet Corvette Grand Sport Sting Ray</td>\n",
       "      <td>Chevrolet (General Motors)</td>\n",
       "      <td>Chevrolet</td>\n",
       "      <td>Corvette Sting Ray</td>\n",
       "      <td>1962-1967</td>\n",
       "      <td>Discontinued</td>\n",
       "      <td>2-door convertible, 2-door coupe</td>\n",
       "      <td>Fast Five</td>\n",
       "      <td>Minor</td>\n",
       "    </tr>\n",
       "    <tr>\n",
       "      <th>1</th>\n",
       "      <td>1967 Chevrolet C/K</td>\n",
       "      <td>General Motors</td>\n",
       "      <td>Chevrolet</td>\n",
       "      <td>C-10</td>\n",
       "      <td>Discontinued</td>\n",
       "      <td>Discontinued</td>\n",
       "      <td>Pickup truck</td>\n",
       "      <td>Fast &amp; Furious</td>\n",
       "      <td>Minor</td>\n",
       "    </tr>\n",
       "    <tr>\n",
       "      <th>2</th>\n",
       "      <td>1967 Chevrolet Camaro SS</td>\n",
       "      <td>General Motors</td>\n",
       "      <td>Chevrolet</td>\n",
       "      <td>Chevrolet Camaro SS</td>\n",
       "      <td>1967</td>\n",
       "      <td>Discontinued</td>\n",
       "      <td>Pony car, Muscle car</td>\n",
       "      <td>Fast &amp; Furious 6</td>\n",
       "      <td>Minor</td>\n",
       "    </tr>\n",
       "    <tr>\n",
       "      <th>3</th>\n",
       "      <td>1967 Chevrolet Camaro Z28</td>\n",
       "      <td>General Motors</td>\n",
       "      <td>Chevrolet</td>\n",
       "      <td>Chevrolet Camaro Z28</td>\n",
       "      <td>1967</td>\n",
       "      <td>Discontinued</td>\n",
       "      <td>Customized</td>\n",
       "      <td>Furious 7</td>\n",
       "      <td>Major</td>\n",
       "    </tr>\n",
       "    <tr>\n",
       "      <th>4</th>\n",
       "      <td>1967 Ford Mustang Fastback</td>\n",
       "      <td>Ford Motor Corporation</td>\n",
       "      <td>Ford</td>\n",
       "      <td>Mustang Fastback</td>\n",
       "      <td>1967</td>\n",
       "      <td>In Production</td>\n",
       "      <td>Pony car</td>\n",
       "      <td>The Fast and the Furious: Tokyo Drift</td>\n",
       "      <td>Major</td>\n",
       "    </tr>\n",
       "    <tr>\n",
       "      <th>...</th>\n",
       "      <td>...</td>\n",
       "      <td>...</td>\n",
       "      <td>...</td>\n",
       "      <td>...</td>\n",
       "      <td>...</td>\n",
       "      <td>...</td>\n",
       "      <td>...</td>\n",
       "      <td>...</td>\n",
       "      <td>...</td>\n",
       "    </tr>\n",
       "    <tr>\n",
       "      <th>130</th>\n",
       "      <td>1970 Plymouth Road Runner</td>\n",
       "      <td>Plymouth</td>\n",
       "      <td>Plymouth</td>\n",
       "      <td>Road Runner</td>\n",
       "      <td>1968-1980</td>\n",
       "      <td>Discontinued</td>\n",
       "      <td>Muscle car</td>\n",
       "      <td>The Fast and the Furious: Tokyo Drift, Fast &amp; ...</td>\n",
       "      <td>NaN</td>\n",
       "    </tr>\n",
       "    <tr>\n",
       "      <th>132</th>\n",
       "      <td>1984 Pontiac Fiero</td>\n",
       "      <td>Pontiac</td>\n",
       "      <td>Pontiac</td>\n",
       "      <td>Fiero</td>\n",
       "      <td>1984</td>\n",
       "      <td>NaN</td>\n",
       "      <td>Notchback Coupe</td>\n",
       "      <td>F9</td>\n",
       "      <td>Major</td>\n",
       "    </tr>\n",
       "    <tr>\n",
       "      <th>133</th>\n",
       "      <td>1978 Pontiac Trans Am</td>\n",
       "      <td>Pontiac</td>\n",
       "      <td>Pontiac</td>\n",
       "      <td>Trans Am</td>\n",
       "      <td>1967-2002</td>\n",
       "      <td>Discontinued</td>\n",
       "      <td>Pony CarMuscle Car</td>\n",
       "      <td>Fast &amp; Furious, Fast Five</td>\n",
       "      <td>Minor</td>\n",
       "    </tr>\n",
       "    <tr>\n",
       "      <th>134</th>\n",
       "      <td>2011 Porsche 996 GT3 RS</td>\n",
       "      <td>Porsche</td>\n",
       "      <td>Porsche</td>\n",
       "      <td>996 GT3 RS</td>\n",
       "      <td>2011</td>\n",
       "      <td>Discontinued</td>\n",
       "      <td>Sports Car</td>\n",
       "      <td>Fast Five</td>\n",
       "      <td>Minor</td>\n",
       "    </tr>\n",
       "    <tr>\n",
       "      <th>135</th>\n",
       "      <td>2007 Porsche Cayman</td>\n",
       "      <td>Porsche</td>\n",
       "      <td>Porsche</td>\n",
       "      <td>Cayman S</td>\n",
       "      <td>2007</td>\n",
       "      <td>In Production</td>\n",
       "      <td>Sports Car</td>\n",
       "      <td>Fast &amp; Furious</td>\n",
       "      <td>Minor</td>\n",
       "    </tr>\n",
       "  </tbody>\n",
       "</table>\n",
       "<p>101 rows × 9 columns</p>\n",
       "</div>"
      ],
      "text/plain": [
       "                                               Car  \\\n",
       "0    1966 Chevrolet Corvette Grand Sport Sting Ray   \n",
       "1                               1967 Chevrolet C/K   \n",
       "2                         1967 Chevrolet Camaro SS   \n",
       "3                        1967 Chevrolet Camaro Z28   \n",
       "4                       1967 Ford Mustang Fastback   \n",
       "..                                             ...   \n",
       "130                      1970 Plymouth Road Runner   \n",
       "132                             1984 Pontiac Fiero   \n",
       "133                          1978 Pontiac Trans Am   \n",
       "134                        2011 Porsche 996 GT3 RS   \n",
       "135                            2007 Porsche Cayman   \n",
       "\n",
       "                   Manufacturer       Make                 Model  \\\n",
       "0    Chevrolet (General Motors)  Chevrolet    Corvette Sting Ray   \n",
       "1                General Motors  Chevrolet                  C-10   \n",
       "2                General Motors  Chevrolet   Chevrolet Camaro SS   \n",
       "3                General Motors  Chevrolet  Chevrolet Camaro Z28   \n",
       "4        Ford Motor Corporation       Ford      Mustang Fastback   \n",
       "..                          ...        ...                   ...   \n",
       "130                    Plymouth   Plymouth           Road Runner   \n",
       "132                     Pontiac    Pontiac                 Fiero   \n",
       "133                     Pontiac    Pontiac              Trans Am   \n",
       "134                     Porsche    Porsche            996 GT3 RS   \n",
       "135                     Porsche    Porsche              Cayman S   \n",
       "\n",
       "    Production_Year         Status                         Car_Class  \\\n",
       "0         1962-1967   Discontinued  2-door convertible, 2-door coupe   \n",
       "1      Discontinued   Discontinued                      Pickup truck   \n",
       "2              1967   Discontinued              Pony car, Muscle car   \n",
       "3              1967   Discontinued                        Customized   \n",
       "4              1967  In Production                          Pony car   \n",
       "..              ...            ...                               ...   \n",
       "130       1968-1980   Discontinued                        Muscle car   \n",
       "132            1984            NaN                   Notchback Coupe   \n",
       "133       1967-2002   Discontinued                Pony CarMuscle Car   \n",
       "134            2011   Discontinued                        Sports Car   \n",
       "135            2007  In Production                        Sports Car   \n",
       "\n",
       "                                                  Film   Role  \n",
       "0                                            Fast Five  Minor  \n",
       "1                                       Fast & Furious  Minor  \n",
       "2                                     Fast & Furious 6  Minor  \n",
       "3                                            Furious 7  Major  \n",
       "4                The Fast and the Furious: Tokyo Drift  Major  \n",
       "..                                                 ...    ...  \n",
       "130  The Fast and the Furious: Tokyo Drift, Fast & ...    NaN  \n",
       "132                                                 F9  Major  \n",
       "133                          Fast & Furious, Fast Five  Minor  \n",
       "134                                          Fast Five  Minor  \n",
       "135                                     Fast & Furious  Minor  \n",
       "\n",
       "[101 rows x 9 columns]"
      ]
     },
     "execution_count": 7,
     "metadata": {},
     "output_type": "execute_result"
    }
   ],
   "source": [
    "df = df.dropna(thresh=5)\n",
    "df"
   ]
  },
  {
   "cell_type": "code",
   "execution_count": 8,
   "id": "00c91a5a",
   "metadata": {},
   "outputs": [],
   "source": [
    "df.reset_index(drop=True, inplace=True)"
   ]
  },
  {
   "cell_type": "code",
   "execution_count": 9,
   "id": "d6748328",
   "metadata": {},
   "outputs": [
    {
     "data": {
      "text/html": [
       "<div>\n",
       "<style scoped>\n",
       "    .dataframe tbody tr th:only-of-type {\n",
       "        vertical-align: middle;\n",
       "    }\n",
       "\n",
       "    .dataframe tbody tr th {\n",
       "        vertical-align: top;\n",
       "    }\n",
       "\n",
       "    .dataframe thead th {\n",
       "        text-align: right;\n",
       "    }\n",
       "</style>\n",
       "<table border=\"1\" class=\"dataframe\">\n",
       "  <thead>\n",
       "    <tr style=\"text-align: right;\">\n",
       "      <th></th>\n",
       "      <th>Car</th>\n",
       "      <th>Manufacturer</th>\n",
       "      <th>Make</th>\n",
       "      <th>Model</th>\n",
       "      <th>Production_Year</th>\n",
       "      <th>Status</th>\n",
       "      <th>Car_Class</th>\n",
       "      <th>Film</th>\n",
       "      <th>Role</th>\n",
       "    </tr>\n",
       "  </thead>\n",
       "  <tbody>\n",
       "    <tr>\n",
       "      <th>0</th>\n",
       "      <td>1966 Chevrolet Corvette Grand Sport Sting Ray</td>\n",
       "      <td>Chevrolet (General Motors)</td>\n",
       "      <td>Chevrolet</td>\n",
       "      <td>Corvette Sting Ray</td>\n",
       "      <td>1962-1967</td>\n",
       "      <td>Discontinued</td>\n",
       "      <td>2-door convertible, 2-door coupe</td>\n",
       "      <td>Fast Five</td>\n",
       "      <td>Minor</td>\n",
       "    </tr>\n",
       "    <tr>\n",
       "      <th>1</th>\n",
       "      <td>1967 Chevrolet C/K</td>\n",
       "      <td>General Motors</td>\n",
       "      <td>Chevrolet</td>\n",
       "      <td>C-10</td>\n",
       "      <td>Discontinued</td>\n",
       "      <td>Discontinued</td>\n",
       "      <td>Pickup truck</td>\n",
       "      <td>Fast &amp; Furious</td>\n",
       "      <td>Minor</td>\n",
       "    </tr>\n",
       "    <tr>\n",
       "      <th>2</th>\n",
       "      <td>1967 Chevrolet Camaro SS</td>\n",
       "      <td>General Motors</td>\n",
       "      <td>Chevrolet</td>\n",
       "      <td>Chevrolet Camaro SS</td>\n",
       "      <td>1967</td>\n",
       "      <td>Discontinued</td>\n",
       "      <td>Pony car, Muscle car</td>\n",
       "      <td>Fast &amp; Furious 6</td>\n",
       "      <td>Minor</td>\n",
       "    </tr>\n",
       "    <tr>\n",
       "      <th>3</th>\n",
       "      <td>1967 Chevrolet Camaro Z28</td>\n",
       "      <td>General Motors</td>\n",
       "      <td>Chevrolet</td>\n",
       "      <td>Chevrolet Camaro Z28</td>\n",
       "      <td>1967</td>\n",
       "      <td>Discontinued</td>\n",
       "      <td>Customized</td>\n",
       "      <td>Furious 7</td>\n",
       "      <td>Major</td>\n",
       "    </tr>\n",
       "    <tr>\n",
       "      <th>4</th>\n",
       "      <td>1967 Ford Mustang Fastback</td>\n",
       "      <td>Ford Motor Corporation</td>\n",
       "      <td>Ford</td>\n",
       "      <td>Mustang Fastback</td>\n",
       "      <td>1967</td>\n",
       "      <td>In Production</td>\n",
       "      <td>Pony car</td>\n",
       "      <td>The Fast and the Furious: Tokyo Drift</td>\n",
       "      <td>Major</td>\n",
       "    </tr>\n",
       "    <tr>\n",
       "      <th>...</th>\n",
       "      <td>...</td>\n",
       "      <td>...</td>\n",
       "      <td>...</td>\n",
       "      <td>...</td>\n",
       "      <td>...</td>\n",
       "      <td>...</td>\n",
       "      <td>...</td>\n",
       "      <td>...</td>\n",
       "      <td>...</td>\n",
       "    </tr>\n",
       "    <tr>\n",
       "      <th>96</th>\n",
       "      <td>1970 Plymouth Road Runner</td>\n",
       "      <td>Plymouth</td>\n",
       "      <td>Plymouth</td>\n",
       "      <td>Road Runner</td>\n",
       "      <td>1968-1980</td>\n",
       "      <td>Discontinued</td>\n",
       "      <td>Muscle car</td>\n",
       "      <td>The Fast and the Furious: Tokyo Drift, Fast &amp; ...</td>\n",
       "      <td>NaN</td>\n",
       "    </tr>\n",
       "    <tr>\n",
       "      <th>97</th>\n",
       "      <td>1984 Pontiac Fiero</td>\n",
       "      <td>Pontiac</td>\n",
       "      <td>Pontiac</td>\n",
       "      <td>Fiero</td>\n",
       "      <td>1984</td>\n",
       "      <td>NaN</td>\n",
       "      <td>Notchback Coupe</td>\n",
       "      <td>F9</td>\n",
       "      <td>Major</td>\n",
       "    </tr>\n",
       "    <tr>\n",
       "      <th>98</th>\n",
       "      <td>1978 Pontiac Trans Am</td>\n",
       "      <td>Pontiac</td>\n",
       "      <td>Pontiac</td>\n",
       "      <td>Trans Am</td>\n",
       "      <td>1967-2002</td>\n",
       "      <td>Discontinued</td>\n",
       "      <td>Pony CarMuscle Car</td>\n",
       "      <td>Fast &amp; Furious, Fast Five</td>\n",
       "      <td>Minor</td>\n",
       "    </tr>\n",
       "    <tr>\n",
       "      <th>99</th>\n",
       "      <td>2011 Porsche 996 GT3 RS</td>\n",
       "      <td>Porsche</td>\n",
       "      <td>Porsche</td>\n",
       "      <td>996 GT3 RS</td>\n",
       "      <td>2011</td>\n",
       "      <td>Discontinued</td>\n",
       "      <td>Sports Car</td>\n",
       "      <td>Fast Five</td>\n",
       "      <td>Minor</td>\n",
       "    </tr>\n",
       "    <tr>\n",
       "      <th>100</th>\n",
       "      <td>2007 Porsche Cayman</td>\n",
       "      <td>Porsche</td>\n",
       "      <td>Porsche</td>\n",
       "      <td>Cayman S</td>\n",
       "      <td>2007</td>\n",
       "      <td>In Production</td>\n",
       "      <td>Sports Car</td>\n",
       "      <td>Fast &amp; Furious</td>\n",
       "      <td>Minor</td>\n",
       "    </tr>\n",
       "  </tbody>\n",
       "</table>\n",
       "<p>101 rows × 9 columns</p>\n",
       "</div>"
      ],
      "text/plain": [
       "                                               Car  \\\n",
       "0    1966 Chevrolet Corvette Grand Sport Sting Ray   \n",
       "1                               1967 Chevrolet C/K   \n",
       "2                         1967 Chevrolet Camaro SS   \n",
       "3                        1967 Chevrolet Camaro Z28   \n",
       "4                       1967 Ford Mustang Fastback   \n",
       "..                                             ...   \n",
       "96                       1970 Plymouth Road Runner   \n",
       "97                              1984 Pontiac Fiero   \n",
       "98                           1978 Pontiac Trans Am   \n",
       "99                         2011 Porsche 996 GT3 RS   \n",
       "100                            2007 Porsche Cayman   \n",
       "\n",
       "                   Manufacturer       Make                 Model  \\\n",
       "0    Chevrolet (General Motors)  Chevrolet    Corvette Sting Ray   \n",
       "1                General Motors  Chevrolet                  C-10   \n",
       "2                General Motors  Chevrolet   Chevrolet Camaro SS   \n",
       "3                General Motors  Chevrolet  Chevrolet Camaro Z28   \n",
       "4        Ford Motor Corporation       Ford      Mustang Fastback   \n",
       "..                          ...        ...                   ...   \n",
       "96                     Plymouth   Plymouth           Road Runner   \n",
       "97                      Pontiac    Pontiac                 Fiero   \n",
       "98                      Pontiac    Pontiac              Trans Am   \n",
       "99                      Porsche    Porsche            996 GT3 RS   \n",
       "100                     Porsche    Porsche              Cayman S   \n",
       "\n",
       "    Production_Year         Status                         Car_Class  \\\n",
       "0         1962-1967   Discontinued  2-door convertible, 2-door coupe   \n",
       "1      Discontinued   Discontinued                      Pickup truck   \n",
       "2              1967   Discontinued              Pony car, Muscle car   \n",
       "3              1967   Discontinued                        Customized   \n",
       "4              1967  In Production                          Pony car   \n",
       "..              ...            ...                               ...   \n",
       "96        1968-1980   Discontinued                        Muscle car   \n",
       "97             1984            NaN                   Notchback Coupe   \n",
       "98        1967-2002   Discontinued                Pony CarMuscle Car   \n",
       "99             2011   Discontinued                        Sports Car   \n",
       "100            2007  In Production                        Sports Car   \n",
       "\n",
       "                                                  Film   Role  \n",
       "0                                            Fast Five  Minor  \n",
       "1                                       Fast & Furious  Minor  \n",
       "2                                     Fast & Furious 6  Minor  \n",
       "3                                            Furious 7  Major  \n",
       "4                The Fast and the Furious: Tokyo Drift  Major  \n",
       "..                                                 ...    ...  \n",
       "96   The Fast and the Furious: Tokyo Drift, Fast & ...    NaN  \n",
       "97                                                  F9  Major  \n",
       "98                           Fast & Furious, Fast Five  Minor  \n",
       "99                                           Fast Five  Minor  \n",
       "100                                     Fast & Furious  Minor  \n",
       "\n",
       "[101 rows x 9 columns]"
      ]
     },
     "execution_count": 9,
     "metadata": {},
     "output_type": "execute_result"
    }
   ],
   "source": [
    "df"
   ]
  },
  {
   "cell_type": "code",
   "execution_count": 10,
   "id": "dc6cdd40",
   "metadata": {},
   "outputs": [
    {
     "data": {
      "text/html": [
       "<div>\n",
       "<style scoped>\n",
       "    .dataframe tbody tr th:only-of-type {\n",
       "        vertical-align: middle;\n",
       "    }\n",
       "\n",
       "    .dataframe tbody tr th {\n",
       "        vertical-align: top;\n",
       "    }\n",
       "\n",
       "    .dataframe thead th {\n",
       "        text-align: right;\n",
       "    }\n",
       "</style>\n",
       "<table border=\"1\" class=\"dataframe\">\n",
       "  <thead>\n",
       "    <tr style=\"text-align: right;\">\n",
       "      <th></th>\n",
       "      <th>Manufacturer</th>\n",
       "      <th>Make</th>\n",
       "      <th>Model</th>\n",
       "      <th>Status</th>\n",
       "      <th>Car_Class</th>\n",
       "      <th>Film</th>\n",
       "      <th>Role</th>\n",
       "      <th>Year</th>\n",
       "      <th>Car Name</th>\n",
       "    </tr>\n",
       "  </thead>\n",
       "  <tbody>\n",
       "    <tr>\n",
       "      <th>0</th>\n",
       "      <td>Chevrolet (General Motors)</td>\n",
       "      <td>Chevrolet</td>\n",
       "      <td>Corvette Sting Ray</td>\n",
       "      <td>Discontinued</td>\n",
       "      <td>2-door convertible, 2-door coupe</td>\n",
       "      <td>Fast Five</td>\n",
       "      <td>Minor</td>\n",
       "      <td>1966</td>\n",
       "      <td>Chevrolet Corvette Grand Sport Sting Ray</td>\n",
       "    </tr>\n",
       "    <tr>\n",
       "      <th>1</th>\n",
       "      <td>General Motors</td>\n",
       "      <td>Chevrolet</td>\n",
       "      <td>C-10</td>\n",
       "      <td>Discontinued</td>\n",
       "      <td>Pickup truck</td>\n",
       "      <td>Fast &amp; Furious</td>\n",
       "      <td>Minor</td>\n",
       "      <td>1967</td>\n",
       "      <td>Chevrolet C/K</td>\n",
       "    </tr>\n",
       "    <tr>\n",
       "      <th>2</th>\n",
       "      <td>General Motors</td>\n",
       "      <td>Chevrolet</td>\n",
       "      <td>Chevrolet Camaro SS</td>\n",
       "      <td>Discontinued</td>\n",
       "      <td>Pony car, Muscle car</td>\n",
       "      <td>Fast &amp; Furious 6</td>\n",
       "      <td>Minor</td>\n",
       "      <td>1967</td>\n",
       "      <td>Chevrolet Camaro SS</td>\n",
       "    </tr>\n",
       "    <tr>\n",
       "      <th>3</th>\n",
       "      <td>General Motors</td>\n",
       "      <td>Chevrolet</td>\n",
       "      <td>Chevrolet Camaro Z28</td>\n",
       "      <td>Discontinued</td>\n",
       "      <td>Customized</td>\n",
       "      <td>Furious 7</td>\n",
       "      <td>Major</td>\n",
       "      <td>1967</td>\n",
       "      <td>Chevrolet Camaro Z28</td>\n",
       "    </tr>\n",
       "    <tr>\n",
       "      <th>4</th>\n",
       "      <td>Ford Motor Corporation</td>\n",
       "      <td>Ford</td>\n",
       "      <td>Mustang Fastback</td>\n",
       "      <td>In Production</td>\n",
       "      <td>Pony car</td>\n",
       "      <td>The Fast and the Furious: Tokyo Drift</td>\n",
       "      <td>Major</td>\n",
       "      <td>1967</td>\n",
       "      <td>Ford Mustang Fastback</td>\n",
       "    </tr>\n",
       "    <tr>\n",
       "      <th>...</th>\n",
       "      <td>...</td>\n",
       "      <td>...</td>\n",
       "      <td>...</td>\n",
       "      <td>...</td>\n",
       "      <td>...</td>\n",
       "      <td>...</td>\n",
       "      <td>...</td>\n",
       "      <td>...</td>\n",
       "      <td>...</td>\n",
       "    </tr>\n",
       "    <tr>\n",
       "      <th>96</th>\n",
       "      <td>Plymouth</td>\n",
       "      <td>Plymouth</td>\n",
       "      <td>Road Runner</td>\n",
       "      <td>Discontinued</td>\n",
       "      <td>Muscle car</td>\n",
       "      <td>The Fast and the Furious: Tokyo Drift, Fast &amp; ...</td>\n",
       "      <td>NaN</td>\n",
       "      <td>1970</td>\n",
       "      <td>Plymouth Road Runner</td>\n",
       "    </tr>\n",
       "    <tr>\n",
       "      <th>97</th>\n",
       "      <td>Pontiac</td>\n",
       "      <td>Pontiac</td>\n",
       "      <td>Fiero</td>\n",
       "      <td>NaN</td>\n",
       "      <td>Notchback Coupe</td>\n",
       "      <td>F9</td>\n",
       "      <td>Major</td>\n",
       "      <td>1984</td>\n",
       "      <td>Pontiac Fiero</td>\n",
       "    </tr>\n",
       "    <tr>\n",
       "      <th>98</th>\n",
       "      <td>Pontiac</td>\n",
       "      <td>Pontiac</td>\n",
       "      <td>Trans Am</td>\n",
       "      <td>Discontinued</td>\n",
       "      <td>Pony CarMuscle Car</td>\n",
       "      <td>Fast &amp; Furious, Fast Five</td>\n",
       "      <td>Minor</td>\n",
       "      <td>1978</td>\n",
       "      <td>Pontiac Trans Am</td>\n",
       "    </tr>\n",
       "    <tr>\n",
       "      <th>99</th>\n",
       "      <td>Porsche</td>\n",
       "      <td>Porsche</td>\n",
       "      <td>996 GT3 RS</td>\n",
       "      <td>Discontinued</td>\n",
       "      <td>Sports Car</td>\n",
       "      <td>Fast Five</td>\n",
       "      <td>Minor</td>\n",
       "      <td>2011</td>\n",
       "      <td>Porsche 996 GT3 RS</td>\n",
       "    </tr>\n",
       "    <tr>\n",
       "      <th>100</th>\n",
       "      <td>Porsche</td>\n",
       "      <td>Porsche</td>\n",
       "      <td>Cayman S</td>\n",
       "      <td>In Production</td>\n",
       "      <td>Sports Car</td>\n",
       "      <td>Fast &amp; Furious</td>\n",
       "      <td>Minor</td>\n",
       "      <td>2007</td>\n",
       "      <td>Porsche Cayman</td>\n",
       "    </tr>\n",
       "  </tbody>\n",
       "</table>\n",
       "<p>101 rows × 9 columns</p>\n",
       "</div>"
      ],
      "text/plain": [
       "                   Manufacturer       Make                 Model  \\\n",
       "0    Chevrolet (General Motors)  Chevrolet    Corvette Sting Ray   \n",
       "1                General Motors  Chevrolet                  C-10   \n",
       "2                General Motors  Chevrolet   Chevrolet Camaro SS   \n",
       "3                General Motors  Chevrolet  Chevrolet Camaro Z28   \n",
       "4        Ford Motor Corporation       Ford      Mustang Fastback   \n",
       "..                          ...        ...                   ...   \n",
       "96                     Plymouth   Plymouth           Road Runner   \n",
       "97                      Pontiac    Pontiac                 Fiero   \n",
       "98                      Pontiac    Pontiac              Trans Am   \n",
       "99                      Porsche    Porsche            996 GT3 RS   \n",
       "100                     Porsche    Porsche              Cayman S   \n",
       "\n",
       "            Status                         Car_Class  \\\n",
       "0     Discontinued  2-door convertible, 2-door coupe   \n",
       "1     Discontinued                      Pickup truck   \n",
       "2     Discontinued              Pony car, Muscle car   \n",
       "3     Discontinued                        Customized   \n",
       "4    In Production                          Pony car   \n",
       "..             ...                               ...   \n",
       "96    Discontinued                        Muscle car   \n",
       "97             NaN                   Notchback Coupe   \n",
       "98    Discontinued                Pony CarMuscle Car   \n",
       "99    Discontinued                        Sports Car   \n",
       "100  In Production                        Sports Car   \n",
       "\n",
       "                                                  Film   Role  Year  \\\n",
       "0                                            Fast Five  Minor  1966   \n",
       "1                                       Fast & Furious  Minor  1967   \n",
       "2                                     Fast & Furious 6  Minor  1967   \n",
       "3                                            Furious 7  Major  1967   \n",
       "4                The Fast and the Furious: Tokyo Drift  Major  1967   \n",
       "..                                                 ...    ...   ...   \n",
       "96   The Fast and the Furious: Tokyo Drift, Fast & ...    NaN  1970   \n",
       "97                                                  F9  Major  1984   \n",
       "98                           Fast & Furious, Fast Five  Minor  1978   \n",
       "99                                           Fast Five  Minor  2011   \n",
       "100                                     Fast & Furious  Minor  2007   \n",
       "\n",
       "                                     Car Name  \n",
       "0    Chevrolet Corvette Grand Sport Sting Ray  \n",
       "1                               Chevrolet C/K  \n",
       "2                         Chevrolet Camaro SS  \n",
       "3                        Chevrolet Camaro Z28  \n",
       "4                       Ford Mustang Fastback  \n",
       "..                                        ...  \n",
       "96                       Plymouth Road Runner  \n",
       "97                              Pontiac Fiero  \n",
       "98                           Pontiac Trans Am  \n",
       "99                         Porsche 996 GT3 RS  \n",
       "100                            Porsche Cayman  \n",
       "\n",
       "[101 rows x 9 columns]"
      ]
     },
     "execution_count": 10,
     "metadata": {},
     "output_type": "execute_result"
    }
   ],
   "source": [
    "new = df['Car'].str.split(' ', n=1, expand=True)\n",
    "df['Year'] = new[0]\n",
    "df['Car Name'] = new[1]\n",
    "df.drop(columns = ['Car', 'Production_Year'], inplace=True)\n",
    "df"
   ]
  },
  {
   "cell_type": "code",
   "execution_count": 11,
   "id": "41b93bd4",
   "metadata": {},
   "outputs": [
    {
     "data": {
      "text/html": [
       "<div>\n",
       "<style scoped>\n",
       "    .dataframe tbody tr th:only-of-type {\n",
       "        vertical-align: middle;\n",
       "    }\n",
       "\n",
       "    .dataframe tbody tr th {\n",
       "        vertical-align: top;\n",
       "    }\n",
       "\n",
       "    .dataframe thead th {\n",
       "        text-align: right;\n",
       "    }\n",
       "</style>\n",
       "<table border=\"1\" class=\"dataframe\">\n",
       "  <thead>\n",
       "    <tr style=\"text-align: right;\">\n",
       "      <th></th>\n",
       "      <th>Year</th>\n",
       "      <th>Car Name</th>\n",
       "      <th>Manufacturer</th>\n",
       "      <th>Make</th>\n",
       "      <th>Model</th>\n",
       "      <th>Status</th>\n",
       "      <th>Car_Class</th>\n",
       "      <th>Film</th>\n",
       "      <th>Role</th>\n",
       "    </tr>\n",
       "  </thead>\n",
       "  <tbody>\n",
       "    <tr>\n",
       "      <th>0</th>\n",
       "      <td>1966</td>\n",
       "      <td>Chevrolet Corvette Grand Sport Sting Ray</td>\n",
       "      <td>Chevrolet (General Motors)</td>\n",
       "      <td>Chevrolet</td>\n",
       "      <td>Corvette Sting Ray</td>\n",
       "      <td>Discontinued</td>\n",
       "      <td>2-door convertible, 2-door coupe</td>\n",
       "      <td>Fast Five</td>\n",
       "      <td>Minor</td>\n",
       "    </tr>\n",
       "    <tr>\n",
       "      <th>1</th>\n",
       "      <td>1967</td>\n",
       "      <td>Chevrolet C/K</td>\n",
       "      <td>General Motors</td>\n",
       "      <td>Chevrolet</td>\n",
       "      <td>C-10</td>\n",
       "      <td>Discontinued</td>\n",
       "      <td>Pickup truck</td>\n",
       "      <td>Fast &amp; Furious</td>\n",
       "      <td>Minor</td>\n",
       "    </tr>\n",
       "    <tr>\n",
       "      <th>2</th>\n",
       "      <td>1967</td>\n",
       "      <td>Chevrolet Camaro SS</td>\n",
       "      <td>General Motors</td>\n",
       "      <td>Chevrolet</td>\n",
       "      <td>Chevrolet Camaro SS</td>\n",
       "      <td>Discontinued</td>\n",
       "      <td>Pony car, Muscle car</td>\n",
       "      <td>Fast &amp; Furious 6</td>\n",
       "      <td>Minor</td>\n",
       "    </tr>\n",
       "    <tr>\n",
       "      <th>3</th>\n",
       "      <td>1967</td>\n",
       "      <td>Chevrolet Camaro Z28</td>\n",
       "      <td>General Motors</td>\n",
       "      <td>Chevrolet</td>\n",
       "      <td>Chevrolet Camaro Z28</td>\n",
       "      <td>Discontinued</td>\n",
       "      <td>Customized</td>\n",
       "      <td>Furious 7</td>\n",
       "      <td>Major</td>\n",
       "    </tr>\n",
       "    <tr>\n",
       "      <th>4</th>\n",
       "      <td>1967</td>\n",
       "      <td>Ford Mustang Fastback</td>\n",
       "      <td>Ford Motor Corporation</td>\n",
       "      <td>Ford</td>\n",
       "      <td>Mustang Fastback</td>\n",
       "      <td>In Production</td>\n",
       "      <td>Pony car</td>\n",
       "      <td>The Fast and the Furious: Tokyo Drift</td>\n",
       "      <td>Major</td>\n",
       "    </tr>\n",
       "  </tbody>\n",
       "</table>\n",
       "</div>"
      ],
      "text/plain": [
       "   Year                                  Car Name                Manufacturer  \\\n",
       "0  1966  Chevrolet Corvette Grand Sport Sting Ray  Chevrolet (General Motors)   \n",
       "1  1967                             Chevrolet C/K              General Motors   \n",
       "2  1967                       Chevrolet Camaro SS              General Motors   \n",
       "3  1967                      Chevrolet Camaro Z28              General Motors   \n",
       "4  1967                     Ford Mustang Fastback      Ford Motor Corporation   \n",
       "\n",
       "        Make                 Model         Status  \\\n",
       "0  Chevrolet    Corvette Sting Ray   Discontinued   \n",
       "1  Chevrolet                  C-10   Discontinued   \n",
       "2  Chevrolet   Chevrolet Camaro SS   Discontinued   \n",
       "3  Chevrolet  Chevrolet Camaro Z28   Discontinued   \n",
       "4       Ford      Mustang Fastback  In Production   \n",
       "\n",
       "                          Car_Class                                   Film  \\\n",
       "0  2-door convertible, 2-door coupe                              Fast Five   \n",
       "1                      Pickup truck                         Fast & Furious   \n",
       "2              Pony car, Muscle car                       Fast & Furious 6   \n",
       "3                        Customized                              Furious 7   \n",
       "4                          Pony car  The Fast and the Furious: Tokyo Drift   \n",
       "\n",
       "    Role  \n",
       "0  Minor  \n",
       "1  Minor  \n",
       "2  Minor  \n",
       "3  Major  \n",
       "4  Major  "
      ]
     },
     "execution_count": 11,
     "metadata": {},
     "output_type": "execute_result"
    }
   ],
   "source": [
    "df=df[['Year', 'Car Name', 'Manufacturer', 'Make', 'Model', 'Status', 'Car_Class', 'Film', 'Role']]\n",
    "df.head()"
   ]
  },
  {
   "cell_type": "code",
   "execution_count": 12,
   "id": "eb52be24",
   "metadata": {},
   "outputs": [
    {
     "name": "stdout",
     "output_type": "stream",
     "text": [
      "<class 'pandas.core.frame.DataFrame'>\n",
      "RangeIndex: 101 entries, 0 to 100\n",
      "Data columns (total 9 columns):\n",
      " #   Column        Non-Null Count  Dtype \n",
      "---  ------        --------------  ----- \n",
      " 0   Year          101 non-null    object\n",
      " 1   Car Name      101 non-null    object\n",
      " 2   Manufacturer  101 non-null    object\n",
      " 3   Make          101 non-null    object\n",
      " 4   Model         101 non-null    object\n",
      " 5   Status        100 non-null    object\n",
      " 6   Car_Class     98 non-null     object\n",
      " 7   Film          101 non-null    object\n",
      " 8   Role          100 non-null    object\n",
      "dtypes: object(9)\n",
      "memory usage: 7.2+ KB\n"
     ]
    }
   ],
   "source": [
    "df.info()"
   ]
  },
  {
   "cell_type": "code",
   "execution_count": 13,
   "id": "dc8494e5",
   "metadata": {},
   "outputs": [
    {
     "data": {
      "text/html": [
       "<div>\n",
       "<style scoped>\n",
       "    .dataframe tbody tr th:only-of-type {\n",
       "        vertical-align: middle;\n",
       "    }\n",
       "\n",
       "    .dataframe tbody tr th {\n",
       "        vertical-align: top;\n",
       "    }\n",
       "\n",
       "    .dataframe thead th {\n",
       "        text-align: right;\n",
       "    }\n",
       "</style>\n",
       "<table border=\"1\" class=\"dataframe\">\n",
       "  <thead>\n",
       "    <tr style=\"text-align: right;\">\n",
       "      <th></th>\n",
       "      <th>Year</th>\n",
       "      <th>Car Name</th>\n",
       "      <th>Manufacturer</th>\n",
       "      <th>Make</th>\n",
       "      <th>Model</th>\n",
       "      <th>Status</th>\n",
       "      <th>Car_Class</th>\n",
       "      <th>Film</th>\n",
       "      <th>Role</th>\n",
       "    </tr>\n",
       "  </thead>\n",
       "  <tbody>\n",
       "    <tr>\n",
       "      <th>0</th>\n",
       "      <td>1966</td>\n",
       "      <td>Chevrolet Corvette Grand Sport Sting Ray</td>\n",
       "      <td>Chevrolet (General Motors)</td>\n",
       "      <td>Chevrolet</td>\n",
       "      <td>Corvette Sting Ray</td>\n",
       "      <td>Discontinued</td>\n",
       "      <td>2-door convertible, 2-door coupe</td>\n",
       "      <td>Fast Five</td>\n",
       "      <td>Minor</td>\n",
       "    </tr>\n",
       "    <tr>\n",
       "      <th>1</th>\n",
       "      <td>1967</td>\n",
       "      <td>Chevrolet C/K</td>\n",
       "      <td>General Motors</td>\n",
       "      <td>Chevrolet</td>\n",
       "      <td>C-10</td>\n",
       "      <td>Discontinued</td>\n",
       "      <td>Pickup truck</td>\n",
       "      <td>Fast &amp; Furious</td>\n",
       "      <td>Minor</td>\n",
       "    </tr>\n",
       "    <tr>\n",
       "      <th>2</th>\n",
       "      <td>1967</td>\n",
       "      <td>Chevrolet Camaro SS</td>\n",
       "      <td>General Motors</td>\n",
       "      <td>Chevrolet</td>\n",
       "      <td>Chevrolet Camaro SS</td>\n",
       "      <td>Discontinued</td>\n",
       "      <td>Pony car, Muscle car</td>\n",
       "      <td>Fast &amp; Furious 6</td>\n",
       "      <td>Minor</td>\n",
       "    </tr>\n",
       "    <tr>\n",
       "      <th>3</th>\n",
       "      <td>1967</td>\n",
       "      <td>Chevrolet Camaro Z28</td>\n",
       "      <td>General Motors</td>\n",
       "      <td>Chevrolet</td>\n",
       "      <td>Chevrolet Camaro Z28</td>\n",
       "      <td>Discontinued</td>\n",
       "      <td>Customized</td>\n",
       "      <td>Furious 7</td>\n",
       "      <td>Major</td>\n",
       "    </tr>\n",
       "    <tr>\n",
       "      <th>4</th>\n",
       "      <td>1967</td>\n",
       "      <td>Ford Mustang Fastback</td>\n",
       "      <td>Ford Motor Corporation</td>\n",
       "      <td>Ford</td>\n",
       "      <td>Mustang Fastback</td>\n",
       "      <td>In Production</td>\n",
       "      <td>Pony car</td>\n",
       "      <td>The Fast and the Furious: Tokyo Drift</td>\n",
       "      <td>Major</td>\n",
       "    </tr>\n",
       "  </tbody>\n",
       "</table>\n",
       "</div>"
      ],
      "text/plain": [
       "   Year                                  Car Name                Manufacturer  \\\n",
       "0  1966  Chevrolet Corvette Grand Sport Sting Ray  Chevrolet (General Motors)   \n",
       "1  1967                             Chevrolet C/K              General Motors   \n",
       "2  1967                       Chevrolet Camaro SS              General Motors   \n",
       "3  1967                      Chevrolet Camaro Z28              General Motors   \n",
       "4  1967                     Ford Mustang Fastback      Ford Motor Corporation   \n",
       "\n",
       "        Make                 Model         Status  \\\n",
       "0  Chevrolet    Corvette Sting Ray   Discontinued   \n",
       "1  Chevrolet                  C-10   Discontinued   \n",
       "2  Chevrolet   Chevrolet Camaro SS   Discontinued   \n",
       "3  Chevrolet  Chevrolet Camaro Z28   Discontinued   \n",
       "4       Ford      Mustang Fastback  In Production   \n",
       "\n",
       "                          Car_Class                                   Film  \\\n",
       "0  2-door convertible, 2-door coupe                              Fast Five   \n",
       "1                      Pickup truck                         Fast & Furious   \n",
       "2              Pony car, Muscle car                       Fast & Furious 6   \n",
       "3                        Customized                              Furious 7   \n",
       "4                          Pony car  The Fast and the Furious: Tokyo Drift   \n",
       "\n",
       "    Role  \n",
       "0  Minor  \n",
       "1  Minor  \n",
       "2  Minor  \n",
       "3  Major  \n",
       "4  Major  "
      ]
     },
     "execution_count": 13,
     "metadata": {},
     "output_type": "execute_result"
    }
   ],
   "source": [
    "df['Year']= pd.to_datetime(df['Year'], format='%Y-%m-%d').dt.year\n",
    "df.head()"
   ]
  },
  {
   "cell_type": "code",
   "execution_count": 14,
   "id": "b6934ede",
   "metadata": {},
   "outputs": [
    {
     "name": "stdout",
     "output_type": "stream",
     "text": [
      "<class 'pandas.core.frame.DataFrame'>\n",
      "RangeIndex: 101 entries, 0 to 100\n",
      "Data columns (total 9 columns):\n",
      " #   Column        Non-Null Count  Dtype \n",
      "---  ------        --------------  ----- \n",
      " 0   Year          101 non-null    int64 \n",
      " 1   Car Name      101 non-null    object\n",
      " 2   Manufacturer  101 non-null    object\n",
      " 3   Make          101 non-null    object\n",
      " 4   Model         101 non-null    object\n",
      " 5   Status        100 non-null    object\n",
      " 6   Car_Class     98 non-null     object\n",
      " 7   Film          101 non-null    object\n",
      " 8   Role          100 non-null    object\n",
      "dtypes: int64(1), object(8)\n",
      "memory usage: 7.2+ KB\n"
     ]
    }
   ],
   "source": [
    "df.info()"
   ]
  },
  {
   "cell_type": "code",
   "execution_count": 15,
   "id": "080d758a",
   "metadata": {},
   "outputs": [
    {
     "data": {
      "text/html": [
       "<div>\n",
       "<style scoped>\n",
       "    .dataframe tbody tr th:only-of-type {\n",
       "        vertical-align: middle;\n",
       "    }\n",
       "\n",
       "    .dataframe tbody tr th {\n",
       "        vertical-align: top;\n",
       "    }\n",
       "\n",
       "    .dataframe thead th {\n",
       "        text-align: right;\n",
       "    }\n",
       "</style>\n",
       "<table border=\"1\" class=\"dataframe\">\n",
       "  <thead>\n",
       "    <tr style=\"text-align: right;\">\n",
       "      <th></th>\n",
       "      <th>Movie</th>\n",
       "      <th>Release Year</th>\n",
       "      <th>FF_Order</th>\n",
       "    </tr>\n",
       "  </thead>\n",
       "  <tbody>\n",
       "    <tr>\n",
       "      <th>0</th>\n",
       "      <td>The Fast and the Furious</td>\n",
       "      <td>2001</td>\n",
       "      <td>1</td>\n",
       "    </tr>\n",
       "    <tr>\n",
       "      <th>1</th>\n",
       "      <td>2 Fast 2 Furious</td>\n",
       "      <td>2003</td>\n",
       "      <td>2</td>\n",
       "    </tr>\n",
       "    <tr>\n",
       "      <th>2</th>\n",
       "      <td>The Fast and the Furious: Tokyo Drift</td>\n",
       "      <td>2006</td>\n",
       "      <td>3</td>\n",
       "    </tr>\n",
       "    <tr>\n",
       "      <th>3</th>\n",
       "      <td>Fast &amp; Furious</td>\n",
       "      <td>2009</td>\n",
       "      <td>4</td>\n",
       "    </tr>\n",
       "    <tr>\n",
       "      <th>4</th>\n",
       "      <td>Fast Five</td>\n",
       "      <td>2011</td>\n",
       "      <td>5</td>\n",
       "    </tr>\n",
       "    <tr>\n",
       "      <th>5</th>\n",
       "      <td>Fast &amp; Furious 6</td>\n",
       "      <td>2013</td>\n",
       "      <td>6</td>\n",
       "    </tr>\n",
       "    <tr>\n",
       "      <th>6</th>\n",
       "      <td>Furious 7</td>\n",
       "      <td>2015</td>\n",
       "      <td>7</td>\n",
       "    </tr>\n",
       "    <tr>\n",
       "      <th>7</th>\n",
       "      <td>The Fate of the Furious</td>\n",
       "      <td>2017</td>\n",
       "      <td>8</td>\n",
       "    </tr>\n",
       "    <tr>\n",
       "      <th>8</th>\n",
       "      <td>F9</td>\n",
       "      <td>2021</td>\n",
       "      <td>9</td>\n",
       "    </tr>\n",
       "  </tbody>\n",
       "</table>\n",
       "</div>"
      ],
      "text/plain": [
       "                                   Movie  Release Year  FF_Order\n",
       "0               The Fast and the Furious          2001         1\n",
       "1                       2 Fast 2 Furious          2003         2\n",
       "2  The Fast and the Furious: Tokyo Drift          2006         3\n",
       "3                         Fast & Furious          2009         4\n",
       "4                              Fast Five          2011         5\n",
       "5                       Fast & Furious 6          2013         6\n",
       "6                              Furious 7          2015         7\n",
       "7                The Fate of the Furious          2017         8\n",
       "8                                     F9          2021         9"
      ]
     },
     "execution_count": 15,
     "metadata": {},
     "output_type": "execute_result"
    }
   ],
   "source": [
    "pd.read_csv('ff_movie_dates.csv').dropna(axis=1)"
   ]
  },
  {
   "cell_type": "code",
   "execution_count": 16,
   "id": "f9a543d2",
   "metadata": {},
   "outputs": [
    {
     "data": {
      "text/html": [
       "<div>\n",
       "<style scoped>\n",
       "    .dataframe tbody tr th:only-of-type {\n",
       "        vertical-align: middle;\n",
       "    }\n",
       "\n",
       "    .dataframe tbody tr th {\n",
       "        vertical-align: top;\n",
       "    }\n",
       "\n",
       "    .dataframe thead th {\n",
       "        text-align: right;\n",
       "    }\n",
       "</style>\n",
       "<table border=\"1\" class=\"dataframe\">\n",
       "  <thead>\n",
       "    <tr style=\"text-align: right;\">\n",
       "      <th></th>\n",
       "      <th>Car</th>\n",
       "      <th>Sale Date</th>\n",
       "      <th>Sale Amount</th>\n",
       "      <th>Currency unit</th>\n",
       "      <th>Sold Location</th>\n",
       "      <th>Source</th>\n",
       "    </tr>\n",
       "  </thead>\n",
       "  <tbody>\n",
       "    <tr>\n",
       "      <th>0</th>\n",
       "      <td>1996 Nissan Skyline (R33) GT-R</td>\n",
       "      <td>05/10/2022</td>\n",
       "      <td>140000</td>\n",
       "      <td>GBP</td>\n",
       "      <td>Great Britain</td>\n",
       "      <td>collectingcars.com</td>\n",
       "    </tr>\n",
       "    <tr>\n",
       "      <th>1</th>\n",
       "      <td>1996 Nissan Skyline (R33) GT-R</td>\n",
       "      <td>01/26/2022</td>\n",
       "      <td>221500</td>\n",
       "      <td>AUD</td>\n",
       "      <td>Australia</td>\n",
       "      <td>collectingcars.com</td>\n",
       "    </tr>\n",
       "    <tr>\n",
       "      <th>2</th>\n",
       "      <td>1996 Nissan Skyline (R33) GT-R</td>\n",
       "      <td>10/21/2021</td>\n",
       "      <td>100000</td>\n",
       "      <td>GBP</td>\n",
       "      <td>Great Britain</td>\n",
       "      <td>collectingcars.com</td>\n",
       "    </tr>\n",
       "    <tr>\n",
       "      <th>3</th>\n",
       "      <td>1996 Nissan Skyline (R33) GT-R</td>\n",
       "      <td>07/13/2021</td>\n",
       "      <td>310000</td>\n",
       "      <td>USD</td>\n",
       "      <td>USA</td>\n",
       "      <td>bringatrailer.com</td>\n",
       "    </tr>\n",
       "    <tr>\n",
       "      <th>4</th>\n",
       "      <td>1996 Nissan Skyline (R33) GT-R</td>\n",
       "      <td>06/22/2021</td>\n",
       "      <td>315187</td>\n",
       "      <td>USD</td>\n",
       "      <td>USA</td>\n",
       "      <td>bringatrailer.com</td>\n",
       "    </tr>\n",
       "    <tr>\n",
       "      <th>...</th>\n",
       "      <td>...</td>\n",
       "      <td>...</td>\n",
       "      <td>...</td>\n",
       "      <td>...</td>\n",
       "      <td>...</td>\n",
       "      <td>...</td>\n",
       "    </tr>\n",
       "    <tr>\n",
       "      <th>318</th>\n",
       "      <td>1971 Jensen Interceptor</td>\n",
       "      <td>12/12/2016</td>\n",
       "      <td>10600</td>\n",
       "      <td>USD</td>\n",
       "      <td>USA</td>\n",
       "      <td>bringatrailer.com</td>\n",
       "    </tr>\n",
       "    <tr>\n",
       "      <th>319</th>\n",
       "      <td>1969 Dodge Charger Daytona</td>\n",
       "      <td>05/26/2021</td>\n",
       "      <td>245000</td>\n",
       "      <td>USD</td>\n",
       "      <td>USA</td>\n",
       "      <td>rmsothebys.com</td>\n",
       "    </tr>\n",
       "    <tr>\n",
       "      <th>320</th>\n",
       "      <td>1969 Dodge Charger Daytona</td>\n",
       "      <td>03/27/2021</td>\n",
       "      <td>236500</td>\n",
       "      <td>USD</td>\n",
       "      <td>USA</td>\n",
       "      <td>barrettjackson.com</td>\n",
       "    </tr>\n",
       "    <tr>\n",
       "      <th>321</th>\n",
       "      <td>1969 Dodge Charger Daytona</td>\n",
       "      <td>01/17/2018</td>\n",
       "      <td>198000</td>\n",
       "      <td>USD</td>\n",
       "      <td>USA</td>\n",
       "      <td>russoandsteele.com</td>\n",
       "    </tr>\n",
       "    <tr>\n",
       "      <th>322</th>\n",
       "      <td>1969 Dodge Charger Daytona</td>\n",
       "      <td>01/27/2016</td>\n",
       "      <td>159500</td>\n",
       "      <td>USD</td>\n",
       "      <td>USA</td>\n",
       "      <td>russoandsteele.com</td>\n",
       "    </tr>\n",
       "  </tbody>\n",
       "</table>\n",
       "<p>323 rows × 6 columns</p>\n",
       "</div>"
      ],
      "text/plain": [
       "                                Car   Sale Date  Sale Amount Currency unit  \\\n",
       "0    1996 Nissan Skyline (R33) GT-R  05/10/2022       140000           GBP   \n",
       "1    1996 Nissan Skyline (R33) GT-R  01/26/2022       221500           AUD   \n",
       "2    1996 Nissan Skyline (R33) GT-R  10/21/2021       100000           GBP   \n",
       "3    1996 Nissan Skyline (R33) GT-R  07/13/2021       310000           USD   \n",
       "4    1996 Nissan Skyline (R33) GT-R  06/22/2021       315187           USD   \n",
       "..                              ...         ...          ...           ...   \n",
       "318         1971 Jensen Interceptor  12/12/2016        10600           USD   \n",
       "319      1969 Dodge Charger Daytona  05/26/2021       245000           USD   \n",
       "320      1969 Dodge Charger Daytona  03/27/2021       236500           USD   \n",
       "321      1969 Dodge Charger Daytona  01/17/2018       198000           USD   \n",
       "322      1969 Dodge Charger Daytona  01/27/2016       159500           USD   \n",
       "\n",
       "     Sold Location              Source  \n",
       "0    Great Britain  collectingcars.com  \n",
       "1        Australia  collectingcars.com  \n",
       "2    Great Britain  collectingcars.com  \n",
       "3              USA   bringatrailer.com  \n",
       "4              USA   bringatrailer.com  \n",
       "..             ...                 ...  \n",
       "318            USA   bringatrailer.com  \n",
       "319            USA      rmsothebys.com  \n",
       "320            USA  barrettjackson.com  \n",
       "321            USA  russoandsteele.com  \n",
       "322            USA  russoandsteele.com  \n",
       "\n",
       "[323 rows x 6 columns]"
      ]
     },
     "execution_count": 16,
     "metadata": {},
     "output_type": "execute_result"
    }
   ],
   "source": [
    "car_sales = pd.read_csv('ff_cars_sales.csv')\n",
    "car_sales"
   ]
  },
  {
   "cell_type": "code",
   "execution_count": 17,
   "id": "e7479015",
   "metadata": {},
   "outputs": [
    {
     "data": {
      "text/html": [
       "<div>\n",
       "<style scoped>\n",
       "    .dataframe tbody tr th:only-of-type {\n",
       "        vertical-align: middle;\n",
       "    }\n",
       "\n",
       "    .dataframe tbody tr th {\n",
       "        vertical-align: top;\n",
       "    }\n",
       "\n",
       "    .dataframe thead th {\n",
       "        text-align: right;\n",
       "    }\n",
       "</style>\n",
       "<table border=\"1\" class=\"dataframe\">\n",
       "  <thead>\n",
       "    <tr style=\"text-align: right;\">\n",
       "      <th></th>\n",
       "      <th>Sale Date</th>\n",
       "      <th>Sale Amount</th>\n",
       "      <th>Currency unit</th>\n",
       "      <th>Sold Location</th>\n",
       "      <th>Source</th>\n",
       "      <th>Year</th>\n",
       "      <th>Make</th>\n",
       "      <th>Model</th>\n",
       "    </tr>\n",
       "  </thead>\n",
       "  <tbody>\n",
       "    <tr>\n",
       "      <th>0</th>\n",
       "      <td>05/10/2022</td>\n",
       "      <td>140000</td>\n",
       "      <td>GBP</td>\n",
       "      <td>Great Britain</td>\n",
       "      <td>collectingcars.com</td>\n",
       "      <td>1996</td>\n",
       "      <td>Nissan</td>\n",
       "      <td>Skyline (R33) GT-R</td>\n",
       "    </tr>\n",
       "    <tr>\n",
       "      <th>1</th>\n",
       "      <td>01/26/2022</td>\n",
       "      <td>221500</td>\n",
       "      <td>AUD</td>\n",
       "      <td>Australia</td>\n",
       "      <td>collectingcars.com</td>\n",
       "      <td>1996</td>\n",
       "      <td>Nissan</td>\n",
       "      <td>Skyline (R33) GT-R</td>\n",
       "    </tr>\n",
       "    <tr>\n",
       "      <th>2</th>\n",
       "      <td>10/21/2021</td>\n",
       "      <td>100000</td>\n",
       "      <td>GBP</td>\n",
       "      <td>Great Britain</td>\n",
       "      <td>collectingcars.com</td>\n",
       "      <td>1996</td>\n",
       "      <td>Nissan</td>\n",
       "      <td>Skyline (R33) GT-R</td>\n",
       "    </tr>\n",
       "    <tr>\n",
       "      <th>3</th>\n",
       "      <td>07/13/2021</td>\n",
       "      <td>310000</td>\n",
       "      <td>USD</td>\n",
       "      <td>USA</td>\n",
       "      <td>bringatrailer.com</td>\n",
       "      <td>1996</td>\n",
       "      <td>Nissan</td>\n",
       "      <td>Skyline (R33) GT-R</td>\n",
       "    </tr>\n",
       "    <tr>\n",
       "      <th>4</th>\n",
       "      <td>06/22/2021</td>\n",
       "      <td>315187</td>\n",
       "      <td>USD</td>\n",
       "      <td>USA</td>\n",
       "      <td>bringatrailer.com</td>\n",
       "      <td>1996</td>\n",
       "      <td>Nissan</td>\n",
       "      <td>Skyline (R33) GT-R</td>\n",
       "    </tr>\n",
       "    <tr>\n",
       "      <th>...</th>\n",
       "      <td>...</td>\n",
       "      <td>...</td>\n",
       "      <td>...</td>\n",
       "      <td>...</td>\n",
       "      <td>...</td>\n",
       "      <td>...</td>\n",
       "      <td>...</td>\n",
       "      <td>...</td>\n",
       "    </tr>\n",
       "    <tr>\n",
       "      <th>318</th>\n",
       "      <td>12/12/2016</td>\n",
       "      <td>10600</td>\n",
       "      <td>USD</td>\n",
       "      <td>USA</td>\n",
       "      <td>bringatrailer.com</td>\n",
       "      <td>1971</td>\n",
       "      <td>Jensen</td>\n",
       "      <td>Interceptor</td>\n",
       "    </tr>\n",
       "    <tr>\n",
       "      <th>319</th>\n",
       "      <td>05/26/2021</td>\n",
       "      <td>245000</td>\n",
       "      <td>USD</td>\n",
       "      <td>USA</td>\n",
       "      <td>rmsothebys.com</td>\n",
       "      <td>1969</td>\n",
       "      <td>Dodge</td>\n",
       "      <td>Charger Daytona</td>\n",
       "    </tr>\n",
       "    <tr>\n",
       "      <th>320</th>\n",
       "      <td>03/27/2021</td>\n",
       "      <td>236500</td>\n",
       "      <td>USD</td>\n",
       "      <td>USA</td>\n",
       "      <td>barrettjackson.com</td>\n",
       "      <td>1969</td>\n",
       "      <td>Dodge</td>\n",
       "      <td>Charger Daytona</td>\n",
       "    </tr>\n",
       "    <tr>\n",
       "      <th>321</th>\n",
       "      <td>01/17/2018</td>\n",
       "      <td>198000</td>\n",
       "      <td>USD</td>\n",
       "      <td>USA</td>\n",
       "      <td>russoandsteele.com</td>\n",
       "      <td>1969</td>\n",
       "      <td>Dodge</td>\n",
       "      <td>Charger Daytona</td>\n",
       "    </tr>\n",
       "    <tr>\n",
       "      <th>322</th>\n",
       "      <td>01/27/2016</td>\n",
       "      <td>159500</td>\n",
       "      <td>USD</td>\n",
       "      <td>USA</td>\n",
       "      <td>russoandsteele.com</td>\n",
       "      <td>1969</td>\n",
       "      <td>Dodge</td>\n",
       "      <td>Charger Daytona</td>\n",
       "    </tr>\n",
       "  </tbody>\n",
       "</table>\n",
       "<p>323 rows × 8 columns</p>\n",
       "</div>"
      ],
      "text/plain": [
       "      Sale Date  Sale Amount Currency unit  Sold Location              Source  \\\n",
       "0    05/10/2022       140000           GBP  Great Britain  collectingcars.com   \n",
       "1    01/26/2022       221500           AUD      Australia  collectingcars.com   \n",
       "2    10/21/2021       100000           GBP  Great Britain  collectingcars.com   \n",
       "3    07/13/2021       310000           USD            USA   bringatrailer.com   \n",
       "4    06/22/2021       315187           USD            USA   bringatrailer.com   \n",
       "..          ...          ...           ...            ...                 ...   \n",
       "318  12/12/2016        10600           USD            USA   bringatrailer.com   \n",
       "319  05/26/2021       245000           USD            USA      rmsothebys.com   \n",
       "320  03/27/2021       236500           USD            USA  barrettjackson.com   \n",
       "321  01/17/2018       198000           USD            USA  russoandsteele.com   \n",
       "322  01/27/2016       159500           USD            USA  russoandsteele.com   \n",
       "\n",
       "     Year    Make               Model  \n",
       "0    1996  Nissan  Skyline (R33) GT-R  \n",
       "1    1996  Nissan  Skyline (R33) GT-R  \n",
       "2    1996  Nissan  Skyline (R33) GT-R  \n",
       "3    1996  Nissan  Skyline (R33) GT-R  \n",
       "4    1996  Nissan  Skyline (R33) GT-R  \n",
       "..    ...     ...                 ...  \n",
       "318  1971  Jensen         Interceptor  \n",
       "319  1969   Dodge     Charger Daytona  \n",
       "320  1969   Dodge     Charger Daytona  \n",
       "321  1969   Dodge     Charger Daytona  \n",
       "322  1969   Dodge     Charger Daytona  \n",
       "\n",
       "[323 rows x 8 columns]"
      ]
     },
     "execution_count": 17,
     "metadata": {},
     "output_type": "execute_result"
    }
   ],
   "source": [
    "new = car_sales['Car'].str.split(' ', n=2, expand=True)\n",
    "car_sales['Year'] = new[0]\n",
    "car_sales['Make'] = new[1]\n",
    "car_sales['Model'] =new[2]\n",
    "car_sales.drop(columns = ['Car'], inplace=True)\n",
    "car_sales"
   ]
  },
  {
   "cell_type": "code",
   "execution_count": 18,
   "id": "e83f48de",
   "metadata": {},
   "outputs": [
    {
     "name": "stdout",
     "output_type": "stream",
     "text": [
      "<class 'pandas.core.frame.DataFrame'>\n",
      "RangeIndex: 323 entries, 0 to 322\n",
      "Data columns (total 8 columns):\n",
      " #   Column         Non-Null Count  Dtype \n",
      "---  ------         --------------  ----- \n",
      " 0   Sale Date      323 non-null    object\n",
      " 1   Sale Amount    323 non-null    int64 \n",
      " 2   Currency unit  323 non-null    object\n",
      " 3   Sold Location  323 non-null    object\n",
      " 4   Source         323 non-null    object\n",
      " 5   Year           323 non-null    object\n",
      " 6   Make           323 non-null    object\n",
      " 7   Model          323 non-null    object\n",
      "dtypes: int64(1), object(7)\n",
      "memory usage: 20.3+ KB\n"
     ]
    }
   ],
   "source": [
    "car_sales.info()"
   ]
  },
  {
   "cell_type": "code",
   "execution_count": 19,
   "id": "2d29fd3e",
   "metadata": {},
   "outputs": [
    {
     "name": "stdout",
     "output_type": "stream",
     "text": [
      "<class 'pandas.core.frame.DataFrame'>\n",
      "RangeIndex: 323 entries, 0 to 322\n",
      "Data columns (total 8 columns):\n",
      " #   Column         Non-Null Count  Dtype         \n",
      "---  ------         --------------  -----         \n",
      " 0   Sale Date      323 non-null    datetime64[ns]\n",
      " 1   Sale Amount    323 non-null    int64         \n",
      " 2   Currency unit  323 non-null    object        \n",
      " 3   Sold Location  323 non-null    object        \n",
      " 4   Source         323 non-null    object        \n",
      " 5   Year           323 non-null    int64         \n",
      " 6   Make           323 non-null    object        \n",
      " 7   Model          323 non-null    object        \n",
      "dtypes: datetime64[ns](1), int64(2), object(5)\n",
      "memory usage: 20.3+ KB\n"
     ]
    }
   ],
   "source": [
    "car_sales['Sale Date']= pd.to_datetime(car_sales['Sale Date'])\n",
    "car_sales['Year']= pd.to_datetime(car_sales['Year'], format='%Y-%m-%d').dt.year\n",
    "\n",
    "car_sales.info()"
   ]
  },
  {
   "cell_type": "code",
   "execution_count": 102,
   "id": "b2809bb4",
   "metadata": {},
   "outputs": [],
   "source": [
    "car_sales.to_csv('car_sales_clean.csv')"
   ]
  },
  {
   "cell_type": "code",
   "execution_count": 20,
   "id": "6673f29d",
   "metadata": {},
   "outputs": [],
   "source": [
    "car_year = df.groupby('Year')"
   ]
  },
  {
   "cell_type": "code",
   "execution_count": 21,
   "id": "bcdc51bd",
   "metadata": {},
   "outputs": [
    {
     "data": {
      "text/plain": [
       "Year\n",
       "1965    1\n",
       "1966    1\n",
       "1967    4\n",
       "1968    2\n",
       "1969    3\n",
       "1970    7\n",
       "1971    4\n",
       "1972    2\n",
       "1973    1\n",
       "1978    1\n",
       "1984    1\n",
       "1987    1\n",
       "1992    1\n",
       "1993    5\n",
       "1994    2\n",
       "1995    5\n",
       "1996    1\n",
       "1997    2\n",
       "1998    1\n",
       "1999    5\n",
       "2000    5\n",
       "2001    2\n",
       "2002    4\n",
       "2003    3\n",
       "2004    2\n",
       "2005    2\n",
       "2006    3\n",
       "2007    1\n",
       "2008    1\n",
       "2009    3\n",
       "2010    3\n",
       "2011    8\n",
       "2012    4\n",
       "2013    2\n",
       "2014    4\n",
       "2015    2\n",
       "2019    1\n",
       "2020    1\n",
       "dtype: int64"
      ]
     },
     "execution_count": 21,
     "metadata": {},
     "output_type": "execute_result"
    }
   ],
   "source": [
    "car_year.size()"
   ]
  },
  {
   "cell_type": "code",
   "execution_count": 36,
   "id": "63d060f6",
   "metadata": {},
   "outputs": [
    {
     "data": {
      "text/plain": [
       "<AxesSubplot:title={'center':'car year'}, ylabel='Frequency'>"
      ]
     },
     "execution_count": 36,
     "metadata": {},
     "output_type": "execute_result"
    },
    {
     "data": {
      "image/png": "[encoded data removed]",
      "text/plain": [
       "<Figure size 1920x1440 with 1 Axes>"
      ]
     },
     "metadata": {
      "needs_background": "light"
     },
     "output_type": "display_data"
    }
   ],
   "source": [
    "#df.hist()\n",
    "#plt.rcParams[\"figure.figsize\"] = (20,8)\n",
    "plt.figure(figsize=(8, 6), dpi= 240)\n",
    "df['Year'].plot(kind='hist', color='green', title= 'car year', bins = [1960, 1970, 1975, 1980, 1985, 1990, 1995, 2000, 2005, 2010, 2015, 2022], rwidth=0.7)"
   ]
  },
  {
   "cell_type": "code",
   "execution_count": 39,
   "id": "db921265",
   "metadata": {},
   "outputs": [
    {
     "data": {
      "image/png": "[encoded data removed]",
      "text/plain": [
       "<Figure size 1440x576 with 1 Axes>"
      ]
     },
     "metadata": {
      "needs_background": "light"
     },
     "output_type": "display_data"
    }
   ],
   "source": [
    "x = np.array(car_sales['Sale Date'])\n",
    "y = np.array(car_sales['Sale Amount'])\n",
    "plt.ylim(0, 300000)\n",
    "\n",
    "\n",
    "plt.scatter(x, y)\n",
    "plt.show()"
   ]
  },
  {
   "cell_type": "code",
   "execution_count": 60,
   "id": "bbc893bf",
   "metadata": {},
   "outputs": [],
   "source": [
    "cars = car_sales.groupby(['Model', 'Year'])\n"
   ]
  },
  {
   "cell_type": "code",
   "execution_count": 25,
   "id": "a8a75bce",
   "metadata": {},
   "outputs": [
    {
     "data": {
      "text/html": [
       "<div>\n",
       "<style scoped>\n",
       "    .dataframe tbody tr th:only-of-type {\n",
       "        vertical-align: middle;\n",
       "    }\n",
       "\n",
       "    .dataframe tbody tr th {\n",
       "        vertical-align: top;\n",
       "    }\n",
       "\n",
       "    .dataframe thead tr th {\n",
       "        text-align: left;\n",
       "    }\n",
       "\n",
       "    .dataframe thead tr:last-of-type th {\n",
       "        text-align: right;\n",
       "    }\n",
       "</style>\n",
       "<table border=\"1\" class=\"dataframe\">\n",
       "  <thead>\n",
       "    <tr>\n",
       "      <th></th>\n",
       "      <th></th>\n",
       "      <th colspan=\"8\" halign=\"left\">Sale Amount</th>\n",
       "    </tr>\n",
       "    <tr>\n",
       "      <th></th>\n",
       "      <th></th>\n",
       "      <th>count</th>\n",
       "      <th>mean</th>\n",
       "      <th>std</th>\n",
       "      <th>min</th>\n",
       "      <th>25%</th>\n",
       "      <th>50%</th>\n",
       "      <th>75%</th>\n",
       "      <th>max</th>\n",
       "    </tr>\n",
       "    <tr>\n",
       "      <th>Model</th>\n",
       "      <th>Year</th>\n",
       "      <th></th>\n",
       "      <th></th>\n",
       "      <th></th>\n",
       "      <th></th>\n",
       "      <th></th>\n",
       "      <th></th>\n",
       "      <th></th>\n",
       "      <th></th>\n",
       "    </tr>\n",
       "  </thead>\n",
       "  <tbody>\n",
       "    <tr>\n",
       "      <th>540i</th>\n",
       "      <th>2001</th>\n",
       "      <td>11.00</td>\n",
       "      <td>9,723.18</td>\n",
       "      <td>4,566.32</td>\n",
       "      <td>4,300.00</td>\n",
       "      <td>7,000.00</td>\n",
       "      <td>9,100.00</td>\n",
       "      <td>10,677.50</td>\n",
       "      <td>21,000.00</td>\n",
       "    </tr>\n",
       "    <tr>\n",
       "      <th>Armored Vehicle</th>\n",
       "      <th>2012</th>\n",
       "      <td>1.00</td>\n",
       "      <td>198,000.00</td>\n",
       "      <td>nan</td>\n",
       "      <td>198,000.00</td>\n",
       "      <td>198,000.00</td>\n",
       "      <td>198,000.00</td>\n",
       "      <td>198,000.00</td>\n",
       "      <td>198,000.00</td>\n",
       "    </tr>\n",
       "    <tr>\n",
       "      <th>Camaro RS Z28</th>\n",
       "      <th>1973</th>\n",
       "      <td>8.00</td>\n",
       "      <td>40,925.00</td>\n",
       "      <td>10,873.53</td>\n",
       "      <td>22,500.00</td>\n",
       "      <td>34,800.00</td>\n",
       "      <td>42,900.00</td>\n",
       "      <td>48,125.00</td>\n",
       "      <td>55,000.00</td>\n",
       "    </tr>\n",
       "    <tr>\n",
       "      <th>Charger Daytona</th>\n",
       "      <th>1969</th>\n",
       "      <td>4.00</td>\n",
       "      <td>209,750.00</td>\n",
       "      <td>39,248.14</td>\n",
       "      <td>159,500.00</td>\n",
       "      <td>188,375.00</td>\n",
       "      <td>217,250.00</td>\n",
       "      <td>238,625.00</td>\n",
       "      <td>245,000.00</td>\n",
       "    </tr>\n",
       "    <tr>\n",
       "      <th>Charger R/T</th>\n",
       "      <th>1970</th>\n",
       "      <td>63.00</td>\n",
       "      <td>84,786.98</td>\n",
       "      <td>48,685.41</td>\n",
       "      <td>37,000.00</td>\n",
       "      <td>54,500.00</td>\n",
       "      <td>72,600.00</td>\n",
       "      <td>93,500.00</td>\n",
       "      <td>352,000.00</td>\n",
       "    </tr>\n",
       "    <tr>\n",
       "      <th>Corvette Stingray</th>\n",
       "      <th>1966</th>\n",
       "      <td>2.00</td>\n",
       "      <td>94,250.00</td>\n",
       "      <td>16,617.01</td>\n",
       "      <td>82,500.00</td>\n",
       "      <td>88,375.00</td>\n",
       "      <td>94,250.00</td>\n",
       "      <td>100,125.00</td>\n",
       "      <td>106,000.00</td>\n",
       "    </tr>\n",
       "    <tr>\n",
       "      <th rowspan=\"2\" valign=\"top\">Eclipse</th>\n",
       "      <th>1995</th>\n",
       "      <td>2.00</td>\n",
       "      <td>17,900.00</td>\n",
       "      <td>23,051.68</td>\n",
       "      <td>1,600.00</td>\n",
       "      <td>9,750.00</td>\n",
       "      <td>17,900.00</td>\n",
       "      <td>26,050.00</td>\n",
       "      <td>34,200.00</td>\n",
       "    </tr>\n",
       "    <tr>\n",
       "      <th>2003</th>\n",
       "      <td>2.00</td>\n",
       "      <td>1,417.50</td>\n",
       "      <td>1,417.75</td>\n",
       "      <td>415.00</td>\n",
       "      <td>916.25</td>\n",
       "      <td>1,417.50</td>\n",
       "      <td>1,918.75</td>\n",
       "      <td>2,420.00</td>\n",
       "    </tr>\n",
       "    <tr>\n",
       "      <th>Eclipse Fast and Furious</th>\n",
       "      <th>1995</th>\n",
       "      <td>1.00</td>\n",
       "      <td>155,000.00</td>\n",
       "      <td>nan</td>\n",
       "      <td>155,000.00</td>\n",
       "      <td>155,000.00</td>\n",
       "      <td>155,000.00</td>\n",
       "      <td>155,000.00</td>\n",
       "      <td>155,000.00</td>\n",
       "    </tr>\n",
       "    <tr>\n",
       "      <th>GT40</th>\n",
       "      <th>1965</th>\n",
       "      <td>2.00</td>\n",
       "      <td>7,290,000.00</td>\n",
       "      <td>509,116.88</td>\n",
       "      <td>6,930,000.00</td>\n",
       "      <td>7,110,000.00</td>\n",
       "      <td>7,290,000.00</td>\n",
       "      <td>7,470,000.00</td>\n",
       "      <td>7,650,000.00</td>\n",
       "    </tr>\n",
       "    <tr>\n",
       "      <th>GT40 Replica</th>\n",
       "      <th>1965</th>\n",
       "      <td>2.00</td>\n",
       "      <td>154,500.00</td>\n",
       "      <td>77,074.64</td>\n",
       "      <td>100,000.00</td>\n",
       "      <td>127,250.00</td>\n",
       "      <td>154,500.00</td>\n",
       "      <td>181,750.00</td>\n",
       "      <td>209,000.00</td>\n",
       "    </tr>\n",
       "    <tr>\n",
       "      <th>Gran Torino Sport</th>\n",
       "      <th>1972</th>\n",
       "      <td>11.00</td>\n",
       "      <td>32,354.55</td>\n",
       "      <td>20,139.73</td>\n",
       "      <td>8,900.00</td>\n",
       "      <td>22,150.00</td>\n",
       "      <td>29,000.00</td>\n",
       "      <td>33,900.00</td>\n",
       "      <td>84,700.00</td>\n",
       "    </tr>\n",
       "    <tr>\n",
       "      <th>Impreza WRX STI</th>\n",
       "      <th>2009</th>\n",
       "      <td>3.00</td>\n",
       "      <td>17,500.00</td>\n",
       "      <td>3,605.55</td>\n",
       "      <td>13,500.00</td>\n",
       "      <td>16,000.00</td>\n",
       "      <td>18,500.00</td>\n",
       "      <td>19,500.00</td>\n",
       "      <td>20,500.00</td>\n",
       "    </tr>\n",
       "    <tr>\n",
       "      <th>Integra GS-R</th>\n",
       "      <th>1994</th>\n",
       "      <td>7.00</td>\n",
       "      <td>10,693.14</td>\n",
       "      <td>5,423.58</td>\n",
       "      <td>5,200.00</td>\n",
       "      <td>6,950.00</td>\n",
       "      <td>8,002.00</td>\n",
       "      <td>13,875.00</td>\n",
       "      <td>20,000.00</td>\n",
       "    </tr>\n",
       "    <tr>\n",
       "      <th>Interceptor</th>\n",
       "      <th>1971</th>\n",
       "      <td>7.00</td>\n",
       "      <td>35,686.00</td>\n",
       "      <td>17,013.47</td>\n",
       "      <td>10,600.00</td>\n",
       "      <td>24,750.00</td>\n",
       "      <td>33,250.00</td>\n",
       "      <td>51,346.00</td>\n",
       "      <td>53,760.00</td>\n",
       "    </tr>\n",
       "    <tr>\n",
       "      <th>Jetta Fast and Furious</th>\n",
       "      <th>1995</th>\n",
       "      <td>1.00</td>\n",
       "      <td>46,200.00</td>\n",
       "      <td>nan</td>\n",
       "      <td>46,200.00</td>\n",
       "      <td>46,200.00</td>\n",
       "      <td>46,200.00</td>\n",
       "      <td>46,200.00</td>\n",
       "      <td>46,200.00</td>\n",
       "    </tr>\n",
       "    <tr>\n",
       "      <th>Lancer Evo VII</th>\n",
       "      <th>2002</th>\n",
       "      <td>3.00</td>\n",
       "      <td>18,450.00</td>\n",
       "      <td>3,904.16</td>\n",
       "      <td>14,300.00</td>\n",
       "      <td>16,650.00</td>\n",
       "      <td>19,000.00</td>\n",
       "      <td>20,525.00</td>\n",
       "      <td>22,050.00</td>\n",
       "    </tr>\n",
       "    <tr>\n",
       "      <th>Monte Carlo</th>\n",
       "      <th>1971</th>\n",
       "      <td>17.00</td>\n",
       "      <td>23,311.76</td>\n",
       "      <td>11,736.74</td>\n",
       "      <td>8,800.00</td>\n",
       "      <td>12,000.00</td>\n",
       "      <td>24,200.00</td>\n",
       "      <td>30,800.00</td>\n",
       "      <td>50,600.00</td>\n",
       "    </tr>\n",
       "    <tr>\n",
       "      <th rowspan=\"2\" valign=\"top\">Mustang Fastback</th>\n",
       "      <th>1967</th>\n",
       "      <td>23.00</td>\n",
       "      <td>58,060.87</td>\n",
       "      <td>26,440.60</td>\n",
       "      <td>27,500.00</td>\n",
       "      <td>40,300.00</td>\n",
       "      <td>52,800.00</td>\n",
       "      <td>66,000.00</td>\n",
       "      <td>148,500.00</td>\n",
       "    </tr>\n",
       "    <tr>\n",
       "      <th>1969</th>\n",
       "      <td>6.00</td>\n",
       "      <td>58,866.67</td>\n",
       "      <td>30,450.33</td>\n",
       "      <td>19,000.00</td>\n",
       "      <td>40,975.00</td>\n",
       "      <td>54,400.00</td>\n",
       "      <td>80,275.00</td>\n",
       "      <td>100,000.00</td>\n",
       "    </tr>\n",
       "    <tr>\n",
       "      <th rowspan=\"2\" valign=\"top\">S2000</th>\n",
       "      <th>2000</th>\n",
       "      <td>26.00</td>\n",
       "      <td>25,595.38</td>\n",
       "      <td>8,533.40</td>\n",
       "      <td>9,375.00</td>\n",
       "      <td>20,551.25</td>\n",
       "      <td>24,750.00</td>\n",
       "      <td>28,887.50</td>\n",
       "      <td>48,000.00</td>\n",
       "    </tr>\n",
       "    <tr>\n",
       "      <th>2001</th>\n",
       "      <td>24.00</td>\n",
       "      <td>25,527.50</td>\n",
       "      <td>8,047.76</td>\n",
       "      <td>13,700.00</td>\n",
       "      <td>20,000.00</td>\n",
       "      <td>23,500.00</td>\n",
       "      <td>29,591.00</td>\n",
       "      <td>45,250.00</td>\n",
       "    </tr>\n",
       "    <tr>\n",
       "      <th>Silvia S15</th>\n",
       "      <th>2001</th>\n",
       "      <td>1.00</td>\n",
       "      <td>42,009.00</td>\n",
       "      <td>nan</td>\n",
       "      <td>42,009.00</td>\n",
       "      <td>42,009.00</td>\n",
       "      <td>42,009.00</td>\n",
       "      <td>42,009.00</td>\n",
       "      <td>42,009.00</td>\n",
       "    </tr>\n",
       "    <tr>\n",
       "      <th>Skyline</th>\n",
       "      <th>1971</th>\n",
       "      <td>5.00</td>\n",
       "      <td>98,071.80</td>\n",
       "      <td>29,273.71</td>\n",
       "      <td>63,500.00</td>\n",
       "      <td>75,900.00</td>\n",
       "      <td>95,959.00</td>\n",
       "      <td>126,000.00</td>\n",
       "      <td>129,000.00</td>\n",
       "    </tr>\n",
       "    <tr>\n",
       "      <th rowspan=\"2\" valign=\"top\">Skyline (R33) GT-R</th>\n",
       "      <th>1995</th>\n",
       "      <td>21.00</td>\n",
       "      <td>70,930.29</td>\n",
       "      <td>40,565.49</td>\n",
       "      <td>37,750.00</td>\n",
       "      <td>53,133.00</td>\n",
       "      <td>61,000.00</td>\n",
       "      <td>68,500.00</td>\n",
       "      <td>235,000.00</td>\n",
       "    </tr>\n",
       "    <tr>\n",
       "      <th>1996</th>\n",
       "      <td>12.00</td>\n",
       "      <td>115,570.75</td>\n",
       "      <td>108,200.20</td>\n",
       "      <td>18,112.00</td>\n",
       "      <td>41,750.00</td>\n",
       "      <td>62,125.00</td>\n",
       "      <td>160,375.00</td>\n",
       "      <td>315,187.00</td>\n",
       "    </tr>\n",
       "    <tr>\n",
       "      <th rowspan=\"2\" valign=\"top\">Supra</th>\n",
       "      <th>1993</th>\n",
       "      <td>17.00</td>\n",
       "      <td>80,893.65</td>\n",
       "      <td>37,890.34</td>\n",
       "      <td>40,999.00</td>\n",
       "      <td>55,500.00</td>\n",
       "      <td>68,200.00</td>\n",
       "      <td>97,000.00</td>\n",
       "      <td>176,000.00</td>\n",
       "    </tr>\n",
       "    <tr>\n",
       "      <th>1994</th>\n",
       "      <td>15.00</td>\n",
       "      <td>70,116.67</td>\n",
       "      <td>31,457.08</td>\n",
       "      <td>31,350.00</td>\n",
       "      <td>47,550.00</td>\n",
       "      <td>68,200.00</td>\n",
       "      <td>80,900.00</td>\n",
       "      <td>140,000.00</td>\n",
       "    </tr>\n",
       "    <tr>\n",
       "      <th>Supra Fast and Furious Car</th>\n",
       "      <th>1994</th>\n",
       "      <td>1.00</td>\n",
       "      <td>550,000.00</td>\n",
       "      <td>nan</td>\n",
       "      <td>550,000.00</td>\n",
       "      <td>550,000.00</td>\n",
       "      <td>550,000.00</td>\n",
       "      <td>550,000.00</td>\n",
       "      <td>550,000.00</td>\n",
       "    </tr>\n",
       "    <tr>\n",
       "      <th>Volkswagen Jetta</th>\n",
       "      <th>1995</th>\n",
       "      <td>1.00</td>\n",
       "      <td>5,350.00</td>\n",
       "      <td>nan</td>\n",
       "      <td>5,350.00</td>\n",
       "      <td>5,350.00</td>\n",
       "      <td>5,350.00</td>\n",
       "      <td>5,350.00</td>\n",
       "      <td>5,350.00</td>\n",
       "    </tr>\n",
       "    <tr>\n",
       "      <th>Yenko Camaro</th>\n",
       "      <th>1969</th>\n",
       "      <td>24.00</td>\n",
       "      <td>240,864.58</td>\n",
       "      <td>61,437.27</td>\n",
       "      <td>99,000.00</td>\n",
       "      <td>204,875.00</td>\n",
       "      <td>233,000.00</td>\n",
       "      <td>288,750.00</td>\n",
       "      <td>330,000.00</td>\n",
       "    </tr>\n",
       "  </tbody>\n",
       "</table>\n",
       "</div>"
      ],
      "text/plain": [
       "                                Sale Amount                            \\\n",
       "                                      count          mean         std   \n",
       "Model                      Year                                         \n",
       "540i                       2001       11.00      9,723.18    4,566.32   \n",
       "Armored Vehicle            2012        1.00    198,000.00         nan   \n",
       "Camaro RS Z28              1973        8.00     40,925.00   10,873.53   \n",
       "Charger Daytona            1969        4.00    209,750.00   39,248.14   \n",
       "Charger R/T                1970       63.00     84,786.98   48,685.41   \n",
       "Corvette Stingray          1966        2.00     94,250.00   16,617.01   \n",
       "Eclipse                    1995        2.00     17,900.00   23,051.68   \n",
       "                           2003        2.00      1,417.50    1,417.75   \n",
       "Eclipse Fast and Furious   1995        1.00    155,000.00         nan   \n",
       "GT40                       1965        2.00  7,290,000.00  509,116.88   \n",
       "GT40 Replica               1965        2.00    154,500.00   77,074.64   \n",
       "Gran Torino Sport          1972       11.00     32,354.55   20,139.73   \n",
       "Impreza WRX STI            2009        3.00     17,500.00    3,605.55   \n",
       "Integra GS-R               1994        7.00     10,693.14    5,423.58   \n",
       "Interceptor                1971        7.00     35,686.00   17,013.47   \n",
       "Jetta Fast and Furious     1995        1.00     46,200.00         nan   \n",
       "Lancer Evo VII             2002        3.00     18,450.00    3,904.16   \n",
       "Monte Carlo                1971       17.00     23,311.76   11,736.74   \n",
       "Mustang Fastback           1967       23.00     58,060.87   26,440.60   \n",
       "                           1969        6.00     58,866.67   30,450.33   \n",
       "S2000                      2000       26.00     25,595.38    8,533.40   \n",
       "                           2001       24.00     25,527.50    8,047.76   \n",
       "Silvia S15                 2001        1.00     42,009.00         nan   \n",
       "Skyline                    1971        5.00     98,071.80   29,273.71   \n",
       "Skyline (R33) GT-R         1995       21.00     70,930.29   40,565.49   \n",
       "                           1996       12.00    115,570.75  108,200.20   \n",
       "Supra                      1993       17.00     80,893.65   37,890.34   \n",
       "                           1994       15.00     70,116.67   31,457.08   \n",
       "Supra Fast and Furious Car 1994        1.00    550,000.00         nan   \n",
       "Volkswagen Jetta           1995        1.00      5,350.00         nan   \n",
       "Yenko Camaro               1969       24.00    240,864.58   61,437.27   \n",
       "\n",
       "                                                                           \\\n",
       "                                          min           25%           50%   \n",
       "Model                      Year                                             \n",
       "540i                       2001      4,300.00      7,000.00      9,100.00   \n",
       "Armored Vehicle            2012    198,000.00    198,000.00    198,000.00   \n",
       "Camaro RS Z28              1973     22,500.00     34,800.00     42,900.00   \n",
       "Charger Daytona            1969    159,500.00    188,375.00    217,250.00   \n",
       "Charger R/T                1970     37,000.00     54,500.00     72,600.00   \n",
       "Corvette Stingray          1966     82,500.00     88,375.00     94,250.00   \n",
       "Eclipse                    1995      1,600.00      9,750.00     17,900.00   \n",
       "                           2003        415.00        916.25      1,417.50   \n",
       "Eclipse Fast and Furious   1995    155,000.00    155,000.00    155,000.00   \n",
       "GT40                       1965  6,930,000.00  7,110,000.00  7,290,000.00   \n",
       "GT40 Replica               1965    100,000.00    127,250.00    154,500.00   \n",
       "Gran Torino Sport          1972      8,900.00     22,150.00     29,000.00   \n",
       "Impreza WRX STI            2009     13,500.00     16,000.00     18,500.00   \n",
       "Integra GS-R               1994      5,200.00      6,950.00      8,002.00   \n",
       "Interceptor                1971     10,600.00     24,750.00     33,250.00   \n",
       "Jetta Fast and Furious     1995     46,200.00     46,200.00     46,200.00   \n",
       "Lancer Evo VII             2002     14,300.00     16,650.00     19,000.00   \n",
       "Monte Carlo                1971      8,800.00     12,000.00     24,200.00   \n",
       "Mustang Fastback           1967     27,500.00     40,300.00     52,800.00   \n",
       "                           1969     19,000.00     40,975.00     54,400.00   \n",
       "S2000                      2000      9,375.00     20,551.25     24,750.00   \n",
       "                           2001     13,700.00     20,000.00     23,500.00   \n",
       "Silvia S15                 2001     42,009.00     42,009.00     42,009.00   \n",
       "Skyline                    1971     63,500.00     75,900.00     95,959.00   \n",
       "Skyline (R33) GT-R         1995     37,750.00     53,133.00     61,000.00   \n",
       "                           1996     18,112.00     41,750.00     62,125.00   \n",
       "Supra                      1993     40,999.00     55,500.00     68,200.00   \n",
       "                           1994     31,350.00     47,550.00     68,200.00   \n",
       "Supra Fast and Furious Car 1994    550,000.00    550,000.00    550,000.00   \n",
       "Volkswagen Jetta           1995      5,350.00      5,350.00      5,350.00   \n",
       "Yenko Camaro               1969     99,000.00    204,875.00    233,000.00   \n",
       "\n",
       "                                                             \n",
       "                                          75%           max  \n",
       "Model                      Year                              \n",
       "540i                       2001     10,677.50     21,000.00  \n",
       "Armored Vehicle            2012    198,000.00    198,000.00  \n",
       "Camaro RS Z28              1973     48,125.00     55,000.00  \n",
       "Charger Daytona            1969    238,625.00    245,000.00  \n",
       "Charger R/T                1970     93,500.00    352,000.00  \n",
       "Corvette Stingray          1966    100,125.00    106,000.00  \n",
       "Eclipse                    1995     26,050.00     34,200.00  \n",
       "                           2003      1,918.75      2,420.00  \n",
       "Eclipse Fast and Furious   1995    155,000.00    155,000.00  \n",
       "GT40                       1965  7,470,000.00  7,650,000.00  \n",
       "GT40 Replica               1965    181,750.00    209,000.00  \n",
       "Gran Torino Sport          1972     33,900.00     84,700.00  \n",
       "Impreza WRX STI            2009     19,500.00     20,500.00  \n",
       "Integra GS-R               1994     13,875.00     20,000.00  \n",
       "Interceptor                1971     51,346.00     53,760.00  \n",
       "Jetta Fast and Furious     1995     46,200.00     46,200.00  \n",
       "Lancer Evo VII             2002     20,525.00     22,050.00  \n",
       "Monte Carlo                1971     30,800.00     50,600.00  \n",
       "Mustang Fastback           1967     66,000.00    148,500.00  \n",
       "                           1969     80,275.00    100,000.00  \n",
       "S2000                      2000     28,887.50     48,000.00  \n",
       "                           2001     29,591.00     45,250.00  \n",
       "Silvia S15                 2001     42,009.00     42,009.00  \n",
       "Skyline                    1971    126,000.00    129,000.00  \n",
       "Skyline (R33) GT-R         1995     68,500.00    235,000.00  \n",
       "                           1996    160,375.00    315,187.00  \n",
       "Supra                      1993     97,000.00    176,000.00  \n",
       "                           1994     80,900.00    140,000.00  \n",
       "Supra Fast and Furious Car 1994    550,000.00    550,000.00  \n",
       "Volkswagen Jetta           1995      5,350.00      5,350.00  \n",
       "Yenko Camaro               1969    288,750.00    330,000.00  "
      ]
     },
     "execution_count": 25,
     "metadata": {},
     "output_type": "execute_result"
    }
   ],
   "source": [
    "cars.describe().applymap('{:,.2f}'.format)"
   ]
  },
  {
   "cell_type": "code",
   "execution_count": 82,
   "id": "716ff754",
   "metadata": {},
   "outputs": [
    {
     "data": {
      "image/png": "[encoded data removed]",
      "text/plain": [
       "<Figure size 1920x1440 with 1 Axes>"
      ]
     },
     "metadata": {
      "needs_background": "light"
     },
     "output_type": "display_data"
    }
   ],
   "source": [
    "import matplotlib.dates as mdates\n",
    "import seaborn as sns\n",
    "\n",
    "supra94 = car_sales.groupby(['Model', 'Year']).get_group(('Supra', 1994))\n",
    "plt.figure(figsize=(8,6), dpi= 240)\n",
    "plt.ylim(0, 160000)\n",
    "plt.xlabel('Sale Date'), plt.ylabel('Sale Amount')\n",
    "plt.title('Sales History - 1994 Toyota Supra')\n",
    "plt.scatter(x=supra94['Sale Date'], y=supra94['Sale Amount'])\n",
    "sns.regplot(x=mdates.date2num(supra94['Sale Date']), y=supra94['Sale Amount'])\n",
    "plt.show()\n",
    "\n",
    "#figure out how to format sale amount \n",
    "\n",
    "\n"
   ]
  },
  {
   "cell_type": "code",
   "execution_count": 88,
   "id": "76ba89c6",
   "metadata": {},
   "outputs": [
    {
     "data": {
      "image/png": "[encoded data removed]",
      "text/plain": [
       "<Figure size 1920x1440 with 1 Axes>"
      ]
     },
     "metadata": {
      "needs_background": "light"
     },
     "output_type": "display_data"
    }
   ],
   "source": [
    "import matplotlib.dates as mdates\n",
    "import seaborn as sns\n",
    "\n",
    "s2000_2000 = car_sales.groupby(['Model', 'Year']).get_group(('S2000', 2000))\n",
    "plt.figure(figsize=(8,6), dpi= 240)\n",
    "plt.ylim(0, 60000)\n",
    "plt.xlabel('Sale Date'), plt.ylabel('Sale Amount')\n",
    "plt.title('Sales History - 2000 Honda S2000')\n",
    "plt.scatter(x=s2000_2000['Sale Date'], y=s2000_2000['Sale Amount'])\n",
    "sns.regplot(x=mdates.date2num(s2000_2000['Sale Date']), y=s2000_2000['Sale Amount'], scatter_kws={\"color\": \"teal\"}, line_kws={\"color\": \"orange\"})\n",
    "plt.show()\n",
    "\n",
    "#figure out how to format sale amount \n",
    "\n"
   ]
  },
  {
   "cell_type": "code",
   "execution_count": 90,
   "id": "02ac9bcb",
   "metadata": {},
   "outputs": [
    {
     "name": "stdout",
     "output_type": "stream",
     "text": [
      "Collecting plotly\n",
      "  Using cached plotly-5.10.0-py2.py3-none-any.whl (15.2 MB)\n",
      "Collecting tenacity>=6.2.0\n",
      "  Using cached tenacity-8.0.1-py3-none-any.whl (24 kB)\n",
      "Installing collected packages: tenacity, plotly\n",
      "Successfully installed plotly-5.10.0 tenacity-8.0.1\n",
      "\u001b[33mWARNING: You are using pip version 22.0.4; however, version 22.2.2 is available.\n",
      "You should consider upgrading via the '/opt/homebrew/Cellar/jupyterlab/3.4.3/libexec/bin/python3.10 -m pip install --upgrade pip' command.\u001b[0m\u001b[33m\n",
      "\u001b[0m"
     ]
    }
   ],
   "source": [
    "import sys\n",
    "!{sys.executable} -m pip install plotly"
   ]
  },
  {
   "cell_type": "code",
   "execution_count": 101,
   "id": "b2b3531b",
   "metadata": {},
   "outputs": [
    {
     "data": {
      "application/vnd.plotly.v1+json": {
       "config": {
        "plotlyServerURL": "https://plot.ly"
       },
       "data": [
        {
         "customdata": [
          [
           "Skyline (R33) GT-R"
          ],
          [
           "Skyline (R33) GT-R"
          ],
          [
           "Skyline (R33) GT-R"
          ],
          [
           "Skyline (R33) GT-R"
          ],
          [
           "Skyline (R33) GT-R"
          ],
          [
           "Skyline (R33) GT-R"
          ],
          [
           "Skyline (R33) GT-R"
          ],
          [
           "Skyline (R33) GT-R"
          ],
          [
           "Skyline (R33) GT-R"
          ],
          [
           "Skyline (R33) GT-R"
          ],
          [
           "Skyline (R33) GT-R"
          ],
          [
           "Skyline (R33) GT-R"
          ],
          [
           "Skyline"
          ],
          [
           "Skyline"
          ],
          [
           "Skyline"
          ],
          [
           "Skyline"
          ],
          [
           "Skyline"
          ],
          [
           "Charger R/T"
          ],
          [
           "Charger R/T"
          ],
          [
           "Charger R/T"
          ],
          [
           "Charger R/T"
          ],
          [
           "Charger R/T"
          ],
          [
           "Supra"
          ],
          [
           "Supra"
          ],
          [
           "Supra"
          ],
          [
           "Supra"
          ],
          [
           "Supra"
          ],
          [
           "Charger R/T"
          ],
          [
           "Charger R/T"
          ],
          [
           "Charger R/T"
          ],
          [
           "Charger R/T"
          ],
          [
           "Charger R/T"
          ],
          [
           "Charger R/T"
          ],
          [
           "Charger R/T"
          ],
          [
           "Charger R/T"
          ],
          [
           "Charger R/T"
          ],
          [
           "Charger R/T"
          ],
          [
           "Charger R/T"
          ],
          [
           "Charger R/T"
          ],
          [
           "Charger R/T"
          ],
          [
           "Charger R/T"
          ],
          [
           "Charger R/T"
          ],
          [
           "Charger R/T"
          ],
          [
           "Charger R/T"
          ],
          [
           "Charger R/T"
          ],
          [
           "Charger R/T"
          ],
          [
           "Charger R/T"
          ],
          [
           "Charger R/T"
          ],
          [
           "Charger R/T"
          ],
          [
           "Charger R/T"
          ],
          [
           "Charger R/T"
          ],
          [
           "Charger R/T"
          ],
          [
           "Charger R/T"
          ],
          [
           "Charger R/T"
          ],
          [
           "Charger R/T"
          ],
          [
           "Charger R/T"
          ],
          [
           "Charger R/T"
          ],
          [
           "Charger R/T"
          ],
          [
           "Charger R/T"
          ],
          [
           "Charger R/T"
          ],
          [
           "Charger R/T"
          ],
          [
           "Charger R/T"
          ],
          [
           "Charger R/T"
          ],
          [
           "Charger R/T"
          ],
          [
           "Charger R/T"
          ],
          [
           "Charger R/T"
          ],
          [
           "Charger R/T"
          ],
          [
           "Charger R/T"
          ],
          [
           "Charger R/T"
          ],
          [
           "Charger R/T"
          ],
          [
           "Charger R/T"
          ],
          [
           "Charger R/T"
          ],
          [
           "Charger R/T"
          ],
          [
           "Charger R/T"
          ],
          [
           "Charger R/T"
          ],
          [
           "Charger R/T"
          ],
          [
           "Charger R/T"
          ],
          [
           "Charger R/T"
          ],
          [
           "Charger R/T"
          ],
          [
           "Charger R/T"
          ],
          [
           "Charger R/T"
          ],
          [
           "Charger R/T"
          ],
          [
           "Charger R/T"
          ],
          [
           "Charger R/T"
          ],
          [
           "Charger R/T"
          ],
          [
           "Skyline (R33) GT-R"
          ],
          [
           "Skyline (R33) GT-R"
          ],
          [
           "Skyline (R33) GT-R"
          ],
          [
           "Skyline (R33) GT-R"
          ],
          [
           "Skyline (R33) GT-R"
          ],
          [
           "Skyline (R33) GT-R"
          ],
          [
           "Skyline (R33) GT-R"
          ],
          [
           "Skyline (R33) GT-R"
          ],
          [
           "Skyline (R33) GT-R"
          ],
          [
           "Skyline (R33) GT-R"
          ],
          [
           "Skyline (R33) GT-R"
          ],
          [
           "Skyline (R33) GT-R"
          ],
          [
           "Skyline (R33) GT-R"
          ],
          [
           "Skyline (R33) GT-R"
          ],
          [
           "Skyline (R33) GT-R"
          ],
          [
           "Skyline (R33) GT-R"
          ],
          [
           "Skyline (R33) GT-R"
          ],
          [
           "Skyline (R33) GT-R"
          ],
          [
           "Skyline (R33) GT-R"
          ],
          [
           "Skyline (R33) GT-R"
          ],
          [
           "Skyline (R33) GT-R"
          ],
          [
           "Supra"
          ],
          [
           "Supra"
          ],
          [
           "Supra Fast and Furious Car"
          ],
          [
           "Supra"
          ],
          [
           "Supra"
          ],
          [
           "Supra"
          ],
          [
           "Supra"
          ],
          [
           "Supra"
          ],
          [
           "Supra"
          ],
          [
           "Supra"
          ],
          [
           "Supra"
          ],
          [
           "Eclipse Fast and Furious"
          ],
          [
           "Eclipse"
          ],
          [
           "Eclipse"
          ],
          [
           "Jetta Fast and Furious"
          ],
          [
           "Volkswagen Jetta"
          ],
          [
           "S2000"
          ],
          [
           "S2000"
          ],
          [
           "S2000"
          ],
          [
           "S2000"
          ],
          [
           "S2000"
          ],
          [
           "S2000"
          ],
          [
           "S2000"
          ],
          [
           "S2000"
          ],
          [
           "S2000"
          ],
          [
           "S2000"
          ],
          [
           "S2000"
          ],
          [
           "S2000"
          ],
          [
           "S2000"
          ],
          [
           "S2000"
          ],
          [
           "S2000"
          ],
          [
           "S2000"
          ],
          [
           "S2000"
          ],
          [
           "S2000"
          ],
          [
           "S2000"
          ],
          [
           "S2000"
          ],
          [
           "S2000"
          ],
          [
           "S2000"
          ],
          [
           "S2000"
          ],
          [
           "S2000"
          ],
          [
           "S2000"
          ],
          [
           "S2000"
          ],
          [
           "Integra GS-R"
          ],
          [
           "Integra GS-R"
          ],
          [
           "Integra GS-R"
          ],
          [
           "Integra GS-R"
          ],
          [
           "Integra GS-R"
          ],
          [
           "Integra GS-R"
          ],
          [
           "Integra GS-R"
          ],
          [
           "Yenko Camaro"
          ],
          [
           "Yenko Camaro"
          ],
          [
           "Yenko Camaro"
          ],
          [
           "Yenko Camaro"
          ],
          [
           "Yenko Camaro"
          ],
          [
           "Yenko Camaro"
          ],
          [
           "Yenko Camaro"
          ],
          [
           "Yenko Camaro"
          ],
          [
           "Yenko Camaro"
          ],
          [
           "Yenko Camaro"
          ],
          [
           "Yenko Camaro"
          ],
          [
           "Yenko Camaro"
          ],
          [
           "Yenko Camaro"
          ],
          [
           "Yenko Camaro"
          ],
          [
           "Yenko Camaro"
          ],
          [
           "Yenko Camaro"
          ],
          [
           "Yenko Camaro"
          ],
          [
           "Yenko Camaro"
          ],
          [
           "Yenko Camaro"
          ],
          [
           "Yenko Camaro"
          ],
          [
           "Yenko Camaro"
          ],
          [
           "Yenko Camaro"
          ],
          [
           "Yenko Camaro"
          ],
          [
           "Yenko Camaro"
          ],
          [
           "Supra"
          ],
          [
           "Supra"
          ],
          [
           "Supra"
          ],
          [
           "Supra"
          ],
          [
           "Supra"
          ],
          [
           "Supra"
          ],
          [
           "Supra"
          ],
          [
           "Supra"
          ],
          [
           "Supra"
          ],
          [
           "Supra"
          ],
          [
           "Supra"
          ],
          [
           "Supra"
          ],
          [
           "Supra"
          ],
          [
           "Supra"
          ],
          [
           "Supra"
          ],
          [
           "Supra"
          ],
          [
           "Supra"
          ],
          [
           "Lancer Evo VII"
          ],
          [
           "Lancer Evo VII"
          ],
          [
           "Lancer Evo VII"
          ],
          [
           "Eclipse"
          ],
          [
           "Eclipse"
          ],
          [
           "S2000"
          ],
          [
           "S2000"
          ],
          [
           "S2000"
          ],
          [
           "S2000"
          ],
          [
           "S2000"
          ],
          [
           "S2000"
          ],
          [
           "S2000"
          ],
          [
           "S2000"
          ],
          [
           "S2000"
          ],
          [
           "S2000"
          ],
          [
           "S2000"
          ],
          [
           "S2000"
          ],
          [
           "S2000"
          ],
          [
           "S2000"
          ],
          [
           "S2000"
          ],
          [
           "S2000"
          ],
          [
           "S2000"
          ],
          [
           "S2000"
          ],
          [
           "S2000"
          ],
          [
           "S2000"
          ],
          [
           "S2000"
          ],
          [
           "S2000"
          ],
          [
           "S2000"
          ],
          [
           "S2000"
          ],
          [
           "Mustang Fastback"
          ],
          [
           "Mustang Fastback"
          ],
          [
           "Mustang Fastback"
          ],
          [
           "Mustang Fastback"
          ],
          [
           "Mustang Fastback"
          ],
          [
           "Mustang Fastback"
          ],
          [
           "Mustang Fastback"
          ],
          [
           "Mustang Fastback"
          ],
          [
           "Mustang Fastback"
          ],
          [
           "Mustang Fastback"
          ],
          [
           "Mustang Fastback"
          ],
          [
           "Mustang Fastback"
          ],
          [
           "Mustang Fastback"
          ],
          [
           "Mustang Fastback"
          ],
          [
           "Mustang Fastback"
          ],
          [
           "Mustang Fastback"
          ],
          [
           "Mustang Fastback"
          ],
          [
           "Mustang Fastback"
          ],
          [
           "Mustang Fastback"
          ],
          [
           "Mustang Fastback"
          ],
          [
           "Mustang Fastback"
          ],
          [
           "Mustang Fastback"
          ],
          [
           "Mustang Fastback"
          ],
          [
           "Monte Carlo"
          ],
          [
           "Monte Carlo"
          ],
          [
           "Monte Carlo"
          ],
          [
           "Monte Carlo"
          ],
          [
           "Monte Carlo"
          ],
          [
           "Monte Carlo"
          ],
          [
           "Monte Carlo"
          ],
          [
           "Monte Carlo"
          ],
          [
           "Monte Carlo"
          ],
          [
           "Monte Carlo"
          ],
          [
           "Monte Carlo"
          ],
          [
           "Monte Carlo"
          ],
          [
           "Monte Carlo"
          ],
          [
           "Monte Carlo"
          ],
          [
           "Monte Carlo"
          ],
          [
           "Monte Carlo"
          ],
          [
           "Monte Carlo"
          ],
          [
           "Silvia S15"
          ],
          [
           "Gran Torino Sport"
          ],
          [
           "Gran Torino Sport"
          ],
          [
           "Gran Torino Sport"
          ],
          [
           "Gran Torino Sport"
          ],
          [
           "Gran Torino Sport"
          ],
          [
           "Gran Torino Sport"
          ],
          [
           "Gran Torino Sport"
          ],
          [
           "Gran Torino Sport"
          ],
          [
           "Gran Torino Sport"
          ],
          [
           "Gran Torino Sport"
          ],
          [
           "Gran Torino Sport"
          ],
          [
           "Camaro RS Z28"
          ],
          [
           "Camaro RS Z28"
          ],
          [
           "Camaro RS Z28"
          ],
          [
           "Camaro RS Z28"
          ],
          [
           "Camaro RS Z28"
          ],
          [
           "Camaro RS Z28"
          ],
          [
           "Camaro RS Z28"
          ],
          [
           "Camaro RS Z28"
          ],
          [
           "540i"
          ],
          [
           "540i"
          ],
          [
           "540i"
          ],
          [
           "540i"
          ],
          [
           "540i"
          ],
          [
           "540i"
          ],
          [
           "540i"
          ],
          [
           "540i"
          ],
          [
           "540i"
          ],
          [
           "540i"
          ],
          [
           "540i"
          ],
          [
           "Impreza WRX STI"
          ],
          [
           "Impreza WRX STI"
          ],
          [
           "Impreza WRX STI"
          ],
          [
           "Corvette Stingray"
          ],
          [
           "Corvette Stingray"
          ],
          [
           "Armored Vehicle"
          ],
          [
           "GT40"
          ],
          [
           "GT40"
          ],
          [
           "GT40 Replica"
          ],
          [
           "GT40 Replica"
          ],
          [
           "Mustang Fastback"
          ],
          [
           "Mustang Fastback"
          ],
          [
           "Mustang Fastback"
          ],
          [
           "Mustang Fastback"
          ],
          [
           "Mustang Fastback"
          ],
          [
           "Mustang Fastback"
          ],
          [
           "Interceptor"
          ],
          [
           "Interceptor"
          ],
          [
           "Interceptor"
          ],
          [
           "Interceptor"
          ],
          [
           "Interceptor"
          ],
          [
           "Interceptor"
          ],
          [
           "Interceptor"
          ],
          [
           "Charger Daytona"
          ],
          [
           "Charger Daytona"
          ],
          [
           "Charger Daytona"
          ],
          [
           "Charger Daytona"
          ]
         ],
         "hovertemplate": "Sale Date=%{x}<br>Sale Amount=%{y}<br>Model=%{customdata[0]}<br>Year=%{marker.color}<extra></extra>",
         "legendgroup": "",
         "marker": {
          "color": [
           1996,
           1996,
           1996,
           1996,
           1996,
           1996,
           1996,
           1996,
           1995,
           1996,
           1995,
           1995,
           1971,
           1971,
           1971,
           1971,
           1971,
           1970,
           1970,
           1970,
           1970,
           1970,
           1994,
           1994,
           1994,
           1994,
           1994,
           1970,
           1970,
           1970,
           1970,
           1970,
           1970,
           1970,
           1970,
           1970,
           1970,
           1970,
           1970,
           1970,
           1970,
           1970,
           1970,
           1970,
           1970,
           1970,
           1970,
           1970,
           1970,
           1970,
           1970,
           1970,
           1970,
           1970,
           1970,
           1970,
           1970,
           1970,
           1970,
           1970,
           1970,
           1970,
           1970,
           1970,
           1970,
           1970,
           1970,
           1970,
           1970,
           1970,
           1970,
           1970,
           1970,
           1970,
           1970,
           1970,
           1970,
           1970,
           1970,
           1970,
           1970,
           1970,
           1970,
           1970,
           1970,
           1996,
           1996,
           1996,
           1995,
           1995,
           1995,
           1995,
           1995,
           1995,
           1995,
           1995,
           1995,
           1995,
           1995,
           1995,
           1995,
           1995,
           1995,
           1995,
           1995,
           1995,
           1994,
           1994,
           1994,
           1994,
           1994,
           1994,
           1994,
           1994,
           1994,
           1994,
           1994,
           1995,
           1995,
           1995,
           1995,
           1995,
           2000,
           2000,
           2000,
           2000,
           2000,
           2000,
           2000,
           2000,
           2000,
           2000,
           2000,
           2000,
           2000,
           2000,
           2000,
           2000,
           2000,
           2000,
           2000,
           2000,
           2000,
           2000,
           2000,
           2000,
           2000,
           2000,
           1994,
           1994,
           1994,
           1994,
           1994,
           1994,
           1994,
           1969,
           1969,
           1969,
           1969,
           1969,
           1969,
           1969,
           1969,
           1969,
           1969,
           1969,
           1969,
           1969,
           1969,
           1969,
           1969,
           1969,
           1969,
           1969,
           1969,
           1969,
           1969,
           1969,
           1969,
           1993,
           1993,
           1993,
           1993,
           1993,
           1993,
           1993,
           1993,
           1993,
           1993,
           1993,
           1993,
           1993,
           1993,
           1993,
           1993,
           1993,
           2002,
           2002,
           2002,
           2003,
           2003,
           2001,
           2001,
           2001,
           2001,
           2001,
           2001,
           2001,
           2001,
           2001,
           2001,
           2001,
           2001,
           2001,
           2001,
           2001,
           2001,
           2001,
           2001,
           2001,
           2001,
           2001,
           2001,
           2001,
           2001,
           1967,
           1967,
           1967,
           1967,
           1967,
           1967,
           1967,
           1967,
           1967,
           1967,
           1967,
           1967,
           1967,
           1967,
           1967,
           1967,
           1967,
           1967,
           1967,
           1967,
           1967,
           1967,
           1967,
           1971,
           1971,
           1971,
           1971,
           1971,
           1971,
           1971,
           1971,
           1971,
           1971,
           1971,
           1971,
           1971,
           1971,
           1971,
           1971,
           1971,
           2001,
           1972,
           1972,
           1972,
           1972,
           1972,
           1972,
           1972,
           1972,
           1972,
           1972,
           1972,
           1973,
           1973,
           1973,
           1973,
           1973,
           1973,
           1973,
           1973,
           2001,
           2001,
           2001,
           2001,
           2001,
           2001,
           2001,
           2001,
           2001,
           2001,
           2001,
           2009,
           2009,
           2009,
           1966,
           1966,
           2012,
           1965,
           1965,
           1965,
           1965,
           1969,
           1969,
           1969,
           1969,
           1969,
           1969,
           1971,
           1971,
           1971,
           1971,
           1971,
           1971,
           1971,
           1969,
           1969,
           1969,
           1969
          ],
          "coloraxis": "coloraxis",
          "symbol": "circle"
         },
         "mode": "markers",
         "name": "",
         "orientation": "v",
         "showlegend": false,
         "type": "scatter",
         "x": [
          "2022-05-10T00:00:00",
          "2022-01-26T00:00:00",
          "2021-10-21T00:00:00",
          "2021-07-13T00:00:00",
          "2021-06-22T00:00:00",
          "2017-11-11T00:00:00",
          "2017-09-06T00:00:00",
          "2022-06-29T00:00:00",
          "2022-05-13T00:00:00",
          "2022-05-01T00:00:00",
          "2022-04-21T00:00:00",
          "2022-03-29T00:00:00",
          "2022-01-16T00:00:00",
          "2021-08-23T00:00:00",
          "2019-02-04T00:00:00",
          "2018-08-23T00:00:00",
          "2017-01-23T00:00:00",
          "2022-07-15T00:00:00",
          "2022-06-30T00:00:00",
          "2022-05-02T00:00:00",
          "2022-04-09T00:00:00",
          "2022-01-29T00:00:00",
          "2022-07-02T00:00:00",
          "2022-05-29T00:00:00",
          "2022-05-19T00:00:00",
          "2022-05-08T00:00:00",
          "2022-05-01T00:00:00",
          "2021-09-04T00:00:00",
          "2021-09-04T00:00:00",
          "2021-07-31T00:00:00",
          "2021-06-19T00:00:00",
          "2021-05-22T00:00:00",
          "2021-03-26T00:00:00",
          "2020-10-01T00:00:00",
          "2020-04-01T00:00:00",
          "2020-03-31T00:00:00",
          "2020-01-10T00:00:00",
          "2020-01-09T00:00:00",
          "2019-10-26T00:00:00",
          "2019-10-12T00:00:00",
          "2019-10-05T00:00:00",
          "2019-10-04T00:00:00",
          "2019-09-06T00:00:00",
          "2019-03-09T00:00:00",
          "2019-01-18T00:00:00",
          "2019-01-20T00:00:00",
          "2019-01-17T00:00:00",
          "2018-10-04T00:00:00",
          "2018-06-23T00:00:00",
          "2018-05-18T00:00:00",
          "2018-05-18T00:00:00",
          "2018-04-13T00:00:00",
          "2018-01-19T00:00:00",
          "2018-01-13T00:00:00",
          "2018-01-13T00:00:00",
          "2018-01-11T00:00:00",
          "2018-01-06T00:00:00",
          "2017-10-07T00:00:00",
          "2017-05-20T00:00:00",
          "2017-05-20T00:00:00",
          "2017-05-19T00:00:00",
          "2017-01-20T00:00:00",
          "2017-01-14T00:00:00",
          "2017-01-14T00:00:00",
          "2017-01-08T00:00:00",
          "2016-06-18T00:00:00",
          "2016-04-15T00:00:00",
          "2016-04-15T00:00:00",
          "2016-01-21T00:00:00",
          "2015-10-23T00:00:00",
          "2015-10-09T00:00:00",
          "2015-04-24T00:00:00",
          "2015-01-24T00:00:00",
          "2015-01-21T00:00:00",
          "2015-01-17T00:00:00",
          "2015-01-16T00:00:00",
          "2015-01-14T00:00:00",
          "2015-01-14T00:00:00",
          "2015-01-13T00:00:00",
          "2014-05-17T00:00:00",
          "2014-05-10T00:00:00",
          "2014-04-12T00:00:00",
          "2014-01-19T00:00:00",
          "2014-01-15T00:00:00",
          "2014-01-15T00:00:00",
          "2022-02-08T00:00:00",
          "2021-05-22T00:00:00",
          "2017-03-04T00:00:00",
          "2022-02-08T00:00:00",
          "2022-02-04T00:00:00",
          "2022-01-21T00:00:00",
          "2022-01-14T00:00:00",
          "2021-12-30T00:00:00",
          "2021-12-15T00:00:00",
          "2021-12-08T00:00:00",
          "2021-11-13T00:00:00",
          "2021-08-24T00:00:00",
          "2021-08-14T00:00:00",
          "2021-06-18T00:00:00",
          "2021-05-20T00:00:00",
          "2021-05-18T00:00:00",
          "2021-05-11T00:00:00",
          "2021-05-04T00:00:00",
          "2021-04-03T00:00:00",
          "2021-03-12T00:00:00",
          "2021-01-09T00:00:00",
          "2022-02-16T00:00:00",
          "2021-10-20T00:00:00",
          "2021-06-19T00:00:00",
          "2020-01-18T00:00:00",
          "2020-12-15T00:00:00",
          "2020-11-27T00:00:00",
          "2019-11-19T00:00:00",
          "2019-06-01T00:00:00",
          "2018-04-13T00:00:00",
          "2016-09-04T00:00:00",
          "2016-01-26T00:00:00",
          "2022-01-14T00:00:00",
          "2017-06-28T00:00:00",
          "2022-06-02T00:00:00",
          "2016-01-21T00:00:00",
          "2021-01-26T00:00:00",
          "2022-07-09T00:00:00",
          "2022-07-07T00:00:00",
          "2022-06-17T00:00:00",
          "2022-06-17T00:00:00",
          "2022-06-04T00:00:00",
          "2022-05-30T00:00:00",
          "2022-01-09T00:00:00",
          "2021-10-23T00:00:00",
          "2021-07-08T00:00:00",
          "2021-07-08T00:00:00",
          "2021-04-30T00:00:00",
          "2020-11-25T00:00:00",
          "2020-10-01T00:00:00",
          "2020-08-26T00:00:00",
          "2020-06-22T00:00:00",
          "2020-01-16T00:00:00",
          "2019-09-17T00:00:00",
          "2019-08-02T00:00:00",
          "2019-07-13T00:00:00",
          "2018-11-27T00:00:00",
          "2018-11-06T00:00:00",
          "2018-03-02T00:00:00",
          "2017-08-14T00:00:00",
          "2017-05-24T00:00:00",
          "2017-01-31T00:00:00",
          "2015-09-02T00:00:00",
          "2022-05-21T00:00:00",
          "2022-03-13T00:00:00",
          "2021-08-05T00:00:00",
          "2021-01-14T00:00:00",
          "2018-10-19T00:00:00",
          "2018-02-09T00:00:00",
          "2017-12-15T00:00:00",
          "2021-01-16T00:00:00",
          "2021-01-15T00:00:00",
          "2020-03-13T00:00:00",
          "2020-01-10T00:00:00",
          "2019-08-03T00:00:00",
          "2019-03-15T00:00:00",
          "2019-01-11T00:00:00",
          "2018-10-27T00:00:00",
          "2018-08-23T00:00:00",
          "2018-04-07T00:00:00",
          "2017-09-09T00:00:00",
          "2017-05-19T00:00:00",
          "2017-05-19T00:00:00",
          "2016-08-19T00:00:00",
          "2016-05-21T00:00:00",
          "2016-05-21T00:00:00",
          "2016-06-30T00:00:00",
          "2016-01-22T00:00:00",
          "2016-01-22T00:00:00",
          "2016-01-22T00:00:00",
          "2015-04-24T00:00:00",
          "2015-01-17T00:00:00",
          "2014-09-06T00:00:00",
          "2014-01-25T00:00:00",
          "2022-05-30T00:00:00",
          "2022-03-25T00:00:00",
          "2021-09-18T00:00:00",
          "2021-03-28T00:00:00",
          "2021-03-02T00:00:00",
          "2020-10-24T00:00:00",
          "2020-03-06T00:00:00",
          "2020-02-10T00:00:00",
          "2019-12-11T00:00:00",
          "2019-12-04T00:00:00",
          "2019-08-16T00:00:00",
          "2019-06-21T00:00:00",
          "2019-06-14T00:00:00",
          "2019-04-04T00:00:00",
          "2018-12-07T00:00:00",
          "2018-06-28T00:00:00",
          "2018-03-21T00:00:00",
          "2021-12-08T00:00:00",
          "2021-07-30T00:00:00",
          "2020-06-27T00:00:00",
          "2020-02-02T00:00:00",
          "2022-06-06T00:00:00",
          "2022-08-05T00:00:00",
          "2022-07-26T00:00:00",
          "2022-07-21T00:00:00",
          "2022-07-09T00:00:00",
          "2022-01-06T00:00:00",
          "2021-12-07T00:00:00",
          "2021-10-24T00:00:00",
          "2021-08-01T00:00:00",
          "2021-07-25T00:00:00",
          "2021-07-05T00:00:00",
          "2021-06-30T00:00:00",
          "2021-01-07T00:00:00",
          "2020-12-03T00:00:00",
          "2020-11-18T00:00:00",
          "2019-08-14T00:00:00",
          "2019-07-26T00:00:00",
          "2019-06-03T00:00:00",
          "2018-10-27T00:00:00",
          "2018-10-22T00:00:00",
          "2018-10-15T00:00:00",
          "2017-07-12T00:00:00",
          "2016-09-04T00:00:00",
          "2016-07-06T00:00:00",
          "2015-10-01T00:00:00",
          "2022-07-29T00:00:00",
          "2022-07-29T00:00:00",
          "2021-03-25T00:00:00",
          "2021-01-28T00:00:00",
          "2021-05-16T00:00:00",
          "2020-11-19T00:00:00",
          "2020-11-14T00:00:00",
          "2020-10-17T00:00:00",
          "2019-08-03T00:00:00",
          "2019-07-01T00:00:00",
          "2019-05-17T00:00:00",
          "2018-09-28T00:00:00",
          "2018-09-02T00:00:00",
          "2018-08-04T00:00:00",
          "2017-07-22T00:00:00",
          "2017-07-20T00:00:00",
          "2017-06-24T00:00:00",
          "2016-10-14T00:00:00",
          "2016-05-20T00:00:00",
          "2014-05-17T00:00:00",
          "2014-05-15T00:00:00",
          "2014-04-13T00:00:00",
          "2015-04-17T00:00:00",
          "2022-07-27T00:00:00",
          "2022-07-22T00:00:00",
          "2022-03-10T00:00:00",
          "2022-01-26T00:00:00",
          "2021-07-30T00:00:00",
          "2020-10-23T00:00:00",
          "2020-03-12T00:00:00",
          "2019-10-11T00:00:00",
          "2019-06-28T00:00:00",
          "2018-05-19T00:00:00",
          "2018-01-09T00:00:00",
          "2017-08-04T00:00:00",
          "2017-08-03T00:00:00",
          "2015-09-17T00:00:00",
          "2015-04-10T00:00:00",
          "2014-09-03T00:00:00",
          "2014-08-31T00:00:00",
          "2021-10-18T00:00:00",
          "2022-07-08T00:00:00",
          "2022-04-25T00:00:00",
          "2021-04-08T00:00:00",
          "2019-08-03T00:00:00",
          "2018-09-25T00:00:00",
          "2016-10-15T00:00:00",
          "2016-08-19T00:00:00",
          "2016-01-27T00:00:00",
          "2015-07-30T00:00:00",
          "2014-08-31T00:00:00",
          "2014-06-19T00:00:00",
          "2022-01-07T00:00:00",
          "2021-05-21T00:00:00",
          "2020-10-30T00:00:00",
          "2020-01-17T00:00:00",
          "2020-01-16T00:00:00",
          "2019-09-20T00:00:00",
          "2016-04-08T00:00:00",
          "2014-10-11T00:00:00",
          "2022-06-25T00:00:00",
          "2022-05-08T00:00:00",
          "2022-04-12T00:00:00",
          "2021-12-01T00:00:00",
          "2021-10-26T00:00:00",
          "2020-11-05T00:00:00",
          "2020-10-28T00:00:00",
          "2018-03-14T00:00:00",
          "2017-11-24T00:00:00",
          "2016-12-19T00:00:00",
          "2016-09-26T00:00:00",
          "2022-04-28T00:00:00",
          "2021-05-31T00:00:00",
          "2017-11-16T00:00:00",
          "2022-07-23T00:00:00",
          "2015-03-12T00:00:00",
          "2018-11-16T00:00:00",
          "2019-08-16T00:00:00",
          "2014-08-16T00:00:00",
          "2022-01-29T00:00:00",
          "2014-11-15T00:00:00",
          "2022-07-30T00:00:00",
          "2011-08-19T00:00:00",
          "2020-01-08T00:00:00",
          "2018-04-13T00:00:00",
          "2016-12-03T00:00:00",
          "2015-01-15T00:00:00",
          "2022-05-28T00:00:00",
          "2021-12-14T00:00:00",
          "2021-04-20T00:00:00",
          "2020-10-23T00:00:00",
          "2020-01-28T00:00:00",
          "2017-02-13T00:00:00",
          "2016-12-12T00:00:00",
          "2021-05-26T00:00:00",
          "2021-03-27T00:00:00",
          "2018-01-17T00:00:00",
          "2016-01-27T00:00:00"
         ],
         "xaxis": "x",
         "y": [
          140000,
          221500,
          100000,
          310000,
          315187,
          29000,
          25300,
          63500,
          58000,
          57500,
          49995,
          83500,
          129000,
          95959,
          63500,
          75900,
          126000,
          67500,
          85800,
          104000,
          119900,
          132000,
          122000,
          40050,
          140000,
          98500,
          72000,
          89600,
          62150,
          82500,
          72600,
          352000,
          74800,
          65000,
          117500,
          75000,
          88000,
          88000,
          45100,
          84700,
          137000,
          47300,
          92400,
          72500,
          132000,
          84700,
          94600,
          40700,
          154000,
          66000,
          89100,
          63800,
          143000,
          82500,
          104500,
          47300,
          75900,
          70000,
          70000,
          90000,
          42500,
          130900,
          55000,
          61000,
          49000,
          85000,
          107500,
          37000,
          54000,
          132000,
          38000,
          38000,
          52000,
          44000,
          71500,
          66000,
          48400,
          51700,
          220000,
          125000,
          42900,
          60500,
          58300,
          55000,
          52930,
          46000,
          60750,
          18112,
          105000,
          54500,
          53133,
          59033,
          51250,
          75000,
          68500,
          43875,
          61000,
          235000,
          62000,
          66000,
          64500,
          37750,
          52500,
          62000,
          59000,
          88000,
          32250,
          44500,
          550000,
          85800,
          71000,
          66500,
          76000,
          53000,
          50600,
          68200,
          31350,
          155000,
          1600,
          34200,
          46200,
          5350,
          23250,
          33750,
          28550,
          20550,
          26000,
          36000,
          27050,
          31500,
          42500,
          27500,
          18250,
          20500,
          23500,
          23250,
          31000,
          27500,
          10750,
          18250,
          20900,
          27000,
          48000,
          29000,
          20555,
          9375,
          19000,
          22000,
          20000,
          15250,
          5200,
          6500,
          7400,
          12500,
          8002,
          308000,
          308000,
          173250,
          165000,
          258500,
          231000,
          220000,
          192500,
          165000,
          99000,
          175000,
          330000,
          212500,
          280000,
          260000,
          225000,
          330000,
          330000,
          225000,
          300000,
          209000,
          264000,
          285000,
          235000,
          97000,
          176000,
          110000,
          47250,
          73000,
          68200,
          137200,
          62493,
          59000,
          49000,
          89600,
          57500,
          55500,
          128000,
          43750,
          80700,
          40999,
          19000,
          22050,
          14300,
          2420,
          415,
          35250,
          33500,
          40000,
          24000,
          26000,
          21250,
          27500,
          45250,
          37500,
          30200,
          18450,
          27500,
          22000,
          23750,
          21000,
          18250,
          20500,
          15950,
          22472,
          23250,
          18500,
          13700,
          29388,
          17500,
          63000,
          79000,
          66000,
          55000,
          75900,
          47500,
          148500,
          46200,
          66000,
          34500,
          95700,
          52800,
          56100,
          39600,
          41000,
          27500,
          79200,
          61600,
          36000,
          50000,
          28500,
          35200,
          50600,
          26500,
          31000,
          29000,
          50600,
          30800,
          29700,
          33000,
          24200,
          19800,
          11000,
          37400,
          15000,
          12000,
          10000,
          18000,
          9500,
          8800,
          42009,
          29000,
          8900,
          30800,
          27500,
          47500,
          84700,
          24500,
          29700,
          37000,
          19800,
          16500,
          55000,
          47300,
          29700,
          50600,
          44000,
          36500,
          41800,
          22500,
          14000,
          21000,
          6800,
          6500,
          7200,
          4300,
          9200,
          11355,
          7500,
          10000,
          9100,
          20500,
          13500,
          18500,
          106000,
          82500,
          198000,
          7650000,
          6930000,
          209000,
          100000,
          100000,
          19000,
          41800,
          84700,
          67000,
          40700,
          51187,
          51505,
          33250,
          53760,
          29500,
          20000,
          10600,
          245000,
          236500,
          198000,
          159500
         ],
         "yaxis": "y"
        }
       ],
       "layout": {
        "coloraxis": {
         "colorbar": {
          "title": {
           "text": "Year"
          }
         },
         "colorscale": [
          [
           0,
           "#0d0887"
          ],
          [
           0.1111111111111111,
           "#46039f"
          ],
          [
           0.2222222222222222,
           "#7201a8"
          ],
          [
           0.3333333333333333,
           "#9c179e"
          ],
          [
           0.4444444444444444,
           "#bd3786"
          ],
          [
           0.5555555555555556,
           "#d8576b"
          ],
          [
           0.6666666666666666,
           "#ed7953"
          ],
          [
           0.7777777777777778,
           "#fb9f3a"
          ],
          [
           0.8888888888888888,
           "#fdca26"
          ],
          [
           1,
           "#f0f921"
          ]
         ]
        },
        "legend": {
         "tracegroupgap": 0
        },
        "margin": {
         "t": 60
        },
        "template": {
         "data": {
          "bar": [
           {
            "error_x": {
             "color": "#2a3f5f"
            },
            "error_y": {
             "color": "#2a3f5f"
            },
            "marker": {
             "line": {
              "color": "#E5ECF6",
              "width": 0.5
             },
             "pattern": {
              "fillmode": "overlay",
              "size": 10,
              "solidity": 0.2
             }
            },
            "type": "bar"
           }
          ],
          "barpolar": [
           {
            "marker": {
             "line": {
              "color": "#E5ECF6",
              "width": 0.5
             },
             "pattern": {
              "fillmode": "overlay",
              "size": 10,
              "solidity": 0.2
             }
            },
            "type": "barpolar"
           }
          ],
          "carpet": [
           {
            "aaxis": {
             "endlinecolor": "#2a3f5f",
             "gridcolor": "white",
             "linecolor": "white",
             "minorgridcolor": "white",
             "startlinecolor": "#2a3f5f"
            },
            "baxis": {
             "endlinecolor": "#2a3f5f",
             "gridcolor": "white",
             "linecolor": "white",
             "minorgridcolor": "white",
             "startlinecolor": "#2a3f5f"
            },
            "type": "carpet"
           }
          ],
          "choropleth": [
           {
            "colorbar": {
             "outlinewidth": 0,
             "ticks": ""
            },
            "type": "choropleth"
           }
          ],
          "contour": [
           {
            "colorbar": {
             "outlinewidth": 0,
             "ticks": ""
            },
            "colorscale": [
             [
              0,
              "#0d0887"
             ],
             [
              0.1111111111111111,
              "#46039f"
             ],
             [
              0.2222222222222222,
              "#7201a8"
             ],
             [
              0.3333333333333333,
              "#9c179e"
             ],
             [
              0.4444444444444444,
              "#bd3786"
             ],
             [
              0.5555555555555556,
              "#d8576b"
             ],
             [
              0.6666666666666666,
              "#ed7953"
             ],
             [
              0.7777777777777778,
              "#fb9f3a"
             ],
             [
              0.8888888888888888,
              "#fdca26"
             ],
             [
              1,
              "#f0f921"
             ]
            ],
            "type": "contour"
           }
          ],
          "contourcarpet": [
           {
            "colorbar": {
             "outlinewidth": 0,
             "ticks": ""
            },
            "type": "contourcarpet"
           }
          ],
          "heatmap": [
           {
            "colorbar": {
             "outlinewidth": 0,
             "ticks": ""
            },
            "colorscale": [
             [
              0,
              "#0d0887"
             ],
             [
              0.1111111111111111,
              "#46039f"
             ],
             [
              0.2222222222222222,
              "#7201a8"
             ],
             [
              0.3333333333333333,
              "#9c179e"
             ],
             [
              0.4444444444444444,
              "#bd3786"
             ],
             [
              0.5555555555555556,
              "#d8576b"
             ],
             [
              0.6666666666666666,
              "#ed7953"
             ],
             [
              0.7777777777777778,
              "#fb9f3a"
             ],
             [
              0.8888888888888888,
              "#fdca26"
             ],
             [
              1,
              "#f0f921"
             ]
            ],
            "type": "heatmap"
           }
          ],
          "heatmapgl": [
           {
            "colorbar": {
             "outlinewidth": 0,
             "ticks": ""
            },
            "colorscale": [
             [
              0,
              "#0d0887"
             ],
             [
              0.1111111111111111,
              "#46039f"
             ],
             [
              0.2222222222222222,
              "#7201a8"
             ],
             [
              0.3333333333333333,
              "#9c179e"
             ],
             [
              0.4444444444444444,
              "#bd3786"
             ],
             [
              0.5555555555555556,
              "#d8576b"
             ],
             [
              0.6666666666666666,
              "#ed7953"
             ],
             [
              0.7777777777777778,
              "#fb9f3a"
             ],
             [
              0.8888888888888888,
              "#fdca26"
             ],
             [
              1,
              "#f0f921"
             ]
            ],
            "type": "heatmapgl"
           }
          ],
          "histogram": [
           {
            "marker": {
             "pattern": {
              "fillmode": "overlay",
              "size": 10,
              "solidity": 0.2
             }
            },
            "type": "histogram"
           }
          ],
          "histogram2d": [
           {
            "colorbar": {
             "outlinewidth": 0,
             "ticks": ""
            },
            "colorscale": [
             [
              0,
              "#0d0887"
             ],
             [
              0.1111111111111111,
              "#46039f"
             ],
             [
              0.2222222222222222,
              "#7201a8"
             ],
             [
              0.3333333333333333,
              "#9c179e"
             ],
             [
              0.4444444444444444,
              "#bd3786"
             ],
             [
              0.5555555555555556,
              "#d8576b"
             ],
             [
              0.6666666666666666,
              "#ed7953"
             ],
             [
              0.7777777777777778,
              "#fb9f3a"
             ],
             [
              0.8888888888888888,
              "#fdca26"
             ],
             [
              1,
              "#f0f921"
             ]
            ],
            "type": "histogram2d"
           }
          ],
          "histogram2dcontour": [
           {
            "colorbar": {
             "outlinewidth": 0,
             "ticks": ""
            },
            "colorscale": [
             [
              0,
              "#0d0887"
             ],
             [
              0.1111111111111111,
              "#46039f"
             ],
             [
              0.2222222222222222,
              "#7201a8"
             ],
             [
              0.3333333333333333,
              "#9c179e"
             ],
             [
              0.4444444444444444,
              "#bd3786"
             ],
             [
              0.5555555555555556,
              "#d8576b"
             ],
             [
              0.6666666666666666,
              "#ed7953"
             ],
             [
              0.7777777777777778,
              "#fb9f3a"
             ],
             [
              0.8888888888888888,
              "#fdca26"
             ],
             [
              1,
              "#f0f921"
             ]
            ],
            "type": "histogram2dcontour"
           }
          ],
          "mesh3d": [
           {
            "colorbar": {
             "outlinewidth": 0,
             "ticks": ""
            },
            "type": "mesh3d"
           }
          ],
          "parcoords": [
           {
            "line": {
             "colorbar": {
              "outlinewidth": 0,
              "ticks": ""
             }
            },
            "type": "parcoords"
           }
          ],
          "pie": [
           {
            "automargin": true,
            "type": "pie"
           }
          ],
          "scatter": [
           {
            "fillpattern": {
             "fillmode": "overlay",
             "size": 10,
             "solidity": 0.2
            },
            "type": "scatter"
           }
          ],
          "scatter3d": [
           {
            "line": {
             "colorbar": {
              "outlinewidth": 0,
              "ticks": ""
             }
            },
            "marker": {
             "colorbar": {
              "outlinewidth": 0,
              "ticks": ""
             }
            },
            "type": "scatter3d"
           }
          ],
          "scattercarpet": [
           {
            "marker": {
             "colorbar": {
              "outlinewidth": 0,
              "ticks": ""
             }
            },
            "type": "scattercarpet"
           }
          ],
          "scattergeo": [
           {
            "marker": {
             "colorbar": {
              "outlinewidth": 0,
              "ticks": ""
             }
            },
            "type": "scattergeo"
           }
          ],
          "scattergl": [
           {
            "marker": {
             "colorbar": {
              "outlinewidth": 0,
              "ticks": ""
             }
            },
            "type": "scattergl"
           }
          ],
          "scattermapbox": [
           {
            "marker": {
             "colorbar": {
              "outlinewidth": 0,
              "ticks": ""
             }
            },
            "type": "scattermapbox"
           }
          ],
          "scatterpolar": [
           {
            "marker": {
             "colorbar": {
              "outlinewidth": 0,
              "ticks": ""
             }
            },
            "type": "scatterpolar"
           }
          ],
          "scatterpolargl": [
           {
            "marker": {
             "colorbar": {
              "outlinewidth": 0,
              "ticks": ""
             }
            },
            "type": "scatterpolargl"
           }
          ],
          "scatterternary": [
           {
            "marker": {
             "colorbar": {
              "outlinewidth": 0,
              "ticks": ""
             }
            },
            "type": "scatterternary"
           }
          ],
          "surface": [
           {
            "colorbar": {
             "outlinewidth": 0,
             "ticks": ""
            },
            "colorscale": [
             [
              0,
              "#0d0887"
             ],
             [
              0.1111111111111111,
              "#46039f"
             ],
             [
              0.2222222222222222,
              "#7201a8"
             ],
             [
              0.3333333333333333,
              "#9c179e"
             ],
             [
              0.4444444444444444,
              "#bd3786"
             ],
             [
              0.5555555555555556,
              "#d8576b"
             ],
             [
              0.6666666666666666,
              "#ed7953"
             ],
             [
              0.7777777777777778,
              "#fb9f3a"
             ],
             [
              0.8888888888888888,
              "#fdca26"
             ],
             [
              1,
              "#f0f921"
             ]
            ],
            "type": "surface"
           }
          ],
          "table": [
           {
            "cells": {
             "fill": {
              "color": "#EBF0F8"
             },
             "line": {
              "color": "white"
             }
            },
            "header": {
             "fill": {
              "color": "#C8D4E3"
             },
             "line": {
              "color": "white"
             }
            },
            "type": "table"
           }
          ]
         },
         "layout": {
          "annotationdefaults": {
           "arrowcolor": "#2a3f5f",
           "arrowhead": 0,
           "arrowwidth": 1
          },
          "autotypenumbers": "strict",
          "coloraxis": {
           "colorbar": {
            "outlinewidth": 0,
            "ticks": ""
           }
          },
          "colorscale": {
           "diverging": [
            [
             0,
             "#8e0152"
            ],
            [
             0.1,
             "#c51b7d"
            ],
            [
             0.2,
             "#de77ae"
            ],
            [
             0.3,
             "#f1b6da"
            ],
            [
             0.4,
             "#fde0ef"
            ],
            [
             0.5,
             "#f7f7f7"
            ],
            [
             0.6,
             "#e6f5d0"
            ],
            [
             0.7,
             "#b8e186"
            ],
            [
             0.8,
             "#7fbc41"
            ],
            [
             0.9,
             "#4d9221"
            ],
            [
             1,
             "#276419"
            ]
           ],
           "sequential": [
            [
             0,
             "#0d0887"
            ],
            [
             0.1111111111111111,
             "#46039f"
            ],
            [
             0.2222222222222222,
             "#7201a8"
            ],
            [
             0.3333333333333333,
             "#9c179e"
            ],
            [
             0.4444444444444444,
             "#bd3786"
            ],
            [
             0.5555555555555556,
             "#d8576b"
            ],
            [
             0.6666666666666666,
             "#ed7953"
            ],
            [
             0.7777777777777778,
             "#fb9f3a"
            ],
            [
             0.8888888888888888,
             "#fdca26"
            ],
            [
             1,
             "#f0f921"
            ]
           ],
           "sequentialminus": [
            [
             0,
             "#0d0887"
            ],
            [
             0.1111111111111111,
             "#46039f"
            ],
            [
             0.2222222222222222,
             "#7201a8"
            ],
            [
             0.3333333333333333,
             "#9c179e"
            ],
            [
             0.4444444444444444,
             "#bd3786"
            ],
            [
             0.5555555555555556,
             "#d8576b"
            ],
            [
             0.6666666666666666,
             "#ed7953"
            ],
            [
             0.7777777777777778,
             "#fb9f3a"
            ],
            [
             0.8888888888888888,
             "#fdca26"
            ],
            [
             1,
             "#f0f921"
            ]
           ]
          },
          "colorway": [
           "#636efa",
           "#EF553B",
           "#00cc96",
           "#ab63fa",
           "#FFA15A",
           "#19d3f3",
           "#FF6692",
           "#B6E880",
           "#FF97FF",
           "#FECB52"
          ],
          "font": {
           "color": "#2a3f5f"
          },
          "geo": {
           "bgcolor": "white",
           "lakecolor": "white",
           "landcolor": "#E5ECF6",
           "showlakes": true,
           "showland": true,
           "subunitcolor": "white"
          },
          "hoverlabel": {
           "align": "left"
          },
          "hovermode": "closest",
          "mapbox": {
           "style": "light"
          },
          "paper_bgcolor": "white",
          "plot_bgcolor": "#E5ECF6",
          "polar": {
           "angularaxis": {
            "gridcolor": "white",
            "linecolor": "white",
            "ticks": ""
           },
           "bgcolor": "#E5ECF6",
           "radialaxis": {
            "gridcolor": "white",
            "linecolor": "white",
            "ticks": ""
           }
          },
          "scene": {
           "xaxis": {
            "backgroundcolor": "#E5ECF6",
            "gridcolor": "white",
            "gridwidth": 2,
            "linecolor": "white",
            "showbackground": true,
            "ticks": "",
            "zerolinecolor": "white"
           },
           "yaxis": {
            "backgroundcolor": "#E5ECF6",
            "gridcolor": "white",
            "gridwidth": 2,
            "linecolor": "white",
            "showbackground": true,
            "ticks": "",
            "zerolinecolor": "white"
           },
           "zaxis": {
            "backgroundcolor": "#E5ECF6",
            "gridcolor": "white",
            "gridwidth": 2,
            "linecolor": "white",
            "showbackground": true,
            "ticks": "",
            "zerolinecolor": "white"
           }
          },
          "shapedefaults": {
           "line": {
            "color": "#2a3f5f"
           }
          },
          "ternary": {
           "aaxis": {
            "gridcolor": "white",
            "linecolor": "white",
            "ticks": ""
           },
           "baxis": {
            "gridcolor": "white",
            "linecolor": "white",
            "ticks": ""
           },
           "bgcolor": "#E5ECF6",
           "caxis": {
            "gridcolor": "white",
            "linecolor": "white",
            "ticks": ""
           }
          },
          "title": {
           "x": 0.05
          },
          "xaxis": {
           "automargin": true,
           "gridcolor": "white",
           "linecolor": "white",
           "ticks": "",
           "title": {
            "standoff": 15
           },
           "zerolinecolor": "white",
           "zerolinewidth": 2
          },
          "yaxis": {
           "automargin": true,
           "gridcolor": "white",
           "linecolor": "white",
           "ticks": "",
           "title": {
            "standoff": 15
           },
           "zerolinecolor": "white",
           "zerolinewidth": 2
          }
         }
        },
        "xaxis": {
         "anchor": "y",
         "domain": [
          0,
          1
         ],
         "title": {
          "text": "Sale Date"
         }
        },
        "yaxis": {
         "anchor": "x",
         "domain": [
          0,
          1
         ],
         "range": [
          0,
          300000
         ],
         "title": {
          "text": "Sale Amount"
         }
        }
       }
      },
      "text/html": [
       "<div>                            <div id=\"ff02ea07-2f1f-4cde-a26f-56941a0144e0\" class=\"plotly-graph-div\" style=\"height:525px; width:100%;\"></div>            <script type=\"text/javascript\">                require([\"plotly\"], function(Plotly) {                    window.PLOTLYENV=window.PLOTLYENV || {};                                    if (document.getElementById(\"ff02ea07-2f1f-4cde-a26f-56941a0144e0\")) {                    Plotly.newPlot(                        \"ff02ea07-2f1f-4cde-a26f-56941a0144e0\",                        [{\"customdata\":[[\"Skyline (R33) GT-R\"],[\"Skyline (R33) GT-R\"],[\"Skyline (R33) GT-R\"],[\"Skyline (R33) GT-R\"],[\"Skyline (R33) GT-R\"],[\"Skyline (R33) GT-R\"],[\"Skyline (R33) GT-R\"],[\"Skyline (R33) GT-R\"],[\"Skyline (R33) GT-R\"],[\"Skyline (R33) GT-R\"],[\"Skyline (R33) GT-R\"],[\"Skyline (R33) GT-R\"],[\"Skyline\"],[\"Skyline\"],[\"Skyline\"],[\"Skyline\"],[\"Skyline\"],[\"Charger R/T\"],[\"Charger R/T\"],[\"Charger R/T\"],[\"Charger R/T\"],[\"Charger R/T\"],[\"Supra\"],[\"Supra\"],[\"Supra\"],[\"Supra\"],[\"Supra\"],[\"Charger R/T\"],[\"Charger R/T\"],[\"Charger R/T\"],[\"Charger R/T\"],[\"Charger R/T\"],[\"Charger R/T\"],[\"Charger R/T\"],[\"Charger R/T\"],[\"Charger R/T\"],[\"Charger R/T\"],[\"Charger R/T\"],[\"Charger R/T\"],[\"Charger R/T\"],[\"Charger R/T\"],[\"Charger R/T\"],[\"Charger R/T\"],[\"Charger R/T\"],[\"Charger R/T\"],[\"Charger R/T\"],[\"Charger R/T\"],[\"Charger R/T\"],[\"Charger R/T\"],[\"Charger R/T\"],[\"Charger R/T\"],[\"Charger R/T\"],[\"Charger R/T\"],[\"Charger R/T\"],[\"Charger R/T\"],[\"Charger R/T\"],[\"Charger R/T\"],[\"Charger R/T\"],[\"Charger R/T\"],[\"Charger R/T\"],[\"Charger R/T\"],[\"Charger R/T\"],[\"Charger R/T\"],[\"Charger R/T\"],[\"Charger R/T\"],[\"Charger R/T\"],[\"Charger R/T\"],[\"Charger R/T\"],[\"Charger R/T\"],[\"Charger R/T\"],[\"Charger R/T\"],[\"Charger R/T\"],[\"Charger R/T\"],[\"Charger R/T\"],[\"Charger R/T\"],[\"Charger R/T\"],[\"Charger R/T\"],[\"Charger R/T\"],[\"Charger R/T\"],[\"Charger R/T\"],[\"Charger R/T\"],[\"Charger R/T\"],[\"Charger R/T\"],[\"Charger R/T\"],[\"Charger R/T\"],[\"Skyline (R33) GT-R\"],[\"Skyline (R33) GT-R\"],[\"Skyline (R33) GT-R\"],[\"Skyline (R33) GT-R\"],[\"Skyline (R33) GT-R\"],[\"Skyline (R33) GT-R\"],[\"Skyline (R33) GT-R\"],[\"Skyline (R33) GT-R\"],[\"Skyline (R33) GT-R\"],[\"Skyline (R33) GT-R\"],[\"Skyline (R33) GT-R\"],[\"Skyline (R33) GT-R\"],[\"Skyline (R33) GT-R\"],[\"Skyline (R33) GT-R\"],[\"Skyline (R33) GT-R\"],[\"Skyline (R33) GT-R\"],[\"Skyline (R33) GT-R\"],[\"Skyline (R33) GT-R\"],[\"Skyline (R33) GT-R\"],[\"Skyline (R33) GT-R\"],[\"Skyline (R33) GT-R\"],[\"Supra\"],[\"Supra\"],[\"Supra Fast and Furious Car\"],[\"Supra\"],[\"Supra\"],[\"Supra\"],[\"Supra\"],[\"Supra\"],[\"Supra\"],[\"Supra\"],[\"Supra\"],[\"Eclipse Fast and Furious\"],[\"Eclipse\"],[\"Eclipse\"],[\"Jetta Fast and Furious\"],[\"Volkswagen Jetta\"],[\"S2000\"],[\"S2000\"],[\"S2000\"],[\"S2000\"],[\"S2000\"],[\"S2000\"],[\"S2000\"],[\"S2000\"],[\"S2000\"],[\"S2000\"],[\"S2000\"],[\"S2000\"],[\"S2000\"],[\"S2000\"],[\"S2000\"],[\"S2000\"],[\"S2000\"],[\"S2000\"],[\"S2000\"],[\"S2000\"],[\"S2000\"],[\"S2000\"],[\"S2000\"],[\"S2000\"],[\"S2000\"],[\"S2000\"],[\"Integra GS-R\"],[\"Integra GS-R\"],[\"Integra GS-R\"],[\"Integra GS-R\"],[\"Integra GS-R\"],[\"Integra GS-R\"],[\"Integra GS-R\"],[\"Yenko Camaro\"],[\"Yenko Camaro\"],[\"Yenko Camaro\"],[\"Yenko Camaro\"],[\"Yenko Camaro\"],[\"Yenko Camaro\"],[\"Yenko Camaro\"],[\"Yenko Camaro\"],[\"Yenko Camaro\"],[\"Yenko Camaro\"],[\"Yenko Camaro\"],[\"Yenko Camaro\"],[\"Yenko Camaro\"],[\"Yenko Camaro\"],[\"Yenko Camaro\"],[\"Yenko Camaro\"],[\"Yenko Camaro\"],[\"Yenko Camaro\"],[\"Yenko Camaro\"],[\"Yenko Camaro\"],[\"Yenko Camaro\"],[\"Yenko Camaro\"],[\"Yenko Camaro\"],[\"Yenko Camaro\"],[\"Supra\"],[\"Supra\"],[\"Supra\"],[\"Supra\"],[\"Supra\"],[\"Supra\"],[\"Supra\"],[\"Supra\"],[\"Supra\"],[\"Supra\"],[\"Supra\"],[\"Supra\"],[\"Supra\"],[\"Supra\"],[\"Supra\"],[\"Supra\"],[\"Supra\"],[\"Lancer Evo VII\"],[\"Lancer Evo VII\"],[\"Lancer Evo VII\"],[\"Eclipse\"],[\"Eclipse\"],[\"S2000\"],[\"S2000\"],[\"S2000\"],[\"S2000\"],[\"S2000\"],[\"S2000\"],[\"S2000\"],[\"S2000\"],[\"S2000\"],[\"S2000\"],[\"S2000\"],[\"S2000\"],[\"S2000\"],[\"S2000\"],[\"S2000\"],[\"S2000\"],[\"S2000\"],[\"S2000\"],[\"S2000\"],[\"S2000\"],[\"S2000\"],[\"S2000\"],[\"S2000\"],[\"S2000\"],[\"Mustang Fastback\"],[\"Mustang Fastback\"],[\"Mustang Fastback\"],[\"Mustang Fastback\"],[\"Mustang Fastback\"],[\"Mustang Fastback\"],[\"Mustang Fastback\"],[\"Mustang Fastback\"],[\"Mustang Fastback\"],[\"Mustang Fastback\"],[\"Mustang Fastback\"],[\"Mustang Fastback\"],[\"Mustang Fastback\"],[\"Mustang Fastback\"],[\"Mustang Fastback\"],[\"Mustang Fastback\"],[\"Mustang Fastback\"],[\"Mustang Fastback\"],[\"Mustang Fastback\"],[\"Mustang Fastback\"],[\"Mustang Fastback\"],[\"Mustang Fastback\"],[\"Mustang Fastback\"],[\"Monte Carlo\"],[\"Monte Carlo\"],[\"Monte Carlo\"],[\"Monte Carlo\"],[\"Monte Carlo\"],[\"Monte Carlo\"],[\"Monte Carlo\"],[\"Monte Carlo\"],[\"Monte Carlo\"],[\"Monte Carlo\"],[\"Monte Carlo\"],[\"Monte Carlo\"],[\"Monte Carlo\"],[\"Monte Carlo\"],[\"Monte Carlo\"],[\"Monte Carlo\"],[\"Monte Carlo\"],[\"Silvia S15\"],[\"Gran Torino Sport\"],[\"Gran Torino Sport\"],[\"Gran Torino Sport\"],[\"Gran Torino Sport\"],[\"Gran Torino Sport\"],[\"Gran Torino Sport\"],[\"Gran Torino Sport\"],[\"Gran Torino Sport\"],[\"Gran Torino Sport\"],[\"Gran Torino Sport\"],[\"Gran Torino Sport\"],[\"Camaro RS Z28\"],[\"Camaro RS Z28\"],[\"Camaro RS Z28\"],[\"Camaro RS Z28\"],[\"Camaro RS Z28\"],[\"Camaro RS Z28\"],[\"Camaro RS Z28\"],[\"Camaro RS Z28\"],[\"540i\"],[\"540i\"],[\"540i\"],[\"540i\"],[\"540i\"],[\"540i\"],[\"540i\"],[\"540i\"],[\"540i\"],[\"540i\"],[\"540i\"],[\"Impreza WRX STI\"],[\"Impreza WRX STI\"],[\"Impreza WRX STI\"],[\"Corvette Stingray\"],[\"Corvette Stingray\"],[\"Armored Vehicle\"],[\"GT40\"],[\"GT40\"],[\"GT40 Replica\"],[\"GT40 Replica\"],[\"Mustang Fastback\"],[\"Mustang Fastback\"],[\"Mustang Fastback\"],[\"Mustang Fastback\"],[\"Mustang Fastback\"],[\"Mustang Fastback\"],[\"Interceptor\"],[\"Interceptor\"],[\"Interceptor\"],[\"Interceptor\"],[\"Interceptor\"],[\"Interceptor\"],[\"Interceptor\"],[\"Charger Daytona\"],[\"Charger Daytona\"],[\"Charger Daytona\"],[\"Charger Daytona\"]],\"hovertemplate\":\"Sale Date=%{x}<br>Sale Amount=%{y}<br>Model=%{customdata[0]}<br>Year=%{marker.color}<extra></extra>\",\"legendgroup\":\"\",\"marker\":{\"color\":[1996,1996,1996,1996,1996,1996,1996,1996,1995,1996,1995,1995,1971,1971,1971,1971,1971,1970,1970,1970,1970,1970,1994,1994,1994,1994,1994,1970,1970,1970,1970,1970,1970,1970,1970,1970,1970,1970,1970,1970,1970,1970,1970,1970,1970,1970,1970,1970,1970,1970,1970,1970,1970,1970,1970,1970,1970,1970,1970,1970,1970,1970,1970,1970,1970,1970,1970,1970,1970,1970,1970,1970,1970,1970,1970,1970,1970,1970,1970,1970,1970,1970,1970,1970,1970,1996,1996,1996,1995,1995,1995,1995,1995,1995,1995,1995,1995,1995,1995,1995,1995,1995,1995,1995,1995,1995,1994,1994,1994,1994,1994,1994,1994,1994,1994,1994,1994,1995,1995,1995,1995,1995,2000,2000,2000,2000,2000,2000,2000,2000,2000,2000,2000,2000,2000,2000,2000,2000,2000,2000,2000,2000,2000,2000,2000,2000,2000,2000,1994,1994,1994,1994,1994,1994,1994,1969,1969,1969,1969,1969,1969,1969,1969,1969,1969,1969,1969,1969,1969,1969,1969,1969,1969,1969,1969,1969,1969,1969,1969,1993,1993,1993,1993,1993,1993,1993,1993,1993,1993,1993,1993,1993,1993,1993,1993,1993,2002,2002,2002,2003,2003,2001,2001,2001,2001,2001,2001,2001,2001,2001,2001,2001,2001,2001,2001,2001,2001,2001,2001,2001,2001,2001,2001,2001,2001,1967,1967,1967,1967,1967,1967,1967,1967,1967,1967,1967,1967,1967,1967,1967,1967,1967,1967,1967,1967,1967,1967,1967,1971,1971,1971,1971,1971,1971,1971,1971,1971,1971,1971,1971,1971,1971,1971,1971,1971,2001,1972,1972,1972,1972,1972,1972,1972,1972,1972,1972,1972,1973,1973,1973,1973,1973,1973,1973,1973,2001,2001,2001,2001,2001,2001,2001,2001,2001,2001,2001,2009,2009,2009,1966,1966,2012,1965,1965,1965,1965,1969,1969,1969,1969,1969,1969,1971,1971,1971,1971,1971,1971,1971,1969,1969,1969,1969],\"coloraxis\":\"coloraxis\",\"symbol\":\"circle\"},\"mode\":\"markers\",\"name\":\"\",\"orientation\":\"v\",\"showlegend\":false,\"x\":[\"2022-05-10T00:00:00\",\"2022-01-26T00:00:00\",\"2021-10-21T00:00:00\",\"2021-07-13T00:00:00\",\"2021-06-22T00:00:00\",\"2017-11-11T00:00:00\",\"2017-09-06T00:00:00\",\"2022-06-29T00:00:00\",\"2022-05-13T00:00:00\",\"2022-05-01T00:00:00\",\"2022-04-21T00:00:00\",\"2022-03-29T00:00:00\",\"2022-01-16T00:00:00\",\"2021-08-23T00:00:00\",\"2019-02-04T00:00:00\",\"2018-08-23T00:00:00\",\"2017-01-23T00:00:00\",\"2022-07-15T00:00:00\",\"2022-06-30T00:00:00\",\"2022-05-02T00:00:00\",\"2022-04-09T00:00:00\",\"2022-01-29T00:00:00\",\"2022-07-02T00:00:00\",\"2022-05-29T00:00:00\",\"2022-05-19T00:00:00\",\"2022-05-08T00:00:00\",\"2022-05-01T00:00:00\",\"2021-09-04T00:00:00\",\"2021-09-04T00:00:00\",\"2021-07-31T00:00:00\",\"2021-06-19T00:00:00\",\"2021-05-22T00:00:00\",\"2021-03-26T00:00:00\",\"2020-10-01T00:00:00\",\"2020-04-01T00:00:00\",\"2020-03-31T00:00:00\",\"2020-01-10T00:00:00\",\"2020-01-09T00:00:00\",\"2019-10-26T00:00:00\",\"2019-10-12T00:00:00\",\"2019-10-05T00:00:00\",\"2019-10-04T00:00:00\",\"2019-09-06T00:00:00\",\"2019-03-09T00:00:00\",\"2019-01-18T00:00:00\",\"2019-01-20T00:00:00\",\"2019-01-17T00:00:00\",\"2018-10-04T00:00:00\",\"2018-06-23T00:00:00\",\"2018-05-18T00:00:00\",\"2018-05-18T00:00:00\",\"2018-04-13T00:00:00\",\"2018-01-19T00:00:00\",\"2018-01-13T00:00:00\",\"2018-01-13T00:00:00\",\"2018-01-11T00:00:00\",\"2018-01-06T00:00:00\",\"2017-10-07T00:00:00\",\"2017-05-20T00:00:00\",\"2017-05-20T00:00:00\",\"2017-05-19T00:00:00\",\"2017-01-20T00:00:00\",\"2017-01-14T00:00:00\",\"2017-01-14T00:00:00\",\"2017-01-08T00:00:00\",\"2016-06-18T00:00:00\",\"2016-04-15T00:00:00\",\"2016-04-15T00:00:00\",\"2016-01-21T00:00:00\",\"2015-10-23T00:00:00\",\"2015-10-09T00:00:00\",\"2015-04-24T00:00:00\",\"2015-01-24T00:00:00\",\"2015-01-21T00:00:00\",\"2015-01-17T00:00:00\",\"2015-01-16T00:00:00\",\"2015-01-14T00:00:00\",\"2015-01-14T00:00:00\",\"2015-01-13T00:00:00\",\"2014-05-17T00:00:00\",\"2014-05-10T00:00:00\",\"2014-04-12T00:00:00\",\"2014-01-19T00:00:00\",\"2014-01-15T00:00:00\",\"2014-01-15T00:00:00\",\"2022-02-08T00:00:00\",\"2021-05-22T00:00:00\",\"2017-03-04T00:00:00\",\"2022-02-08T00:00:00\",\"2022-02-04T00:00:00\",\"2022-01-21T00:00:00\",\"2022-01-14T00:00:00\",\"2021-12-30T00:00:00\",\"2021-12-15T00:00:00\",\"2021-12-08T00:00:00\",\"2021-11-13T00:00:00\",\"2021-08-24T00:00:00\",\"2021-08-14T00:00:00\",\"2021-06-18T00:00:00\",\"2021-05-20T00:00:00\",\"2021-05-18T00:00:00\",\"2021-05-11T00:00:00\",\"2021-05-04T00:00:00\",\"2021-04-03T00:00:00\",\"2021-03-12T00:00:00\",\"2021-01-09T00:00:00\",\"2022-02-16T00:00:00\",\"2021-10-20T00:00:00\",\"2021-06-19T00:00:00\",\"2020-01-18T00:00:00\",\"2020-12-15T00:00:00\",\"2020-11-27T00:00:00\",\"2019-11-19T00:00:00\",\"2019-06-01T00:00:00\",\"2018-04-13T00:00:00\",\"2016-09-04T00:00:00\",\"2016-01-26T00:00:00\",\"2022-01-14T00:00:00\",\"2017-06-28T00:00:00\",\"2022-06-02T00:00:00\",\"2016-01-21T00:00:00\",\"2021-01-26T00:00:00\",\"2022-07-09T00:00:00\",\"2022-07-07T00:00:00\",\"2022-06-17T00:00:00\",\"2022-06-17T00:00:00\",\"2022-06-04T00:00:00\",\"2022-05-30T00:00:00\",\"2022-01-09T00:00:00\",\"2021-10-23T00:00:00\",\"2021-07-08T00:00:00\",\"2021-07-08T00:00:00\",\"2021-04-30T00:00:00\",\"2020-11-25T00:00:00\",\"2020-10-01T00:00:00\",\"2020-08-26T00:00:00\",\"2020-06-22T00:00:00\",\"2020-01-16T00:00:00\",\"2019-09-17T00:00:00\",\"2019-08-02T00:00:00\",\"2019-07-13T00:00:00\",\"2018-11-27T00:00:00\",\"2018-11-06T00:00:00\",\"2018-03-02T00:00:00\",\"2017-08-14T00:00:00\",\"2017-05-24T00:00:00\",\"2017-01-31T00:00:00\",\"2015-09-02T00:00:00\",\"2022-05-21T00:00:00\",\"2022-03-13T00:00:00\",\"2021-08-05T00:00:00\",\"2021-01-14T00:00:00\",\"2018-10-19T00:00:00\",\"2018-02-09T00:00:00\",\"2017-12-15T00:00:00\",\"2021-01-16T00:00:00\",\"2021-01-15T00:00:00\",\"2020-03-13T00:00:00\",\"2020-01-10T00:00:00\",\"2019-08-03T00:00:00\",\"2019-03-15T00:00:00\",\"2019-01-11T00:00:00\",\"2018-10-27T00:00:00\",\"2018-08-23T00:00:00\",\"2018-04-07T00:00:00\",\"2017-09-09T00:00:00\",\"2017-05-19T00:00:00\",\"2017-05-19T00:00:00\",\"2016-08-19T00:00:00\",\"2016-05-21T00:00:00\",\"2016-05-21T00:00:00\",\"2016-06-30T00:00:00\",\"2016-01-22T00:00:00\",\"2016-01-22T00:00:00\",\"2016-01-22T00:00:00\",\"2015-04-24T00:00:00\",\"2015-01-17T00:00:00\",\"2014-09-06T00:00:00\",\"2014-01-25T00:00:00\",\"2022-05-30T00:00:00\",\"2022-03-25T00:00:00\",\"2021-09-18T00:00:00\",\"2021-03-28T00:00:00\",\"2021-03-02T00:00:00\",\"2020-10-24T00:00:00\",\"2020-03-06T00:00:00\",\"2020-02-10T00:00:00\",\"2019-12-11T00:00:00\",\"2019-12-04T00:00:00\",\"2019-08-16T00:00:00\",\"2019-06-21T00:00:00\",\"2019-06-14T00:00:00\",\"2019-04-04T00:00:00\",\"2018-12-07T00:00:00\",\"2018-06-28T00:00:00\",\"2018-03-21T00:00:00\",\"2021-12-08T00:00:00\",\"2021-07-30T00:00:00\",\"2020-06-27T00:00:00\",\"2020-02-02T00:00:00\",\"2022-06-06T00:00:00\",\"2022-08-05T00:00:00\",\"2022-07-26T00:00:00\",\"2022-07-21T00:00:00\",\"2022-07-09T00:00:00\",\"2022-01-06T00:00:00\",\"2021-12-07T00:00:00\",\"2021-10-24T00:00:00\",\"2021-08-01T00:00:00\",\"2021-07-25T00:00:00\",\"2021-07-05T00:00:00\",\"2021-06-30T00:00:00\",\"2021-01-07T00:00:00\",\"2020-12-03T00:00:00\",\"2020-11-18T00:00:00\",\"2019-08-14T00:00:00\",\"2019-07-26T00:00:00\",\"2019-06-03T00:00:00\",\"2018-10-27T00:00:00\",\"2018-10-22T00:00:00\",\"2018-10-15T00:00:00\",\"2017-07-12T00:00:00\",\"2016-09-04T00:00:00\",\"2016-07-06T00:00:00\",\"2015-10-01T00:00:00\",\"2022-07-29T00:00:00\",\"2022-07-29T00:00:00\",\"2021-03-25T00:00:00\",\"2021-01-28T00:00:00\",\"2021-05-16T00:00:00\",\"2020-11-19T00:00:00\",\"2020-11-14T00:00:00\",\"2020-10-17T00:00:00\",\"2019-08-03T00:00:00\",\"2019-07-01T00:00:00\",\"2019-05-17T00:00:00\",\"2018-09-28T00:00:00\",\"2018-09-02T00:00:00\",\"2018-08-04T00:00:00\",\"2017-07-22T00:00:00\",\"2017-07-20T00:00:00\",\"2017-06-24T00:00:00\",\"2016-10-14T00:00:00\",\"2016-05-20T00:00:00\",\"2014-05-17T00:00:00\",\"2014-05-15T00:00:00\",\"2014-04-13T00:00:00\",\"2015-04-17T00:00:00\",\"2022-07-27T00:00:00\",\"2022-07-22T00:00:00\",\"2022-03-10T00:00:00\",\"2022-01-26T00:00:00\",\"2021-07-30T00:00:00\",\"2020-10-23T00:00:00\",\"2020-03-12T00:00:00\",\"2019-10-11T00:00:00\",\"2019-06-28T00:00:00\",\"2018-05-19T00:00:00\",\"2018-01-09T00:00:00\",\"2017-08-04T00:00:00\",\"2017-08-03T00:00:00\",\"2015-09-17T00:00:00\",\"2015-04-10T00:00:00\",\"2014-09-03T00:00:00\",\"2014-08-31T00:00:00\",\"2021-10-18T00:00:00\",\"2022-07-08T00:00:00\",\"2022-04-25T00:00:00\",\"2021-04-08T00:00:00\",\"2019-08-03T00:00:00\",\"2018-09-25T00:00:00\",\"2016-10-15T00:00:00\",\"2016-08-19T00:00:00\",\"2016-01-27T00:00:00\",\"2015-07-30T00:00:00\",\"2014-08-31T00:00:00\",\"2014-06-19T00:00:00\",\"2022-01-07T00:00:00\",\"2021-05-21T00:00:00\",\"2020-10-30T00:00:00\",\"2020-01-17T00:00:00\",\"2020-01-16T00:00:00\",\"2019-09-20T00:00:00\",\"2016-04-08T00:00:00\",\"2014-10-11T00:00:00\",\"2022-06-25T00:00:00\",\"2022-05-08T00:00:00\",\"2022-04-12T00:00:00\",\"2021-12-01T00:00:00\",\"2021-10-26T00:00:00\",\"2020-11-05T00:00:00\",\"2020-10-28T00:00:00\",\"2018-03-14T00:00:00\",\"2017-11-24T00:00:00\",\"2016-12-19T00:00:00\",\"2016-09-26T00:00:00\",\"2022-04-28T00:00:00\",\"2021-05-31T00:00:00\",\"2017-11-16T00:00:00\",\"2022-07-23T00:00:00\",\"2015-03-12T00:00:00\",\"2018-11-16T00:00:00\",\"2019-08-16T00:00:00\",\"2014-08-16T00:00:00\",\"2022-01-29T00:00:00\",\"2014-11-15T00:00:00\",\"2022-07-30T00:00:00\",\"2011-08-19T00:00:00\",\"2020-01-08T00:00:00\",\"2018-04-13T00:00:00\",\"2016-12-03T00:00:00\",\"2015-01-15T00:00:00\",\"2022-05-28T00:00:00\",\"2021-12-14T00:00:00\",\"2021-04-20T00:00:00\",\"2020-10-23T00:00:00\",\"2020-01-28T00:00:00\",\"2017-02-13T00:00:00\",\"2016-12-12T00:00:00\",\"2021-05-26T00:00:00\",\"2021-03-27T00:00:00\",\"2018-01-17T00:00:00\",\"2016-01-27T00:00:00\"],\"xaxis\":\"x\",\"y\":[140000,221500,100000,310000,315187,29000,25300,63500,58000,57500,49995,83500,129000,95959,63500,75900,126000,67500,85800,104000,119900,132000,122000,40050,140000,98500,72000,89600,62150,82500,72600,352000,74800,65000,117500,75000,88000,88000,45100,84700,137000,47300,92400,72500,132000,84700,94600,40700,154000,66000,89100,63800,143000,82500,104500,47300,75900,70000,70000,90000,42500,130900,55000,61000,49000,85000,107500,37000,54000,132000,38000,38000,52000,44000,71500,66000,48400,51700,220000,125000,42900,60500,58300,55000,52930,46000,60750,18112,105000,54500,53133,59033,51250,75000,68500,43875,61000,235000,62000,66000,64500,37750,52500,62000,59000,88000,32250,44500,550000,85800,71000,66500,76000,53000,50600,68200,31350,155000,1600,34200,46200,5350,23250,33750,28550,20550,26000,36000,27050,31500,42500,27500,18250,20500,23500,23250,31000,27500,10750,18250,20900,27000,48000,29000,20555,9375,19000,22000,20000,15250,5200,6500,7400,12500,8002,308000,308000,173250,165000,258500,231000,220000,192500,165000,99000,175000,330000,212500,280000,260000,225000,330000,330000,225000,300000,209000,264000,285000,235000,97000,176000,110000,47250,73000,68200,137200,62493,59000,49000,89600,57500,55500,128000,43750,80700,40999,19000,22050,14300,2420,415,35250,33500,40000,24000,26000,21250,27500,45250,37500,30200,18450,27500,22000,23750,21000,18250,20500,15950,22472,23250,18500,13700,29388,17500,63000,79000,66000,55000,75900,47500,148500,46200,66000,34500,95700,52800,56100,39600,41000,27500,79200,61600,36000,50000,28500,35200,50600,26500,31000,29000,50600,30800,29700,33000,24200,19800,11000,37400,15000,12000,10000,18000,9500,8800,42009,29000,8900,30800,27500,47500,84700,24500,29700,37000,19800,16500,55000,47300,29700,50600,44000,36500,41800,22500,14000,21000,6800,6500,7200,4300,9200,11355,7500,10000,9100,20500,13500,18500,106000,82500,198000,7650000,6930000,209000,100000,100000,19000,41800,84700,67000,40700,51187,51505,33250,53760,29500,20000,10600,245000,236500,198000,159500],\"yaxis\":\"y\",\"type\":\"scatter\"}],                        {\"template\":{\"data\":{\"histogram2dcontour\":[{\"type\":\"histogram2dcontour\",\"colorbar\":{\"outlinewidth\":0,\"ticks\":\"\"},\"colorscale\":[[0.0,\"#0d0887\"],[0.1111111111111111,\"#46039f\"],[0.2222222222222222,\"#7201a8\"],[0.3333333333333333,\"#9c179e\"],[0.4444444444444444,\"#bd3786\"],[0.5555555555555556,\"#d8576b\"],[0.6666666666666666,\"#ed7953\"],[0.7777777777777778,\"#fb9f3a\"],[0.8888888888888888,\"#fdca26\"],[1.0,\"#f0f921\"]]}],\"choropleth\":[{\"type\":\"choropleth\",\"colorbar\":{\"outlinewidth\":0,\"ticks\":\"\"}}],\"histogram2d\":[{\"type\":\"histogram2d\",\"colorbar\":{\"outlinewidth\":0,\"ticks\":\"\"},\"colorscale\":[[0.0,\"#0d0887\"],[0.1111111111111111,\"#46039f\"],[0.2222222222222222,\"#7201a8\"],[0.3333333333333333,\"#9c179e\"],[0.4444444444444444,\"#bd3786\"],[0.5555555555555556,\"#d8576b\"],[0.6666666666666666,\"#ed7953\"],[0.7777777777777778,\"#fb9f3a\"],[0.8888888888888888,\"#fdca26\"],[1.0,\"#f0f921\"]]}],\"heatmap\":[{\"type\":\"heatmap\",\"colorbar\":{\"outlinewidth\":0,\"ticks\":\"\"},\"colorscale\":[[0.0,\"#0d0887\"],[0.1111111111111111,\"#46039f\"],[0.2222222222222222,\"#7201a8\"],[0.3333333333333333,\"#9c179e\"],[0.4444444444444444,\"#bd3786\"],[0.5555555555555556,\"#d8576b\"],[0.6666666666666666,\"#ed7953\"],[0.7777777777777778,\"#fb9f3a\"],[0.8888888888888888,\"#fdca26\"],[1.0,\"#f0f921\"]]}],\"heatmapgl\":[{\"type\":\"heatmapgl\",\"colorbar\":{\"outlinewidth\":0,\"ticks\":\"\"},\"colorscale\":[[0.0,\"#0d0887\"],[0.1111111111111111,\"#46039f\"],[0.2222222222222222,\"#7201a8\"],[0.3333333333333333,\"#9c179e\"],[0.4444444444444444,\"#bd3786\"],[0.5555555555555556,\"#d8576b\"],[0.6666666666666666,\"#ed7953\"],[0.7777777777777778,\"#fb9f3a\"],[0.8888888888888888,\"#fdca26\"],[1.0,\"#f0f921\"]]}],\"contourcarpet\":[{\"type\":\"contourcarpet\",\"colorbar\":{\"outlinewidth\":0,\"ticks\":\"\"}}],\"contour\":[{\"type\":\"contour\",\"colorbar\":{\"outlinewidth\":0,\"ticks\":\"\"},\"colorscale\":[[0.0,\"#0d0887\"],[0.1111111111111111,\"#46039f\"],[0.2222222222222222,\"#7201a8\"],[0.3333333333333333,\"#9c179e\"],[0.4444444444444444,\"#bd3786\"],[0.5555555555555556,\"#d8576b\"],[0.6666666666666666,\"#ed7953\"],[0.7777777777777778,\"#fb9f3a\"],[0.8888888888888888,\"#fdca26\"],[1.0,\"#f0f921\"]]}],\"surface\":[{\"type\":\"surface\",\"colorbar\":{\"outlinewidth\":0,\"ticks\":\"\"},\"colorscale\":[[0.0,\"#0d0887\"],[0.1111111111111111,\"#46039f\"],[0.2222222222222222,\"#7201a8\"],[0.3333333333333333,\"#9c179e\"],[0.4444444444444444,\"#bd3786\"],[0.5555555555555556,\"#d8576b\"],[0.6666666666666666,\"#ed7953\"],[0.7777777777777778,\"#fb9f3a\"],[0.8888888888888888,\"#fdca26\"],[1.0,\"#f0f921\"]]}],\"mesh3d\":[{\"type\":\"mesh3d\",\"colorbar\":{\"outlinewidth\":0,\"ticks\":\"\"}}],\"scatter\":[{\"fillpattern\":{\"fillmode\":\"overlay\",\"size\":10,\"solidity\":0.2},\"type\":\"scatter\"}],\"parcoords\":[{\"type\":\"parcoords\",\"line\":{\"colorbar\":{\"outlinewidth\":0,\"ticks\":\"\"}}}],\"scatterpolargl\":[{\"type\":\"scatterpolargl\",\"marker\":{\"colorbar\":{\"outlinewidth\":0,\"ticks\":\"\"}}}],\"bar\":[{\"error_x\":{\"color\":\"#2a3f5f\"},\"error_y\":{\"color\":\"#2a3f5f\"},\"marker\":{\"line\":{\"color\":\"#E5ECF6\",\"width\":0.5},\"pattern\":{\"fillmode\":\"overlay\",\"size\":10,\"solidity\":0.2}},\"type\":\"bar\"}],\"scattergeo\":[{\"type\":\"scattergeo\",\"marker\":{\"colorbar\":{\"outlinewidth\":0,\"ticks\":\"\"}}}],\"scatterpolar\":[{\"type\":\"scatterpolar\",\"marker\":{\"colorbar\":{\"outlinewidth\":0,\"ticks\":\"\"}}}],\"histogram\":[{\"marker\":{\"pattern\":{\"fillmode\":\"overlay\",\"size\":10,\"solidity\":0.2}},\"type\":\"histogram\"}],\"scattergl\":[{\"type\":\"scattergl\",\"marker\":{\"colorbar\":{\"outlinewidth\":0,\"ticks\":\"\"}}}],\"scatter3d\":[{\"type\":\"scatter3d\",\"line\":{\"colorbar\":{\"outlinewidth\":0,\"ticks\":\"\"}},\"marker\":{\"colorbar\":{\"outlinewidth\":0,\"ticks\":\"\"}}}],\"scattermapbox\":[{\"type\":\"scattermapbox\",\"marker\":{\"colorbar\":{\"outlinewidth\":0,\"ticks\":\"\"}}}],\"scatterternary\":[{\"type\":\"scatterternary\",\"marker\":{\"colorbar\":{\"outlinewidth\":0,\"ticks\":\"\"}}}],\"scattercarpet\":[{\"type\":\"scattercarpet\",\"marker\":{\"colorbar\":{\"outlinewidth\":0,\"ticks\":\"\"}}}],\"carpet\":[{\"aaxis\":{\"endlinecolor\":\"#2a3f5f\",\"gridcolor\":\"white\",\"linecolor\":\"white\",\"minorgridcolor\":\"white\",\"startlinecolor\":\"#2a3f5f\"},\"baxis\":{\"endlinecolor\":\"#2a3f5f\",\"gridcolor\":\"white\",\"linecolor\":\"white\",\"minorgridcolor\":\"white\",\"startlinecolor\":\"#2a3f5f\"},\"type\":\"carpet\"}],\"table\":[{\"cells\":{\"fill\":{\"color\":\"#EBF0F8\"},\"line\":{\"color\":\"white\"}},\"header\":{\"fill\":{\"color\":\"#C8D4E3\"},\"line\":{\"color\":\"white\"}},\"type\":\"table\"}],\"barpolar\":[{\"marker\":{\"line\":{\"color\":\"#E5ECF6\",\"width\":0.5},\"pattern\":{\"fillmode\":\"overlay\",\"size\":10,\"solidity\":0.2}},\"type\":\"barpolar\"}],\"pie\":[{\"automargin\":true,\"type\":\"pie\"}]},\"layout\":{\"autotypenumbers\":\"strict\",\"colorway\":[\"#636efa\",\"#EF553B\",\"#00cc96\",\"#ab63fa\",\"#FFA15A\",\"#19d3f3\",\"#FF6692\",\"#B6E880\",\"#FF97FF\",\"#FECB52\"],\"font\":{\"color\":\"#2a3f5f\"},\"hovermode\":\"closest\",\"hoverlabel\":{\"align\":\"left\"},\"paper_bgcolor\":\"white\",\"plot_bgcolor\":\"#E5ECF6\",\"polar\":{\"bgcolor\":\"#E5ECF6\",\"angularaxis\":{\"gridcolor\":\"white\",\"linecolor\":\"white\",\"ticks\":\"\"},\"radialaxis\":{\"gridcolor\":\"white\",\"linecolor\":\"white\",\"ticks\":\"\"}},\"ternary\":{\"bgcolor\":\"#E5ECF6\",\"aaxis\":{\"gridcolor\":\"white\",\"linecolor\":\"white\",\"ticks\":\"\"},\"baxis\":{\"gridcolor\":\"white\",\"linecolor\":\"white\",\"ticks\":\"\"},\"caxis\":{\"gridcolor\":\"white\",\"linecolor\":\"white\",\"ticks\":\"\"}},\"coloraxis\":{\"colorbar\":{\"outlinewidth\":0,\"ticks\":\"\"}},\"colorscale\":{\"sequential\":[[0.0,\"#0d0887\"],[0.1111111111111111,\"#46039f\"],[0.2222222222222222,\"#7201a8\"],[0.3333333333333333,\"#9c179e\"],[0.4444444444444444,\"#bd3786\"],[0.5555555555555556,\"#d8576b\"],[0.6666666666666666,\"#ed7953\"],[0.7777777777777778,\"#fb9f3a\"],[0.8888888888888888,\"#fdca26\"],[1.0,\"#f0f921\"]],\"sequentialminus\":[[0.0,\"#0d0887\"],[0.1111111111111111,\"#46039f\"],[0.2222222222222222,\"#7201a8\"],[0.3333333333333333,\"#9c179e\"],[0.4444444444444444,\"#bd3786\"],[0.5555555555555556,\"#d8576b\"],[0.6666666666666666,\"#ed7953\"],[0.7777777777777778,\"#fb9f3a\"],[0.8888888888888888,\"#fdca26\"],[1.0,\"#f0f921\"]],\"diverging\":[[0,\"#8e0152\"],[0.1,\"#c51b7d\"],[0.2,\"#de77ae\"],[0.3,\"#f1b6da\"],[0.4,\"#fde0ef\"],[0.5,\"#f7f7f7\"],[0.6,\"#e6f5d0\"],[0.7,\"#b8e186\"],[0.8,\"#7fbc41\"],[0.9,\"#4d9221\"],[1,\"#276419\"]]},\"xaxis\":{\"gridcolor\":\"white\",\"linecolor\":\"white\",\"ticks\":\"\",\"title\":{\"standoff\":15},\"zerolinecolor\":\"white\",\"automargin\":true,\"zerolinewidth\":2},\"yaxis\":{\"gridcolor\":\"white\",\"linecolor\":\"white\",\"ticks\":\"\",\"title\":{\"standoff\":15},\"zerolinecolor\":\"white\",\"automargin\":true,\"zerolinewidth\":2},\"scene\":{\"xaxis\":{\"backgroundcolor\":\"#E5ECF6\",\"gridcolor\":\"white\",\"linecolor\":\"white\",\"showbackground\":true,\"ticks\":\"\",\"zerolinecolor\":\"white\",\"gridwidth\":2},\"yaxis\":{\"backgroundcolor\":\"#E5ECF6\",\"gridcolor\":\"white\",\"linecolor\":\"white\",\"showbackground\":true,\"ticks\":\"\",\"zerolinecolor\":\"white\",\"gridwidth\":2},\"zaxis\":{\"backgroundcolor\":\"#E5ECF6\",\"gridcolor\":\"white\",\"linecolor\":\"white\",\"showbackground\":true,\"ticks\":\"\",\"zerolinecolor\":\"white\",\"gridwidth\":2}},\"shapedefaults\":{\"line\":{\"color\":\"#2a3f5f\"}},\"annotationdefaults\":{\"arrowcolor\":\"#2a3f5f\",\"arrowhead\":0,\"arrowwidth\":1},\"geo\":{\"bgcolor\":\"white\",\"landcolor\":\"#E5ECF6\",\"subunitcolor\":\"white\",\"showland\":true,\"showlakes\":true,\"lakecolor\":\"white\"},\"title\":{\"x\":0.05},\"mapbox\":{\"style\":\"light\"}}},\"xaxis\":{\"anchor\":\"y\",\"domain\":[0.0,1.0],\"title\":{\"text\":\"Sale Date\"}},\"yaxis\":{\"anchor\":\"x\",\"domain\":[0.0,1.0],\"title\":{\"text\":\"Sale Amount\"},\"range\":[0,300000]},\"coloraxis\":{\"colorbar\":{\"title\":{\"text\":\"Year\"}},\"colorscale\":[[0.0,\"#0d0887\"],[0.1111111111111111,\"#46039f\"],[0.2222222222222222,\"#7201a8\"],[0.3333333333333333,\"#9c179e\"],[0.4444444444444444,\"#bd3786\"],[0.5555555555555556,\"#d8576b\"],[0.6666666666666666,\"#ed7953\"],[0.7777777777777778,\"#fb9f3a\"],[0.8888888888888888,\"#fdca26\"],[1.0,\"#f0f921\"]]},\"legend\":{\"tracegroupgap\":0},\"margin\":{\"t\":60}},                        {\"responsive\": true}                    ).then(function(){\n",
       "                            \n",
       "var gd = document.getElementById('ff02ea07-2f1f-4cde-a26f-56941a0144e0');\n",
       "var x = new MutationObserver(function (mutations, observer) {{\n",
       "        var display = window.getComputedStyle(gd).display;\n",
       "        if (!display || display === 'none') {{\n",
       "            console.log([gd, 'removed!']);\n",
       "            Plotly.purge(gd);\n",
       "            observer.disconnect();\n",
       "        }}\n",
       "}});\n",
       "\n",
       "// Listen for the removal of the full notebook cells\n",
       "var notebookContainer = gd.closest('#notebook-container');\n",
       "if (notebookContainer) {{\n",
       "    x.observe(notebookContainer, {childList: true});\n",
       "}}\n",
       "\n",
       "// Listen for the clearing of the current output cell\n",
       "var outputEl = gd.closest('.output');\n",
       "if (outputEl) {{\n",
       "    x.observe(outputEl, {childList: true});\n",
       "}}\n",
       "\n",
       "                        })                };                });            </script>        </div>"
      ]
     },
     "metadata": {},
     "output_type": "display_data"
    }
   ],
   "source": [
    "import plotly.express as px\n",
    "\n",
    "fig = px.scatter(car_sales, x=\"Sale Date\", y=\"Sale Amount\", color=\"Year\", hover_data=['Model'])\n",
    "fig.update_layout(yaxis_range=[0, 300000])\n",
    "\n",
    "fig.show()\n",
    "\n",
    "#fig = px.scatter(car_sales, x=\"Sale Date\", y=\"Sale Amount\", color=\"Year\",\n",
    "                 #size='petal_length', hover_data=['Model'])\n"
   ]
  },
  {
   "cell_type": "code",
   "execution_count": null,
   "id": "477ba46f",
   "metadata": {},
   "outputs": [],
   "source": []
  }
 ],
 "metadata": {
  "kernelspec": {
   "display_name": "Python 3 (ipykernel)",
   "language": "python",
   "name": "python3"
  },
  "language_info": {
   "codemirror_mode": {
    "name": "ipython",
    "version": 3
   },
   "file_extension": ".py",
   "mimetype": "text/x-python",
   "name": "python",
   "nbconvert_exporter": "python",
   "pygments_lexer": "ipython3",
   "version": "3.10.5"
  }
 },
 "nbformat": 4,
 "nbformat_minor": 5
}
